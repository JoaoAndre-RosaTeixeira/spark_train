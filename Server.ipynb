{
 "cells": [
  {
   "cell_type": "code",
   "execution_count": 1,
   "id": "a896da46-c9f2-4b13-9113-97ffe091e4ab",
   "metadata": {},
   "outputs": [],
   "source": [
    "from flask import Flask, request, render_template, jsonify, redirect\n",
    "from jinja2 import TemplateNotFound\n",
    "\n",
    "from RequestSQL import Request_SQL"
   ]
  },
  {
   "cell_type": "code",
   "execution_count": 2,
   "id": "3fe603b2-09dc-4992-b305-4702d3acbc68",
   "metadata": {
    "tags": []
   },
   "outputs": [],
   "source": [
    "data_sql = Request_SQL(spark = \"temp_hero_test\", files = [\"hero.csv\", \"armor.csv\", \"weapon.csv\"])"
   ]
  },
  {
   "cell_type": "code",
   "execution_count": 4,
   "id": "bf395ec4-16f0-48bb-a4d5-ce9120ff043a",
   "metadata": {
    "tags": []
   },
   "outputs": [
    {
     "name": "stdout",
     "output_type": "stream",
     "text": [
      " * Serving Flask app 'cheat spark'\n",
      " * Debug mode: off\n"
     ]
    },
    {
     "name": "stderr",
     "output_type": "stream",
     "text": [
      "WARNING: This is a development server. Do not use it in a production deployment. Use a production WSGI server instead.\n",
      " * Running on http://localhost:5000\n",
      "Press CTRL+C to quit\n",
      "127.0.0.1 - - [16/May/2023 13:34:43] \"GET / HTTP/1.1\" 200 -\n",
      "127.0.0.1 - - [16/May/2023 13:34:43] \"GET /static/style/style.css HTTP/1.1\" 304 -\n",
      "127.0.0.1 - - [16/May/2023 13:34:43] \"GET /static/script/select_form.js HTTP/1.1\" 304 -\n",
      "127.0.0.1 - - [16/May/2023 13:34:43] \"GET /static/script/index.js HTTP/1.1\" 304 -\n",
      "127.0.0.1 - - [16/May/2023 13:34:45] \"GET / HTTP/1.1\" 200 -\n",
      "127.0.0.1 - - [16/May/2023 13:34:45] \"GET /static/style/style.css HTTP/1.1\" 304 -\n",
      "127.0.0.1 - - [16/May/2023 13:34:45] \"GET /static/script/select_form.js HTTP/1.1\" 304 -\n",
      "127.0.0.1 - - [16/May/2023 13:34:45] \"GET /static/script/index.js HTTP/1.1\" 304 -\n",
      "127.0.0.1 - - [16/May/2023 13:37:24] \"GET / HTTP/1.1\" 200 -\n",
      "127.0.0.1 - - [16/May/2023 13:37:24] \"GET /static/style/style.css HTTP/1.1\" 404 -\n",
      "127.0.0.1 - - [16/May/2023 13:37:24] \"GET /static/script/select_form.js HTTP/1.1\" 304 -\n",
      "127.0.0.1 - - [16/May/2023 13:37:24] \"GET /static/script/index.js HTTP/1.1\" 304 -\n",
      "127.0.0.1 - - [16/May/2023 13:38:07] \"GET / HTTP/1.1\" 200 -\n",
      "127.0.0.1 - - [16/May/2023 13:38:07] \"GET /static/style/style.css HTTP/1.1\" 404 -\n",
      "127.0.0.1 - - [16/May/2023 13:38:07] \"GET /static/script/select_form.js HTTP/1.1\" 304 -\n",
      "127.0.0.1 - - [16/May/2023 13:38:07] \"GET /static/script/index.js HTTP/1.1\" 304 -\n",
      "127.0.0.1 - - [16/May/2023 13:38:09] \"GET / HTTP/1.1\" 200 -\n",
      "127.0.0.1 - - [16/May/2023 13:38:09] \"GET /static/style/style.css HTTP/1.1\" 404 -\n",
      "127.0.0.1 - - [16/May/2023 13:38:09] \"GET /static/script/select_form.js HTTP/1.1\" 304 -\n",
      "127.0.0.1 - - [16/May/2023 13:38:09] \"GET /static/script/index.js HTTP/1.1\" 304 -\n"
     ]
    }
   ],
   "source": [
    "class Server:\n",
    "    def __init__(self,data_sql, hote='localhost', port=5000):\n",
    "        self.hote = hote\n",
    "        self.port = port\n",
    "        self.app = Flask(\"cheat spark\", template_folder='./front/templates', static_folder='./front/static/')\n",
    "        # Instanciation de la classe Request_SQL\n",
    "        self.data = data_sql\n",
    "        \n",
    "        \n",
    "        @self.app.route('/', methods=['GET', 'POST'])\n",
    "        def accueil():\n",
    "            if request.method == \"GET\":\n",
    "                # If the request method is GET, render the sign_up.html template\n",
    "                try:\n",
    "                    return render_template(\"index.html\")\n",
    "                except TemplateNotFound:\n",
    "                    return \"Template not found.\"                \n",
    "            \n",
    "                \n",
    "        @self.app.route('/select_data', methods=['GET', 'POST'])\n",
    "        def get_data():\n",
    "            if request.method == \"POST\": \n",
    "                try:\n",
    "                    table = request.form['table']\n",
    "                    columns = request.form['columns']\n",
    "                    where = request.form['where']\n",
    "                    join = request.form['join']\n",
    "                    return jsonify(self.data.select(table, columns, where , join))\n",
    "                except :\n",
    "                    return \"data not found.\"\n",
    "        \n",
    "\n",
    "        # @self.app.route('/requete', methods=['POST'])\n",
    "        # def traiter_requete():\n",
    "        #     data = request.get_json()\n",
    "        #     # Traitez ici la requête reçue\n",
    "        #     return 'Requête traitée avec succès'\n",
    "\n",
    "                \n",
    "    def demarrer(self):\n",
    "        self.app.run(host=self.hote, port=self.port)\n",
    "\n",
    "server = Server(data_sql)\n",
    "server.demarrer()"
   ]
  },
  {
   "cell_type": "code",
   "execution_count": 3,
   "id": "c5915178-1c4b-4c2b-a4c9-53ee271c2d9c",
   "metadata": {},
   "outputs": [],
   "source": []
  },
  {
   "cell_type": "code",
   "execution_count": 3,
   "id": "8b9b7f2b-4aab-4478-8d08-fb433343fc57",
   "metadata": {},
   "outputs": [],
   "source": []
  },
  {
   "cell_type": "code",
   "execution_count": 3,
   "id": "a2a9b529-ec29-4930-b2c9-8556352a66aa",
   "metadata": {},
   "outputs": [],
   "source": []
  }
 ],
 "metadata": {
  "kernelspec": {
   "display_name": "Python 3 (ipykernel)",
   "language": "python",
   "name": "python3"
  },
  "language_info": {
   "codemirror_mode": {
    "name": "ipython",
    "version": 3
   },
   "file_extension": ".py",
   "mimetype": "text/x-python",
   "name": "python",
   "nbconvert_exporter": "python",
   "pygments_lexer": "ipython3",
   "version": "3.11.2"
  }
 },
 "nbformat": 4,
 "nbformat_minor": 5
}
