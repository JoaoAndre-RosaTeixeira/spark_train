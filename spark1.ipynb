{
 "cells": [
  {
   "cell_type": "code",
   "execution_count": 1,
   "id": "ab211518-d16a-4486-97bd-14c39ac5d49e",
   "metadata": {
    "tags": []
   },
   "outputs": [],
   "source": [
    "# !pip install mysql-connector-python\n",
    "# !pip install pyspark"
   ]
  },
  {
   "cell_type": "code",
   "execution_count": 2,
   "id": "571d8f38-0335-40d4-ad33-45f5f2b46e25",
   "metadata": {
    "tags": []
   },
   "outputs": [],
   "source": [
    "import mysql.connector\n",
    "from pyspark.sql import SparkSession\n",
    "import csv\n",
    "import random\n",
    "from pyspark.sql.functions import lit, col, when"
   ]
  },
  {
   "cell_type": "code",
   "execution_count": 3,
   "id": "fa9e6489-61ab-4c2e-a221-cc2657ff1dd9",
   "metadata": {
    "tags": []
   },
   "outputs": [],
   "source": [
    "# mydb = mysql.connector.connect(\n",
    "#   host=\"localhost\",\n",
    "#   user=\"root\",\n",
    "#   password=\"\",\n",
    "#   database=\"spark_train_one\"\n",
    "# )\n"
   ]
  },
  {
   "cell_type": "code",
   "execution_count": 4,
   "id": "987f6501-a0ce-4129-8c60-b383cdc43d44",
   "metadata": {
    "tags": []
   },
   "outputs": [],
   "source": [
    "class ToDictMixin:\n",
    "    def to_dict(self):\n",
    "        return {k: v for k, v in vars(self).items() if not k.startswith(\"__\")}\n",
    "\n"
   ]
  },
  {
   "cell_type": "code",
   "execution_count": 5,
   "id": "16c7c26e-4f95-43d0-9032-e6093b570bce",
   "metadata": {
    "tags": []
   },
   "outputs": [],
   "source": [
    "class Armor(ToDictMixin):\n",
    "    \n",
    "    id_counter = 1\n",
    "    \n",
    "    def __init__(self, name: str, armor: int = 1, armor_magik: int = 0, mana: int = 0,\n",
    "                 durability: int = 5, max_durability: int = None):\n",
    "        self.id = Armor.id_counter\n",
    "        Armor.id_counter += 1\n",
    "        self.name = name\n",
    "        self.armor = armor\n",
    "        self.armor_magik = armor_magik\n",
    "        self.mana = mana\n",
    "        self.durability = durability\n",
    "        self.max_durability = max_durability if max_durability is not None else durability\n",
    "        self.broken = False"
   ]
  },
  {
   "cell_type": "code",
   "execution_count": 6,
   "id": "c0f08431-cb7f-410b-bb1c-2bd20154171c",
   "metadata": {
    "tags": []
   },
   "outputs": [],
   "source": [
    "class Weapon(ToDictMixin):\n",
    "    \n",
    "    id_counter = 1\n",
    "    \n",
    "    def __init__(self, name: str, atk: int = 1, atk_magik: int = 0, mana: int = 0,\n",
    "                 mana_cost: int = 1, durability: int = 5, max_durability: int = None):\n",
    "        self.id = Weapon.id_counter\n",
    "        Weapon.id_counter += 1\n",
    "        self.name = name\n",
    "        self.atk = atk\n",
    "        self.atk_magik = atk_magik\n",
    "        self.mana = mana\n",
    "        self.mana_cost = mana_cost\n",
    "        self.durability = durability\n",
    "        self.max_durability = max_durability if max_durability is not None else durability\n",
    "        self.broken = False"
   ]
  },
  {
   "cell_type": "code",
   "execution_count": 7,
   "id": "eeb3584a-2313-4db8-806f-9c2fd0ac9bd0",
   "metadata": {
    "tags": []
   },
   "outputs": [],
   "source": [
    "class Hero(ToDictMixin):\n",
    "    \n",
    "    id_counter = 1\n",
    "    \n",
    "    \n",
    "    \n",
    "    def __init__(self, name: str, pv: int, max_pv: int = None, atk: int = None, atk_magik: int = None, \n",
    "                 mana: int = None, max_mana: int = None, initiative: int = None, experience: int = None, \n",
    "                 experience_to_level_up: int = None, level: int = None, speed: int = None, origine_speed: int = None):\n",
    "        self.id = Hero.id_counter\n",
    "        Hero.id_counter += 1\n",
    "        self.name = name\n",
    "        self.pv = pv\n",
    "        self.max_pv = max_pv if max_pv is not None else pv\n",
    "        self.atk = atk if atk is not None else 0\n",
    "        self.atk_magik = atk_magik if atk_magik is not None else 0\n",
    "        self.mana = mana if mana is not None else 0\n",
    "        self.max_mana = max_mana if max_mana is not None else mana\n",
    "        self.initiative = initiative if initiative is not None else 0\n",
    "        self.experience = experience if experience is not None else 0\n",
    "        self.experience_to_level_up = experience_to_level_up if experience_to_level_up is not None else 100\n",
    "        self.level = level if level is not None else 1\n",
    "        self.speed = speed if speed is not None else 0\n",
    "        self.origine_speed = origine_speed if origine_speed is not None else 0\n",
    "        self.items = []\n",
    "        self.weapon : Weapon | None = None\n",
    "        self.armor : Armor | None = None\n",
    "    \n",
    "    \n",
    "    def equip_weapon(self, weapon):\n",
    "        if isinstance(weapon, Weapon) :\n",
    "            self.weapon = weapon.id\n",
    "            return True\n",
    "        return False\n",
    "        \n",
    "    def equip_armor(self, armor):\n",
    "        if isinstance(armor, Armor) :\n",
    "            self.armor = armor.id\n",
    "            return True\n",
    "        return False\n",
    "    \n",
    "    def add_item(self, item):\n",
    "        if isinstance(armor, Item) :\n",
    "            self.items.append(item.id) \n",
    "            return True\n",
    "        return False"
   ]
  },
  {
   "cell_type": "code",
   "execution_count": 8,
   "id": "08272abe-d028-4331-a0fd-2ba047bb4558",
   "metadata": {
    "tags": []
   },
   "outputs": [],
   "source": [
    "noms_personnages = [\n",
    "    \"Aria\", \"Balthazar\", \"Cassandra\", \"Darian\", \"Elena\", \"Felix\", \"Gabrielle\", \"Hadrien\",\n",
    "    \"Isadora\", \"Jasper\", \"Kaïra\", \"Landon\", \"Maïlys\", \"Nolan\", \"Olivia\", \"Philemon\",\n",
    "    \"Quintus\", \"Raphael\", \"Saoirse\", \"Thaddeus\", \"Ursula\", \"Valentin\", \"Wilhelm\", \"Xander\",\n",
    "    \"Yara\", \"Zander\", \"Aidan\", \"Brianna\", \"Caleb\", \"Dahlia\", \"Evelyn\", \"Finnegan\", \"Gwendolyn\",\n",
    "    \"Harvey\", \"Imogen\", \"Jaden\", \"Kendra\", \"Liam\", \"Matilda\", \"Niamh\", \"Ophelia\", \"Percival\",\n",
    "    \"Qiana\", \"Riley\", \"Sebastian\", \"Tristan\", \"Uriel\", \"Violet\", \"Wyatt\", \"Xiomara\", \"Yvette\", \"Zelda\"\n",
    "]\n",
    "noms_armors = [\n",
    "    \"Armure de cuir\", \"Armure de fer\", \"Armure de plaque\", \"Armure de mailles\", \"Armure de glace\",\n",
    "    \"Armure d'os\", \"Armure d'écailles\", \"Armure de dragon\", \"Armure de lumière\", \"Armure de ténèbres\",\n",
    "    \"Armure de cristal\", \"Armure de mithril\", \"Armure de diamant\", \"Armure de feu\", \"Armure de foudre\",\n",
    "    \"Armure de glace\", \"Armure de vent\", \"Armure de l'eau\", \"Armure de terre\", \"Armure de roche\",\n",
    "    \"Armure de bois\", \"Armure de métal\", \"Armure de magma\", \"Armure de néant\", \"Armure de luminescence\",\n",
    "    \"Armure de brume\", \"Armure de tempête\", \"Armure de mort\", \"Armure de vie\", \"Armure de guérison\",\n",
    "    \"Armure de force\", \"Armure de sagesse\", \"Armure de chance\", \"Armure de la nature\", \"Armure des anges\",\n",
    "    \"Armure des démons\", \"Armure des héros\", \"Armure des rois\", \"Armure des elfes\", \"Armure des nains\",\n",
    "    \"Armure des gnomes\", \"Armure des orcs\", \"Armure des gobelins\", \"Armure des trolls\", \"Armure des géants\",\n",
    "    \"Armure de lave\", \"Armure de lumière divine\", \"Armure de l'ombre\", \"Armure de l'océan\", \"Armure des vents\",\n",
    "    \"Armure des montagnes\"\n",
    "]\n",
    "noms_weapons = [\n",
    "    \"Épée de cristal\", \"Hache de guerre\", \"Bâton de feu\", \"Dague empoisonnée\", \"Arc long\",\n",
    "    \"Masse d'armes\", \"Lance d'argent\", \"Baguette magique\", \"Gourdin\", \"Katana\",\n",
    "    \"Fouet de combat\", \"Fleuret du duelliste\", \"Marteau de guerre\", \"Glaive\", \"Rapière\",\n",
    "    \"Arbalète\", \"Hallebarde\", \"Gantelet de force\", \"Canne de mage\", \"Livre de sortilèges\",\n",
    "    \"Fléau\", \"Arc court\", \"Cimeterre\", \"Couteau de lancer\", \"Poignard\",\n",
    "    \"Épée bâtarde\", \"Hache double\", \"Bâton de glace\", \"Dague runique\", \"Arc de chasse\",\n",
    "    \"Marteau de Thor\", \"Lance de la foudre\", \"Baguette d'illusion\", \"Gourdin épineux\", \"Wakizashi\",\n",
    "    \"Fouet barbelé\", \"Épée courte\", \"Marteau-piqueur\", \"Glaive du serpent\", \"Rapière en argent\",\n",
    "    \"Arbalète à répétition\", \"Hallebarde du jugement\", \"Gantelet du titan\", \"Canne à feu\", \"Livre de connaissances\",\n",
    "    \"Fléau des ténèbres\", \"Arc de la lune noire\", \"Cimeterre démoniaque\", \"Couteau de jet empoisonné\", \"Poignard de l'ombre\",\n",
    "]"
   ]
  },
  {
   "cell_type": "code",
   "execution_count": 9,
   "id": "3ad1bb30-036a-49e1-8e28-69616e8c1260",
   "metadata": {
    "tags": []
   },
   "outputs": [
    {
     "name": "stdout",
     "output_type": "stream",
     "text": [
      "['id', 'name', 'pv', 'max_pv', 'atk', 'atk_magik', 'mana', 'max_mana', 'initiative', 'experience', 'experience_to_level_up', 'level', 'speed', 'origine_speed', 'items', 'weapon', 'armor']\n",
      "['id', 'name', 'armor', 'armor_magik', 'mana', 'durability', 'max_durability', 'broken']\n",
      "['id', 'name', 'atk', 'atk_magik', 'mana', 'mana_cost', 'durability', 'max_durability', 'broken']\n"
     ]
    }
   ],
   "source": [
    "# Génération de 50 personnages, armors et weapons aléatoires\n",
    "hero_list = []\n",
    "armor_list = []\n",
    "weapon_list = []\n",
    "for i in range(50):\n",
    "    hero = Hero(name=noms_personnages[i], pv=random.randint(50, 200), atk=random.randint(0, 50), atk_magik=random.randint(0, 50), \n",
    "                mana=random.randint(0, 100), initiative=random.randint(0, 100), experience=random.randint(0, 1000), \n",
    "                experience_to_level_up=random.randint(100, 1000), level=random.randint(1, 10), speed=random.randint(0, 100), \n",
    "                origine_speed=random.randint(0, 100))\n",
    "    hero_list.append(hero)\n",
    "    \n",
    "    armor = Armor(name=noms_armors[i], armor=random.randint(1, 10), armor_magik=random.randint(0, 5),\n",
    "                  mana=random.randint(0, 5), durability=random.randint(1, 10),\n",
    "                  max_durability=random.randint(10, 20))\n",
    "    armor_list.append(armor)\n",
    "\n",
    "    weapon = Weapon(name=noms_weapons[i], atk=random.randint(1, 10), atk_magik=random.randint(0, 5),\n",
    "                    mana=random.randint(0, 5), mana_cost=random.randint(1, 5),\n",
    "                    durability=random.randint(1, 10), max_durability=random.randint(10, 20))\n",
    "    weapon_list.append(weapon)\n",
    "    \n",
    "hero_attribute_names = list(hero_list[0].to_dict().keys())\n",
    "armor_attribute_names = list(armor_list[0].to_dict().keys())\n",
    "weapon_attribute_names = list(weapon_list[0].to_dict().keys())\n",
    "hero_list[25].equip_weapon(weapon_list[25])\n",
    "print(hero_attribute_names)\n",
    "print(armor_attribute_names)\n",
    "print(weapon_attribute_names)"
   ]
  },
  {
   "cell_type": "code",
   "execution_count": 10,
   "id": "2e01fa10-e0b5-43d5-9a5d-a5fc9a01e9ad",
   "metadata": {},
   "outputs": [],
   "source": [
    "# Écriture de la table dans un fichier CSV\n",
    "def csv_geenerator(path, items_list):\n",
    "    with open(path, mode=\"w\", newline='') as file:\n",
    "        fieldnames = list(items_list[0].to_dict().keys())\n",
    "        writer = csv.DictWriter(file, fieldnames=fieldnames)\n",
    "        writer.writeheader()\n",
    "        for item in items_list:\n",
    "            writer.writerow({k: v.encode('utf-8').decode('ascii', 'ignore') if isinstance(v, str) else v for k, v in item.to_dict().items()})\n",
    "\n"
   ]
  },
  {
   "cell_type": "code",
   "execution_count": 11,
   "id": "b5194021-ffa9-467a-b46b-210d265daebc",
   "metadata": {},
   "outputs": [],
   "source": [
    "csv_geenerator(\"assets/csv/hero.csv\", hero_list)\n",
    "csv_geenerator(\"assets/csv/armor.csv\", armor_list)\n",
    "csv_geenerator(\"assets/csv/weapon.csv\", weapon_list)"
   ]
  },
  {
   "cell_type": "code",
   "execution_count": 12,
   "id": "5977c28f-6a97-44bb-bbfa-f640c4a7c836",
   "metadata": {
    "tags": []
   },
   "outputs": [],
   "source": [
    "# mycursor = mydb.cursor()\n",
    "\n",
    "# mycursor.execute(\"SELECT * FROM yourtable\")\n",
    "\n",
    "# myresult = mycursor.fetchall()\n",
    "\n",
    "# for x in myresult:\n",
    "#   print(x)\n",
    "\n",
    "\n",
    "spark = SparkSession.builder.appName('Create_Hero').getOrCreate()\n",
    "\n",
    "df_hero = spark.read.csv(\"assets/csv/hero.csv\", header=True, inferSchema=True)\n",
    "df_armor = spark.read.csv(\"assets/csv/armor.csv\", header=True, inferSchema=True)\n",
    "df_weapon = spark.read.csv(\"assets/csv/weapon.csv\", header=True, inferSchema=True)\n",
    "\n"
   ]
  },
  {
   "cell_type": "code",
   "execution_count": 13,
   "id": "36b2e6a0-5536-415e-bfba-b08fc5c3197a",
   "metadata": {},
   "outputs": [
    {
     "name": "stdout",
     "output_type": "stream",
     "text": [
      "+---+---------+---+------+---+---------+----+--------+----------+----------+----------------------+-----+-----+-------------+-----+------+-----+\n",
      "| id|     name| pv|max_pv|atk|atk_magik|mana|max_mana|initiative|experience|experience_to_level_up|level|speed|origine_speed|items|weapon|armor|\n",
      "+---+---------+---+------+---+---------+----+--------+----------+----------+----------------------+-----+-----+-------------+-----+------+-----+\n",
      "|  1|     Aria|189|   189|  1|       23|  35|      35|        61|        81|                   901|    5|   99|           11|   []|  null| null|\n",
      "|  2|Balthazar|162|   162| 29|       49|  67|      67|        32|       613|                   422|    5|   88|           23|   []|  null| null|\n",
      "|  3|Cassandra|103|   103| 43|       39|  50|      50|        88|       817|                   788|    8|   90|           87|   []|  null| null|\n",
      "|  4|   Darian| 75|    75| 30|       14|  66|      66|        86|       101|                   112|    6|   81|           60|   []|  null| null|\n",
      "|  5|    Elena|109|   109|  5|       35|  37|      37|        38|       816|                   329|   10|    9|           16|   []|  null| null|\n",
      "|  6|    Felix| 81|    81|  5|       45|  93|      93|        42|       608|                   961|    8|   69|            3|   []|  null| null|\n",
      "|  7|Gabrielle|192|   192|  3|        6|  26|      26|        24|       911|                   856|    9|   21|           37|   []|  null| null|\n",
      "|  8|  Hadrien|156|   156| 50|       32|   0|       0|        24|       318|                   235|    7|   92|           46|   []|  null| null|\n",
      "|  9|  Isadora| 61|    61| 49|       12|  83|      83|        32|       148|                   268|    5|   69|           41|   []|  null| null|\n",
      "| 10|   Jasper|183|   183| 22|        1|  29|      29|        58|       962|                   154|    2|   55|           78|   []|  null| null|\n",
      "| 11|     Kara|125|   125| 40|       14| 100|     100|        93|       795|                   280|    1|   54|           40|   []|  null| null|\n",
      "| 12|   Landon|134|   134| 43|       27|   4|       4|        83|       682|                   935|    8|   88|           16|   []|  null| null|\n",
      "| 13|    Malys| 52|    52|  2|        0|  99|      99|        50|       327|                   985|    3|   92|           75|   []|  null| null|\n",
      "| 14|    Nolan| 54|    54| 13|       26|  42|      42|        17|        56|                   432|    6|   63|           86|   []|  null| null|\n",
      "| 15|   Olivia| 72|    72| 33|       50|  38|      38|        28|       222|                   590|    3|   56|           87|   []|  null| null|\n",
      "| 16| Philemon|101|   101| 33|       29|  64|      64|        32|       167|                   801|    3|   63|            1|   []|  null| null|\n",
      "| 17|  Quintus|150|   150| 39|       32|  49|      49|         0|       852|                   468|    7|    9|           66|   []|  null| null|\n",
      "| 18|  Raphael|171|   171| 35|        4|  96|      96|        38|       903|                   860|    4|   60|           27|   []|  null| null|\n",
      "| 19|  Saoirse|117|   117| 17|        5|  72|      72|         4|       629|                   300|    9|   48|           99|   []|  null| null|\n",
      "| 20| Thaddeus| 84|    84| 25|       29|  99|      99|        99|       470|                   129|    9|   36|           59|   []|  null| null|\n",
      "+---+---------+---+------+---+---------+----+--------+----------+----------+----------------------+-----+-----+-------------+-----+------+-----+\n",
      "only showing top 20 rows\n",
      "\n",
      "+---+-----------------+-----+-----------+----+----------+--------------+------+\n",
      "| id|             name|armor|armor_magik|mana|durability|max_durability|broken|\n",
      "+---+-----------------+-----+-----------+----+----------+--------------+------+\n",
      "|  1|   Armure de cuir|    1|          1|   3|         9|            16| false|\n",
      "|  2|    Armure de fer|    7|          1|   4|         8|            16| false|\n",
      "|  3| Armure de plaque|    2|          0|   1|         3|            17| false|\n",
      "|  4|Armure de mailles|   10|          5|   5|         8|            10| false|\n",
      "|  5|  Armure de glace|    8|          2|   1|         2|            15| false|\n",
      "|  6|      Armure d'os|    3|          1|   1|         3|            16| false|\n",
      "|  7| Armure d'cailles|   10|          5|   4|         8|            13| false|\n",
      "|  8| Armure de dragon|   10|          3|   5|         8|            20| false|\n",
      "|  9| Armure de lumire|    7|          0|   0|         2|            19| false|\n",
      "| 10| Armure de tnbres|    9|          0|   4|         1|            11| false|\n",
      "| 11|Armure de cristal|    9|          5|   4|         9|            18| false|\n",
      "| 12|Armure de mithril|    3|          5|   4|         5|            20| false|\n",
      "| 13|Armure de diamant|    8|          4|   3|        10|            20| false|\n",
      "| 14|    Armure de feu|    6|          5|   3|         9|            10| false|\n",
      "| 15| Armure de foudre|    2|          4|   0|         4|            17| false|\n",
      "| 16|  Armure de glace|    7|          1|   4|        10|            18| false|\n",
      "| 17|   Armure de vent|    8|          4|   4|         4|            16| false|\n",
      "| 18|  Armure de l'eau|    3|          4|   3|         7|            13| false|\n",
      "| 19|  Armure de terre|    4|          3|   5|         3|            10| false|\n",
      "| 20|  Armure de roche|    7|          2|   4|         9|            17| false|\n",
      "+---+-----------------+-----+-----------+----+----------+--------------+------+\n",
      "only showing top 20 rows\n",
      "\n",
      "+---+--------------------+---+---------+----+---------+----------+--------------+------+\n",
      "| id|                name|atk|atk_magik|mana|mana_cost|durability|max_durability|broken|\n",
      "+---+--------------------+---+---------+----+---------+----------+--------------+------+\n",
      "|  1|       pe de cristal|  2|        1|   4|        2|         1|            14| false|\n",
      "|  2|     Hache de guerre|  3|        5|   0|        3|         1|            10| false|\n",
      "|  3|         Bton de feu|  5|        5|   2|        3|         6|            12| false|\n",
      "|  4|    Dague empoisonne|  6|        2|   5|        4|         9|            13| false|\n",
      "|  5|            Arc long|  3|        1|   2|        2|        10|            10| false|\n",
      "|  6|       Masse d'armes|  1|        3|   2|        3|         9|            17| false|\n",
      "|  7|      Lance d'argent|  1|        0|   5|        5|         9|            17| false|\n",
      "|  8|    Baguette magique|  8|        5|   2|        1|        10|            10| false|\n",
      "|  9|             Gourdin|  6|        2|   0|        4|         2|            17| false|\n",
      "| 10|              Katana|  6|        1|   1|        3|         7|            12| false|\n",
      "| 11|     Fouet de combat|  3|        2|   1|        3|         7|            20| false|\n",
      "| 12|Fleuret du duelliste| 10|        3|   0|        3|         2|            11| false|\n",
      "| 13|   Marteau de guerre|  7|        2|   2|        2|         2|            19| false|\n",
      "| 14|              Glaive|  1|        3|   1|        2|         1|            10| false|\n",
      "| 15|              Rapire|  6|        3|   3|        5|         6|            10| false|\n",
      "| 16|             Arbalte|  7|        0|   5|        4|         7|            19| false|\n",
      "| 17|          Hallebarde|  7|        4|   5|        4|         1|            11| false|\n",
      "| 18|   Gantelet de force|  5|        3|   0|        4|         4|            15| false|\n",
      "| 19|       Canne de mage| 10|        1|   1|        2|         4|            17| false|\n",
      "| 20|  Livre de sortilges|  2|        2|   4|        4|         4|            12| false|\n",
      "+---+--------------------+---+---------+----+---------+----------+--------------+------+\n",
      "only showing top 20 rows\n",
      "\n"
     ]
    }
   ],
   "source": [
    "# Affichage des données du DataFrame\n",
    "df_hero.show()\n",
    "df_armor.show()\n",
    "df_weapon.show()\n",
    "# Création d'une vue temporaire à partir du DataFrame\n",
    "df_hero.createOrReplaceTempView(\"hero\")\n",
    "df_armor.createOrReplaceTempView(\"armor\")\n",
    "df_weapon.createOrReplaceTempView(\"weapon\")\n"
   ]
  },
  {
   "cell_type": "code",
   "execution_count": 14,
   "id": "ad2f5325-ab06-44fe-b8e6-a93386b32893",
   "metadata": {
    "tags": []
   },
   "outputs": [
    {
     "name": "stdout",
     "output_type": "stream",
     "text": [
      "[Table(name='armor', catalog=None, namespace=[], description=None, tableType='TEMPORARY', isTemporary=True), Table(name='hero', catalog=None, namespace=[], description=None, tableType='TEMPORARY', isTemporary=True), Table(name='weapon', catalog=None, namespace=[], description=None, tableType='TEMPORARY', isTemporary=True)]\n"
     ]
    }
   ],
   "source": [
    "print(spark.catalog.listTables())"
   ]
  },
  {
   "cell_type": "code",
   "execution_count": 15,
   "id": "2663bdfb-f5a9-4cd9-b076-5ab993398acc",
   "metadata": {
    "tags": []
   },
   "outputs": [
    {
     "name": "stdout",
     "output_type": "stream",
     "text": [
      "+---+---------+---+------+---+---------+----+--------+----------+----------+----------------------+-----+-----+-------------+-----+------+-----+\n",
      "|id |name     |pv |max_pv|atk|atk_magik|mana|max_mana|initiative|experience|experience_to_level_up|level|speed|origine_speed|items|weapon|armor|\n",
      "+---+---------+---+------+---+---------+----+--------+----------+----------+----------------------+-----+-----+-------------+-----+------+-----+\n",
      "|1  |Aria     |189|189   |1  |23       |35  |35      |61        |81        |901                   |5    |99   |11           |[]   |null  |null |\n",
      "|2  |Balthazar|162|162   |29 |49       |67  |67      |32        |613       |422                   |5    |88   |23           |[]   |null  |null |\n",
      "|3  |Cassandra|103|103   |43 |39       |50  |50      |88        |817       |788                   |8    |90   |87           |[]   |null  |null |\n",
      "|5  |Elena    |109|109   |5  |35       |37  |37      |38        |816       |329                   |10   |9    |16           |[]   |null  |null |\n",
      "|7  |Gabrielle|192|192   |3  |6        |26  |26      |24        |911       |856                   |9    |21   |37           |[]   |null  |null |\n",
      "|8  |Hadrien  |156|156   |50 |32       |0   |0       |24        |318       |235                   |7    |92   |46           |[]   |null  |null |\n",
      "|10 |Jasper   |183|183   |22 |1        |29  |29      |58        |962       |154                   |2    |55   |78           |[]   |null  |null |\n",
      "|11 |Kara     |125|125   |40 |14       |100 |100     |93        |795       |280                   |1    |54   |40           |[]   |null  |null |\n",
      "|12 |Landon   |134|134   |43 |27       |4   |4       |83        |682       |935                   |8    |88   |16           |[]   |null  |null |\n",
      "|16 |Philemon |101|101   |33 |29       |64  |64      |32        |167       |801                   |3    |63   |1            |[]   |null  |null |\n",
      "|17 |Quintus  |150|150   |39 |32       |49  |49      |0         |852       |468                   |7    |9    |66           |[]   |null  |null |\n",
      "|18 |Raphael  |171|171   |35 |4        |96  |96      |38        |903       |860                   |4    |60   |27           |[]   |null  |null |\n",
      "|19 |Saoirse  |117|117   |17 |5        |72  |72      |4         |629       |300                   |9    |48   |99           |[]   |null  |null |\n",
      "|21 |Ursula   |191|191   |37 |14       |33  |33      |12        |841       |460                   |10   |67   |2            |[]   |null  |null |\n",
      "|22 |Valentin |154|154   |25 |48       |84  |84      |20        |926       |210                   |5    |81   |33           |[]   |null  |null |\n",
      "|26 |Zander   |157|157   |27 |38       |74  |74      |70        |366       |437                   |3    |82   |47           |[]   |26    |null |\n",
      "|29 |Caleb    |175|175   |20 |16       |18  |18      |47        |540       |973                   |1    |25   |95           |[]   |null  |null |\n",
      "|32 |Finnegan |190|190   |6  |14       |83  |83      |78        |824       |325                   |4    |26   |29           |[]   |null  |null |\n",
      "|34 |Harvey   |172|172   |49 |19       |20  |20      |53        |322       |108                   |9    |59   |78           |[]   |null  |null |\n",
      "|35 |Imogen   |152|152   |23 |21       |21  |21      |48        |108       |439                   |10   |82   |52           |[]   |null  |null |\n",
      "|37 |Kendra   |106|106   |38 |14       |83  |83      |79        |720       |311                   |3    |60   |76           |[]   |null  |null |\n",
      "|39 |Matilda  |148|148   |44 |39       |83  |83      |51        |152       |576                   |2    |34   |19           |[]   |null  |null |\n",
      "|40 |Niamh    |134|134   |14 |29       |53  |53      |0         |985       |859                   |3    |13   |64           |[]   |null  |null |\n",
      "|41 |Ophelia  |139|139   |38 |21       |35  |35      |100       |655       |864                   |3    |8    |8            |[]   |null  |null |\n",
      "|43 |Qiana    |107|107   |24 |49       |93  |93      |92        |435       |590                   |3    |98   |74           |[]   |null  |null |\n",
      "|44 |Riley    |161|161   |34 |26       |67  |67      |15        |316       |710                   |10   |44   |98           |[]   |null  |null |\n",
      "|45 |Sebastian|129|129   |50 |14       |28  |28      |40        |949       |709                   |1    |43   |58           |[]   |null  |null |\n",
      "|46 |Tristan  |140|140   |36 |11       |58  |58      |2         |952       |242                   |7    |44   |11           |[]   |null  |null |\n",
      "|47 |Uriel    |170|170   |35 |24       |54  |54      |42        |824       |494                   |9    |18   |55           |[]   |null  |null |\n",
      "|50 |Xiomara  |108|108   |38 |11       |72  |72      |2         |383       |304                   |10   |49   |13           |[]   |null  |null |\n",
      "+---+---------+---+------+---+---------+----+--------+----------+----------+----------------------+-----+-----+-------------+-----+------+-----+\n",
      "\n"
     ]
    }
   ],
   "source": [
    "\n",
    "# Exécution d'une requête SQL pour sélectionner les héros avec plus de 100 points de vie\n",
    "result = spark.sql(\"SELECT * FROM hero WHERE pv > 100\")\n",
    "\n",
    "# Affichage des résultats\n",
    "result.show(n=500, truncate=False)"
   ]
  },
  {
   "cell_type": "code",
   "execution_count": 16,
   "id": "9fae8866-8e4a-4b41-a59a-f20bb53776b2",
   "metadata": {
    "tags": []
   },
   "outputs": [
    {
     "name": "stdout",
     "output_type": "stream",
     "text": [
      "Table(name='armor', catalog=None, namespace=[], description=None, tableType='TEMPORARY', isTemporary=True)\n",
      "Table(name='hero', catalog=None, namespace=[], description=None, tableType='TEMPORARY', isTemporary=True)\n",
      "Table(name='weapon', catalog=None, namespace=[], description=None, tableType='TEMPORARY', isTemporary=True)\n"
     ]
    }
   ],
   "source": [
    "for table in spark.catalog.listTables():\n",
    "    print(table)"
   ]
  },
  {
   "cell_type": "code",
   "execution_count": 17,
   "id": "9a8bb10a-83f8-48ea-aea0-5532b2bf5929",
   "metadata": {
    "tags": []
   },
   "outputs": [
    {
     "name": "stdout",
     "output_type": "stream",
     "text": [
      "26\n"
     ]
    }
   ],
   "source": [
    "weapon_column = spark.sql(f'''SELECT weapon FROM hero \n",
    "                             WHERE weapon IS NOT NULL\n",
    "                          ''').collect()\n",
    "\n",
    "for row in weapon_column:\n",
    "    print(row[0])"
   ]
  },
  {
   "cell_type": "code",
   "execution_count": 18,
   "id": "0feeb352-2b5e-4f20-ae85-c820ea512558",
   "metadata": {
    "tags": []
   },
   "outputs": [
    {
     "name": "stdout",
     "output_type": "stream",
     "text": [
      "+---+---------+---+---------+----+---------+----------+--------------+------+\n",
      "| id|     name|atk|atk_magik|mana|mana_cost|durability|max_durability|broken|\n",
      "+---+---------+---+---------+----+---------+----------+--------------+------+\n",
      "| 26|pe btarde|  1|        0|   5|        5|         5|            19| false|\n",
      "+---+---------+---+---------+----+---------+----------+--------------+------+\n",
      "\n",
      "+---+---------+---+---------+----+---------+----------+--------------+------+\n",
      "| id|     name|atk|atk_magik|mana|mana_cost|durability|max_durability|broken|\n",
      "+---+---------+---+---------+----+---------+----------+--------------+------+\n",
      "| 26|pe btarde|  1|        0|   5|        5|         5|            19| false|\n",
      "+---+---------+---+---------+----+---------+----------+--------------+------+\n",
      "\n",
      "+---+------+---+------+---+---------+----+--------+----------+----------+----------------------+-----+-----+-------------+-----+------+-----+---+---------+---+---------+----+---------+----------+--------------+------+\n",
      "| id|  name| pv|max_pv|atk|atk_magik|mana|max_mana|initiative|experience|experience_to_level_up|level|speed|origine_speed|items|weapon|armor| id|     name|atk|atk_magik|mana|mana_cost|durability|max_durability|broken|\n",
      "+---+------+---+------+---+---------+----+--------+----------+----------+----------------------+-----+-----+-------------+-----+------+-----+---+---------+---+---------+----+---------+----------+--------------+------+\n",
      "| 26|Zander|157|   157| 27|       38|  74|      74|        70|       366|                   437|    3|   82|           47|   []|    26| null| 26|pe btarde|  1|        0|   5|        5|         5|            19| false|\n",
      "+---+------+---+------+---+---------+----+--------+----------+----------+----------------------+-----+-----+-------------+-----+------+-----+---+---------+---+---------+----+---------+----------+--------------+------+\n",
      "\n",
      "+---+---------+---+---------+----+---------+----------+--------------+------+\n",
      "| id|     name|atk|atk_magik|mana|mana_cost|durability|max_durability|broken|\n",
      "+---+---------+---+---------+----+---------+----------+--------------+------+\n",
      "| 26|pe btarde|  1|        0|   5|        5|         5|            19| false|\n",
      "+---+---------+---+---------+----+---------+----------+--------------+------+\n",
      "\n"
     ]
    }
   ],
   "source": [
    "\n",
    "spark.sql(f'''SELECT * FROM weapon \n",
    "            WHERE weapon.name LIKE '%btarde%'\n",
    "          ''').show()\n",
    "\n",
    "spark.sql(f'''SELECT * FROM weapon \n",
    "            WHERE weapon.id == 26\n",
    "          ''').show()\n",
    "\n",
    "spark.sql(f'''SELECT * FROM hero \n",
    "            JOIN weapon on hero.weapon = weapon.id\n",
    "          ''').show()\n",
    "\n",
    "spark.sql(f'''SELECT weapon.* FROM hero \n",
    "            JOIN weapon on hero.weapon = weapon.id\n",
    "          ''').show()"
   ]
  },
  {
   "cell_type": "code",
   "execution_count": 19,
   "id": "80c46c54-70c9-47b9-b6ae-a8603e4bd4fc",
   "metadata": {
    "tags": []
   },
   "outputs": [
    {
     "name": "stdout",
     "output_type": "stream",
     "text": [
      "+---+------+---+------+---+---------+----+--------+----------+----------+----------------------+-----+-----+-------------+-----+------+-----+---+---------+---+---------+----+---------+----------+--------------+------+\n",
      "| id|  name| pv|max_pv|atk|atk_magik|mana|max_mana|initiative|experience|experience_to_level_up|level|speed|origine_speed|items|weapon|armor| id|     name|atk|atk_magik|mana|mana_cost|durability|max_durability|broken|\n",
      "+---+------+---+------+---+---------+----+--------+----------+----------+----------------------+-----+-----+-------------+-----+------+-----+---+---------+---+---------+----+---------+----------+--------------+------+\n",
      "| 26|Zander|157|   157| 27|       38|  74|      74|        70|       366|                   437|    3|   82|           47|   []|    26| null| 26|pe btarde|  1|        0|   5|        5|         5|            19| false|\n",
      "+---+------+---+------+---+---------+----+--------+----------+----------+----------------------+-----+-----+-------------+-----+------+-----+---+---------+---+---------+----+---------+----------+--------------+------+\n",
      "\n"
     ]
    }
   ],
   "source": [
    "spark.sql(f'''SELECT * \n",
    "            FROM hero \n",
    "            JOIN weapon ON hero.weapon = weapon.id\n",
    "            WHERE hero.weapon IS NOT NULL\n",
    "          ''').show()"
   ]
  },
  {
   "cell_type": "code",
   "execution_count": 20,
   "id": "5e36be71-d9b2-4055-be72-e59f850ec536",
   "metadata": {
    "tags": []
   },
   "outputs": [
    {
     "data": {
      "text/plain": [
       "\"concat_ws('_', 'weapon') as weapon_id, concat_ws('_', 'weapon') as weapon_name, concat_ws('_', 'weapon') as weapon_atk, concat_ws('_', 'weapon') as weapon_atk_magik, concat_ws('_', 'weapon') as weapon_mana, concat_ws('_', 'weapon') as weapon_mana_cost, concat_ws('_', 'weapon') as weapon_durability, concat_ws('_', 'weapon') as weapon_max_durability, concat_ws('_', 'weapon') as weapon_broken\""
      ]
     },
     "execution_count": 20,
     "metadata": {},
     "output_type": "execute_result"
    }
   ],
   "source": [
    "weapon_cols = [f\"concat_ws('_', 'weapon') as weapon_{col}\" for col in  spark.table(\"weapon\").columns]\n",
    "weapon_cols_str = \", \".join(weapon_cols)\n",
    "weapon_cols_str\n",
    "\n"
   ]
  },
  {
   "cell_type": "code",
   "execution_count": 21,
   "id": "05cdd0b2-0cf2-4021-9923-8bed732e1ffa",
   "metadata": {
    "tags": []
   },
   "outputs": [
    {
     "name": "stdout",
     "output_type": "stream",
     "text": [
      "\n",
      "    SELECT hero.*, concat_ws('_', 'weapon') as weapon_id, concat_ws('_', 'weapon') as weapon_name, concat_ws('_', 'weapon') as weapon_atk, concat_ws('_', 'weapon') as weapon_atk_magik, concat_ws('_', 'weapon') as weapon_mana, concat_ws('_', 'weapon') as weapon_mana_cost, concat_ws('_', 'weapon') as weapon_durability, concat_ws('_', 'weapon') as weapon_max_durability, concat_ws('_', 'weapon') as weapon_broken\n",
      "    FROM hero\n",
      "    JOIN weapon ON hero.weapon = weapon.id\n",
      "    WHERE hero.weapon IS NOT NULL\n",
      "\n",
      "+---+------+---+------+---+---------+----+--------+----------+----------+----------------------+-----+-----+-------------+-----+------+-----+---------+-----------+----------+----------------+-----------+----------------+-----------------+---------------------+-------------+\n",
      "| id|  name| pv|max_pv|atk|atk_magik|mana|max_mana|initiative|experience|experience_to_level_up|level|speed|origine_speed|items|weapon|armor|weapon_id|weapon_name|weapon_atk|weapon_atk_magik|weapon_mana|weapon_mana_cost|weapon_durability|weapon_max_durability|weapon_broken|\n",
      "+---+------+---+------+---+---------+----+--------+----------+----------+----------------------+-----+-----+-------------+-----+------+-----+---------+-----------+----------+----------------+-----------+----------------+-----------------+---------------------+-------------+\n",
      "| 26|Zander|157|   157| 27|       38|  74|      74|        70|       366|                   437|    3|   82|           47|   []|    26| null|   weapon|     weapon|    weapon|          weapon|     weapon|          weapon|           weapon|               weapon|       weapon|\n",
      "+---+------+---+------+---+---------+----+--------+----------+----------+----------------------+-----+-----+-------------+-----+------+-----+---------+-----------+----------+----------------+-----------+----------------+-----------------+---------------------+-------------+\n",
      "\n"
     ]
    }
   ],
   "source": [
    "\n",
    "query = f\"\"\"\n",
    "    SELECT hero.*, {weapon_cols_str}\n",
    "    FROM hero\n",
    "    JOIN weapon ON hero.weapon = weapon.id\n",
    "    WHERE hero.weapon IS NOT NULL\n",
    "\"\"\"\n",
    "\n",
    "print(query)\n",
    "spark.sql(query).show()"
   ]
  },
  {
   "cell_type": "code",
   "execution_count": 22,
   "id": "ce8fd600-76df-4945-aeb5-3ade7269c992",
   "metadata": {
    "tags": []
   },
   "outputs": [],
   "source": [
    "#####################################\n",
    "### On spark update doesn't work ###\n",
    "###################################\n",
    "\n",
    "\n",
    "# df_hero.createOrReplaceTempView(\"temp_hero\")\n",
    "# spark.sql(f'''SELECT * \n",
    "#             FROM temp_hero\n",
    "#             WHERE armor IS NULL OR armor = 42\n",
    "#           ''').show()\n",
    "\n",
    "\n",
    "# # Perform the update using SQL\n",
    "# spark.sql(\"\"\"\n",
    "#     UPDATE temp_hero\n",
    "#     SET armor = 42\n",
    "#     WHERE armor IS NULL\n",
    "# \"\"\")\n",
    "\n",
    "# # Overwrite the original table with the updated data\n",
    "# spark.sql(\"\"\"\n",
    "#     INSERT OVERWRITE TABLE hero\n",
    "#     SELECT * FROM temp_hero\n",
    "# \"\"\")"
   ]
  },
  {
   "cell_type": "code",
   "execution_count": 23,
   "id": "3d72989a-b55e-41a9-9ec1-5b7902899b67",
   "metadata": {
    "tags": []
   },
   "outputs": [
    {
     "name": "stdout",
     "output_type": "stream",
     "text": [
      "+---+---------+---+------+---+---------+----+--------+----------+----------+----------------------+-----+-----+-------------+-----+------+-----+\n",
      "| id|     name| pv|max_pv|atk|atk_magik|mana|max_mana|initiative|experience|experience_to_level_up|level|speed|origine_speed|items|weapon|armor|\n",
      "+---+---------+---+------+---+---------+----+--------+----------+----------+----------------------+-----+-----+-------------+-----+------+-----+\n",
      "|  1|     Aria|189|   189|  1|       23|  35|      35|        61|        81|                   901|    5|   99|           11|   []|  null| null|\n",
      "|  2|Balthazar|162|   162| 29|       49|  67|      67|        32|       613|                   422|    5|   88|           23|   []|  null| null|\n",
      "|  3|Cassandra|103|   103| 43|       39|  50|      50|        88|       817|                   788|    8|   90|           87|   []|  null| null|\n",
      "|  4|   Darian| 75|    75| 30|       14|  66|      66|        86|       101|                   112|    6|   81|           60|   []|  null| null|\n",
      "|  5|    Elena|109|   109|  5|       35|  37|      37|        38|       816|                   329|   10|    9|           16|   []|  null| null|\n",
      "|  6|    Felix| 81|    81|  5|       45|  93|      93|        42|       608|                   961|    8|   69|            3|   []|  null| null|\n",
      "|  7|Gabrielle|192|   192|  3|        6|  26|      26|        24|       911|                   856|    9|   21|           37|   []|  null| null|\n",
      "|  8|  Hadrien|156|   156| 50|       32|   0|       0|        24|       318|                   235|    7|   92|           46|   []|  null| null|\n",
      "|  9|  Isadora| 61|    61| 49|       12|  83|      83|        32|       148|                   268|    5|   69|           41|   []|  null| null|\n",
      "| 10|   Jasper|183|   183| 22|        1|  29|      29|        58|       962|                   154|    2|   55|           78|   []|  null| null|\n",
      "| 11|     Kara|125|   125| 40|       14| 100|     100|        93|       795|                   280|    1|   54|           40|   []|  null| null|\n",
      "| 12|   Landon|134|   134| 43|       27|   4|       4|        83|       682|                   935|    8|   88|           16|   []|  null| null|\n",
      "| 13|    Malys| 52|    52|  2|        0|  99|      99|        50|       327|                   985|    3|   92|           75|   []|  null| null|\n",
      "| 14|    Nolan| 54|    54| 13|       26|  42|      42|        17|        56|                   432|    6|   63|           86|   []|  null| null|\n",
      "| 15|   Olivia| 72|    72| 33|       50|  38|      38|        28|       222|                   590|    3|   56|           87|   []|  null| null|\n",
      "| 16| Philemon|101|   101| 33|       29|  64|      64|        32|       167|                   801|    3|   63|            1|   []|  null| null|\n",
      "| 17|  Quintus|150|   150| 39|       32|  49|      49|         0|       852|                   468|    7|    9|           66|   []|  null| null|\n",
      "| 18|  Raphael|171|   171| 35|        4|  96|      96|        38|       903|                   860|    4|   60|           27|   []|  null|   18|\n",
      "| 19|  Saoirse|117|   117| 17|        5|  72|      72|         4|       629|                   300|    9|   48|           99|   []|  null| null|\n",
      "| 20| Thaddeus| 84|    84| 25|       29|  99|      99|        99|       470|                   129|    9|   36|           59|   []|  null| null|\n",
      "+---+---------+---+------+---+---------+----+--------+----------+----------+----------------------+-----+-----+-------------+-----+------+-----+\n",
      "only showing top 20 rows\n",
      "\n"
     ]
    }
   ],
   "source": [
    "def armor_update_table(updated_df):\n",
    "    # Mettre à jour la colonne \"armor\" avec les valeurs de la colonne \"armor_updated\"\n",
    "    updated_df = updated_df.withColumn('armor', col('armor_updated'))\n",
    "    # Supprimer la colonne \"armor_updated\"\n",
    "    updated_df = updated_df.drop('armor_updated')\n",
    "    \n",
    "    return updated_df\n",
    "\n",
    "\n",
    "\n",
    "# Créer une nouvelle colonne avec la valeur mise à jour conditionnellement\n",
    "updated_df = df_hero.withColumn('armor_updated', when(col('id') == 18, 18).otherwise(col('armor')))\n",
    "\n",
    "\n",
    "# Mettre à jour la colonne \"armor\" avec les valeurs de la colonne \"armor_updated\" et Supprimer la colonne \"armor_updated\" \n",
    "df_hero = armor_update_table(updated_df)\n",
    "\n",
    "# Afficher le DataFrame mis à jour\n",
    "df_hero.show()"
   ]
  },
  {
   "cell_type": "code",
   "execution_count": 24,
   "id": "74c811ef-ecdb-425b-9664-b3e229a52a47",
   "metadata": {},
   "outputs": [
    {
     "name": "stdout",
     "output_type": "stream",
     "text": [
      "+---+---------+---+------+---+---------+----+--------+----------+----------+----------------------+-----+-----+-------------+-----+------+-----+\n",
      "| id|     name| pv|max_pv|atk|atk_magik|mana|max_mana|initiative|experience|experience_to_level_up|level|speed|origine_speed|items|weapon|armor|\n",
      "+---+---------+---+------+---+---------+----+--------+----------+----------+----------------------+-----+-----+-------------+-----+------+-----+\n",
      "|  1|     Aria|189|   189|  1|       23|  35|      35|        61|        81|                   901|    5|   99|           11|   []|  null|   14|\n",
      "|  2|Balthazar|162|   162| 29|       49|  67|      67|        32|       613|                   422|    5|   88|           23|   []|  null|   14|\n",
      "|  3|Cassandra|103|   103| 43|       39|  50|      50|        88|       817|                   788|    8|   90|           87|   []|  null|   14|\n",
      "|  4|   Darian| 75|    75| 30|       14|  66|      66|        86|       101|                   112|    6|   81|           60|   []|  null|   14|\n",
      "|  5|    Elena|109|   109|  5|       35|  37|      37|        38|       816|                   329|   10|    9|           16|   []|  null|   14|\n",
      "|  6|    Felix| 81|    81|  5|       45|  93|      93|        42|       608|                   961|    8|   69|            3|   []|  null|   14|\n",
      "|  7|Gabrielle|192|   192|  3|        6|  26|      26|        24|       911|                   856|    9|   21|           37|   []|  null|   14|\n",
      "|  8|  Hadrien|156|   156| 50|       32|   0|       0|        24|       318|                   235|    7|   92|           46|   []|  null|   14|\n",
      "|  9|  Isadora| 61|    61| 49|       12|  83|      83|        32|       148|                   268|    5|   69|           41|   []|  null|   14|\n",
      "| 10|   Jasper|183|   183| 22|        1|  29|      29|        58|       962|                   154|    2|   55|           78|   []|  null|   14|\n",
      "| 11|     Kara|125|   125| 40|       14| 100|     100|        93|       795|                   280|    1|   54|           40|   []|  null|   14|\n",
      "| 12|   Landon|134|   134| 43|       27|   4|       4|        83|       682|                   935|    8|   88|           16|   []|  null|   14|\n",
      "| 13|    Malys| 52|    52|  2|        0|  99|      99|        50|       327|                   985|    3|   92|           75|   []|  null|   14|\n",
      "| 14|    Nolan| 54|    54| 13|       26|  42|      42|        17|        56|                   432|    6|   63|           86|   []|  null|   14|\n",
      "| 15|   Olivia| 72|    72| 33|       50|  38|      38|        28|       222|                   590|    3|   56|           87|   []|  null| null|\n",
      "| 16| Philemon|101|   101| 33|       29|  64|      64|        32|       167|                   801|    3|   63|            1|   []|  null| null|\n",
      "| 17|  Quintus|150|   150| 39|       32|  49|      49|         0|       852|                   468|    7|    9|           66|   []|  null| null|\n",
      "| 18|  Raphael|171|   171| 35|        4|  96|      96|        38|       903|                   860|    4|   60|           27|   []|  null|   18|\n",
      "| 19|  Saoirse|117|   117| 17|        5|  72|      72|         4|       629|                   300|    9|   48|           99|   []|  null| null|\n",
      "| 20| Thaddeus| 84|    84| 25|       29|  99|      99|        99|       470|                   129|    9|   36|           59|   []|  null| null|\n",
      "| 21|   Ursula|191|   191| 37|       14|  33|      33|        12|       841|                   460|   10|   67|            2|   []|  null|   14|\n",
      "| 22| Valentin|154|   154| 25|       48|  84|      84|        20|       926|                   210|    5|   81|           33|   []|  null|   14|\n",
      "| 23|  Wilhelm| 71|    71| 16|       16|   0|       0|        77|       693|                   414|    9|   24|            7|   []|  null|   14|\n",
      "| 24|   Xander| 74|    74| 47|       25|  54|      54|        29|       488|                   390|    9|   20|           64|   []|  null|   14|\n",
      "| 25|     Yara| 54|    54| 25|        6|  31|      31|        40|       364|                   545|    7|   95|           17|   []|  null|   14|\n",
      "| 26|   Zander|157|   157| 27|       38|  74|      74|        70|       366|                   437|    3|   82|           47|   []|    26|   14|\n",
      "| 27|    Aidan| 85|    85| 34|       21|  92|      92|        86|       464|                   816|    2|    3|           71|   []|  null|   14|\n",
      "| 28|  Brianna| 68|    68| 12|       10|  16|      16|        71|       519|                   574|   10|   27|           62|   []|  null|   14|\n",
      "| 29|    Caleb|175|   175| 20|       16|  18|      18|        47|       540|                   973|    1|   25|           95|   []|  null|   14|\n",
      "| 30|   Dahlia| 72|    72| 34|       25|  61|      61|         9|       340|                   205|    7|   77|           35|   []|  null|   14|\n",
      "| 31|   Evelyn| 88|    88| 23|       49|  11|      11|        90|       817|                   434|    4|   14|           18|   []|  null|   14|\n",
      "| 32| Finnegan|190|   190|  6|       14|  83|      83|        78|       824|                   325|    4|   26|           29|   []|  null|   14|\n",
      "| 33|Gwendolyn| 65|    65| 15|       36|  67|      67|        56|       294|                   123|    9|   68|           94|   []|  null|   14|\n",
      "| 34|   Harvey|172|   172| 49|       19|  20|      20|        53|       322|                   108|    9|   59|           78|   []|  null|   14|\n",
      "| 35|   Imogen|152|   152| 23|       21|  21|      21|        48|       108|                   439|   10|   82|           52|   []|  null|   14|\n",
      "| 36|    Jaden| 52|    52| 44|        7|  98|      98|        92|       348|                   747|    7|   60|           12|   []|  null|   14|\n",
      "| 37|   Kendra|106|   106| 38|       14|  83|      83|        79|       720|                   311|    3|   60|           76|   []|  null|   14|\n",
      "| 38|     Liam| 69|    69|  3|       18|  62|      62|        79|       192|                   515|    1|   38|           48|   []|  null|   14|\n",
      "| 39|  Matilda|148|   148| 44|       39|  83|      83|        51|       152|                   576|    2|   34|           19|   []|  null|   14|\n",
      "| 40|    Niamh|134|   134| 14|       29|  53|      53|         0|       985|                   859|    3|   13|           64|   []|  null|   14|\n",
      "| 41|  Ophelia|139|   139| 38|       21|  35|      35|       100|       655|                   864|    3|    8|            8|   []|  null|   14|\n",
      "| 42| Percival| 89|    89|  3|        6|  56|      56|        67|       866|                   677|    9|   30|           58|   []|  null|   14|\n",
      "| 43|    Qiana|107|   107| 24|       49|  93|      93|        92|       435|                   590|    3|   98|           74|   []|  null|   14|\n",
      "| 44|    Riley|161|   161| 34|       26|  67|      67|        15|       316|                   710|   10|   44|           98|   []|  null|   14|\n",
      "| 45|Sebastian|129|   129| 50|       14|  28|      28|        40|       949|                   709|    1|   43|           58|   []|  null|   14|\n",
      "| 46|  Tristan|140|   140| 36|       11|  58|      58|         2|       952|                   242|    7|   44|           11|   []|  null|   14|\n",
      "| 47|    Uriel|170|   170| 35|       24|  54|      54|        42|       824|                   494|    9|   18|           55|   []|  null|   14|\n",
      "| 48|   Violet| 63|    63| 16|       45|  28|      28|        11|       190|                   336|    1|   44|           14|   []|  null|   14|\n",
      "| 49|    Wyatt| 79|    79| 42|       19|  39|      39|        78|       593|                   939|    2|   11|           52|   []|  null|   14|\n",
      "| 50|  Xiomara|108|   108| 38|       11|  72|      72|         2|       383|                   304|   10|   49|           13|   []|  null|   14|\n",
      "+---+---------+---+------+---+---------+----+--------+----------+----------+----------------------+-----+-----+-------------+-----+------+-----+\n",
      "\n"
     ]
    }
   ],
   "source": [
    "# Créer une nouvelle colonne avec la valeur mise à jour conditionnellement \n",
    "updated_df = df_hero.withColumn('armor_updated', when((col('id') < 15) | (col('id') > 20), 14).otherwise(col('armor')))\n",
    "\n",
    "# Mettre à jour la colonne \"armor\" avec les valeurs de la colonne \"armor_updated\" et Supprimer la colonne \"armor_updated\" \n",
    "df_hero = armor_update_table(updated_df)\n",
    "\n",
    "# Afficher le DataFrame mis à jour\n",
    "df_hero.show(n=50)"
   ]
  },
  {
   "cell_type": "code",
   "execution_count": 25,
   "id": "9cd13a97-c200-4e63-a823-da6a087d4e82",
   "metadata": {
    "tags": []
   },
   "outputs": [
    {
     "name": "stdout",
     "output_type": "stream",
     "text": [
      "+---+---------+---+------+---+---------+----+--------+----------+----------+----------------------+-----+-----+-------------+-----+------+-----+\n",
      "| id|     name| pv|max_pv|atk|atk_magik|mana|max_mana|initiative|experience|experience_to_level_up|level|speed|origine_speed|items|weapon|armor|\n",
      "+---+---------+---+------+---+---------+----+--------+----------+----------+----------------------+-----+-----+-------------+-----+------+-----+\n",
      "|  1|     Aria|189|   189|  1|       23|  35|      35|        61|        81|                   901|    5|   99|           11|   []|  null|   14|\n",
      "|  2|Balthazar|162|   162| 29|       49|  67|      67|        32|       613|                   422|    5|   88|           23|   []|  null|   14|\n",
      "|  3|Cassandra|103|   103| 43|       39|  50|      50|        88|       817|                   788|    8|   90|           87|   []|  null|   14|\n",
      "|  4|   Darian| 75|    75| 30|       14|  66|      66|        86|       101|                   112|    6|   81|           60|   []|  null|   14|\n",
      "|  5|    Elena|109|   109|  5|       35|  37|      37|        38|       816|                   329|   10|    9|           16|   []|  null|   14|\n",
      "|  6|    Felix| 81|    81|  5|       45|  93|      93|        42|       608|                   961|    8|   69|            3|   []|  null|   14|\n",
      "|  7|Gabrielle|192|   192|  3|        6|  26|      26|        24|       911|                   856|    9|   21|           37|   []|  null|   14|\n",
      "|  8|  Hadrien|156|   156| 50|       32|   0|       0|        24|       318|                   235|    7|   92|           46|   []|  null|   14|\n",
      "|  9|  Isadora| 61|    61| 49|       12|  83|      83|        32|       148|                   268|    5|   69|           41|   []|  null|   14|\n",
      "| 10|   Jasper|183|   183| 22|        1|  29|      29|        58|       962|                   154|    2|   55|           78|   []|  null|   11|\n",
      "| 11|     Kara|125|   125| 40|       14| 100|     100|        93|       795|                   280|    1|   54|           40|   []|  null|   11|\n",
      "| 12|   Landon|134|   134| 43|       27|   4|       4|        83|       682|                   935|    8|   88|           16|   []|  null|   11|\n",
      "| 13|    Malys| 52|    52|  2|        0|  99|      99|        50|       327|                   985|    3|   92|           75|   []|  null|   11|\n",
      "| 14|    Nolan| 54|    54| 13|       26|  42|      42|        17|        56|                   432|    6|   63|           86|   []|  null|   11|\n",
      "| 15|   Olivia| 72|    72| 33|       50|  38|      38|        28|       222|                   590|    3|   56|           87|   []|  null|   11|\n",
      "| 16| Philemon|101|   101| 33|       29|  64|      64|        32|       167|                   801|    3|   63|            1|   []|  null| null|\n",
      "| 17|  Quintus|150|   150| 39|       32|  49|      49|         0|       852|                   468|    7|    9|           66|   []|  null| null|\n",
      "| 18|  Raphael|171|   171| 35|        4|  96|      96|        38|       903|                   860|    4|   60|           27|   []|  null|   18|\n",
      "| 19|  Saoirse|117|   117| 17|        5|  72|      72|         4|       629|                   300|    9|   48|           99|   []|  null| null|\n",
      "| 20| Thaddeus| 84|    84| 25|       29|  99|      99|        99|       470|                   129|    9|   36|           59|   []|  null| null|\n",
      "+---+---------+---+------+---+---------+----+--------+----------+----------+----------------------+-----+-----+-------------+-----+------+-----+\n",
      "only showing top 20 rows\n",
      "\n"
     ]
    }
   ],
   "source": [
    "# Créer une nouvelle colonne avec la valeur mise à jour conditionnellement entre 10 et 15 remplacer par 11\n",
    "updated_df = df_hero.withColumn('armor_updated', when(col('id').between(10, 15), 11).otherwise(col('armor')))\n",
    "\n",
    "\n",
    "# Mettre à jour la colonne \"armor\" avec les valeurs de la colonne \"armor_updated\" et Supprimer la colonne \"armor_updated\" \n",
    "df_hero = armor_update_table(updated_df)\n",
    "\n",
    "# Afficher le DataFrame mis à jour\n",
    "df_hero.show()\n",
    "\n"
   ]
  },
  {
   "cell_type": "code",
   "execution_count": 26,
   "id": "f7f1e2bd-a0ee-40be-b467-1818c59120bb",
   "metadata": {
    "tags": []
   },
   "outputs": [
    {
     "name": "stdout",
     "output_type": "stream",
     "text": [
      "+---+---------+---+------+---+---------+----+--------+----------+----------+----------------------+-----+-----+-------------+-----+------+-----+\n",
      "| id|     name| pv|max_pv|atk|atk_magik|mana|max_mana|initiative|experience|experience_to_level_up|level|speed|origine_speed|items|weapon|armor|\n",
      "+---+---------+---+------+---+---------+----+--------+----------+----------+----------------------+-----+-----+-------------+-----+------+-----+\n",
      "|  1|     Aria|189|   189|  1|       23|  35|      35|        61|        81|                   901|    5|   99|           11|   []|  null|    7|\n",
      "|  2|Balthazar|162|   162| 29|       49|  67|      67|        32|       613|                   422|    5|   88|           23|   []|  null|    7|\n",
      "|  3|Cassandra|103|   103| 43|       39|  50|      50|        88|       817|                   788|    8|   90|           87|   []|  null|    7|\n",
      "|  4|   Darian| 75|    75| 30|       14|  66|      66|        86|       101|                   112|    6|   81|           60|   []|  null|    7|\n",
      "|  5|    Elena|109|   109|  5|       35|  37|      37|        38|       816|                   329|   10|    9|           16|   []|  null|   14|\n",
      "|  6|    Felix| 81|    81|  5|       45|  93|      93|        42|       608|                   961|    8|   69|            3|   []|  null|   14|\n",
      "|  7|Gabrielle|192|   192|  3|        6|  26|      26|        24|       911|                   856|    9|   21|           37|   []|  null|   14|\n",
      "|  8|  Hadrien|156|   156| 50|       32|   0|       0|        24|       318|                   235|    7|   92|           46|   []|  null|   14|\n",
      "|  9|  Isadora| 61|    61| 49|       12|  83|      83|        32|       148|                   268|    5|   69|           41|   []|  null|   14|\n",
      "| 10|   Jasper|183|   183| 22|        1|  29|      29|        58|       962|                   154|    2|   55|           78|   []|  null|   11|\n",
      "| 11|     Kara|125|   125| 40|       14| 100|     100|        93|       795|                   280|    1|   54|           40|   []|  null|   11|\n",
      "| 12|   Landon|134|   134| 43|       27|   4|       4|        83|       682|                   935|    8|   88|           16|   []|  null|   11|\n",
      "| 13|    Malys| 52|    52|  2|        0|  99|      99|        50|       327|                   985|    3|   92|           75|   []|  null|   11|\n",
      "| 14|    Nolan| 54|    54| 13|       26|  42|      42|        17|        56|                   432|    6|   63|           86|   []|  null|   11|\n",
      "| 15|   Olivia| 72|    72| 33|       50|  38|      38|        28|       222|                   590|    3|   56|           87|   []|  null|   11|\n",
      "| 16| Philemon|101|   101| 33|       29|  64|      64|        32|       167|                   801|    3|   63|            1|   []|  null| null|\n",
      "| 17|  Quintus|150|   150| 39|       32|  49|      49|         0|       852|                   468|    7|    9|           66|   []|  null| null|\n",
      "| 18|  Raphael|171|   171| 35|        4|  96|      96|        38|       903|                   860|    4|   60|           27|   []|  null|   18|\n",
      "| 19|  Saoirse|117|   117| 17|        5|  72|      72|         4|       629|                   300|    9|   48|           99|   []|  null| null|\n",
      "| 20| Thaddeus| 84|    84| 25|       29|  99|      99|        99|       470|                   129|    9|   36|           59|   []|  null| null|\n",
      "+---+---------+---+------+---+---------+----+--------+----------+----------+----------------------+-----+-----+-------------+-----+------+-----+\n",
      "only showing top 20 rows\n",
      "\n"
     ]
    }
   ],
   "source": [
    "# Créer une nouvelle colonne avec la valeur mise à jour conditionnellement si hero.armor = 14 et armor.id inferieur a 5\n",
    "updated_df = df_hero.withColumn('armor_updated', when((col('armor') == 14) & (col('id') < 5), 7).otherwise(col('armor')))\n",
    "\n",
    "\n",
    "# Mettre à jour la colonne \"armor\" avec les valeurs de la colonne \"armor_updated\" et Supprimer la colonne \"armor_updated\" \n",
    "df_hero = armor_update_table(updated_df)\n",
    "\n",
    "# Afficher le DataFrame mis à jour\n",
    "df_hero.show()"
   ]
  },
  {
   "cell_type": "code",
   "execution_count": 27,
   "id": "837598ba-877a-449e-a03c-2bec693567bb",
   "metadata": {
    "tags": []
   },
   "outputs": [
    {
     "name": "stdout",
     "output_type": "stream",
     "text": [
      "+---+---------+---+------+---+---------+----+--------+----------+----------+----------------------+-----+-----+-------------+-----+------+-----+\n",
      "| id|     name| pv|max_pv|atk|atk_magik|mana|max_mana|initiative|experience|experience_to_level_up|level|speed|origine_speed|items|weapon|armor|\n",
      "+---+---------+---+------+---+---------+----+--------+----------+----------+----------------------+-----+-----+-------------+-----+------+-----+\n",
      "|  1|     Aria|189|   189|  1|       23|  35|      35|        61|        81|                   901|    5|   99|           11|   []|  null|    7|\n",
      "|  2|Balthazar|162|   162| 29|       49|  67|      67|        32|       613|                   422|    5|   88|           23|   []|  null|    7|\n",
      "|  3|Cassandra|103|   103| 43|       39|  50|      50|        88|       817|                   788|    8|   90|           87|   []|  null|    7|\n",
      "|  4|   Darian| 75|    75| 30|       14|  66|      66|        86|       101|                   112|    6|   81|           60|   []|  null|    7|\n",
      "|  5|    Elena|109|   109|  5|       35|  37|      37|        38|       816|                   329|   10|    9|           16|   []|  null|   14|\n",
      "|  6|    Felix| 81|    81|  5|       45|  93|      93|        42|       608|                   961|    8|   69|            3|   []|  null|   14|\n",
      "|  7|Gabrielle|192|   192|  3|        6|  26|      26|        24|       911|                   856|    9|   21|           37|   []|  null|   14|\n",
      "|  8|  Hadrien|156|   156| 50|       32|   0|       0|        24|       318|                   235|    7|   92|           46|   []|  null|   14|\n",
      "|  9|  Isadora| 61|    61| 49|       12|  83|      83|        32|       148|                   268|    5|   69|           41|   []|  null|   14|\n",
      "| 10|   Jasper|183|   183| 22|        1|  29|      29|        58|       962|                   154|    2|   55|           78|   []|  null|   11|\n",
      "| 11|     Kara|125|   125| 40|       14| 100|     100|        93|       795|                   280|    1|   54|           40|   []|  null|   11|\n",
      "| 12|   Landon|134|   134| 43|       27|   4|       4|        83|       682|                   935|    8|   88|           16|   []|  null|   11|\n",
      "| 13|    Malys| 52|    52|  2|        0|  99|      99|        50|       327|                   985|    3|   92|           75|   []|  null|   11|\n",
      "| 14|    Nolan| 54|    54| 13|       26|  42|      42|        17|        56|                   432|    6|   63|           86|   []|  null|   11|\n",
      "| 15|   Olivia| 72|    72| 33|       50|  38|      38|        28|       222|                   590|    3|   56|           87|   []|  null|   11|\n",
      "| 16| Philemon|101|   101| 33|       29|  64|      64|        32|       167|                   801|    3|   63|            1|   []|  null| null|\n",
      "| 17|  Quintus|150|   150| 39|       32|  49|      49|         0|       852|                   468|    7|    9|           66|   []|  null| null|\n",
      "| 18|  Raphael|171|   171| 35|        4|  96|      96|        38|       903|                   860|    4|   60|           27|   []|  null| null|\n",
      "| 19|  Saoirse|117|   117| 17|        5|  72|      72|         4|       629|                   300|    9|   48|           99|   []|  null| null|\n",
      "| 20| Thaddeus| 84|    84| 25|       29|  99|      99|        99|       470|                   129|    9|   36|           59|   []|  null| null|\n",
      "| 21|   Ursula|191|   191| 37|       14|  33|      33|        12|       841|                   460|   10|   67|            2|   []|  null|   14|\n",
      "| 22| Valentin|154|   154| 25|       48|  84|      84|        20|       926|                   210|    5|   81|           33|   []|  null|   14|\n",
      "| 23|  Wilhelm| 71|    71| 16|       16|   0|       0|        77|       693|                   414|    9|   24|            7|   []|  null|   14|\n",
      "| 24|   Xander| 74|    74| 47|       25|  54|      54|        29|       488|                   390|    9|   20|           64|   []|  null|   14|\n",
      "| 25|     Yara| 54|    54| 25|        6|  31|      31|        40|       364|                   545|    7|   95|           17|   []|  null|   14|\n",
      "| 26|   Zander|157|   157| 27|       38|  74|      74|        70|       366|                   437|    3|   82|           47|   []|    26|   14|\n",
      "| 27|    Aidan| 85|    85| 34|       21|  92|      92|        86|       464|                   816|    2|    3|           71|   []|  null|   14|\n",
      "| 28|  Brianna| 68|    68| 12|       10|  16|      16|        71|       519|                   574|   10|   27|           62|   []|  null|   14|\n",
      "| 29|    Caleb|175|   175| 20|       16|  18|      18|        47|       540|                   973|    1|   25|           95|   []|  null|   14|\n",
      "| 30|   Dahlia| 72|    72| 34|       25|  61|      61|         9|       340|                   205|    7|   77|           35|   []|  null|   14|\n",
      "| 31|   Evelyn| 88|    88| 23|       49|  11|      11|        90|       817|                   434|    4|   14|           18|   []|  null|   14|\n",
      "| 32| Finnegan|190|   190|  6|       14|  83|      83|        78|       824|                   325|    4|   26|           29|   []|  null|   14|\n",
      "| 33|Gwendolyn| 65|    65| 15|       36|  67|      67|        56|       294|                   123|    9|   68|           94|   []|  null|   14|\n",
      "| 34|   Harvey|172|   172| 49|       19|  20|      20|        53|       322|                   108|    9|   59|           78|   []|  null|   14|\n",
      "| 35|   Imogen|152|   152| 23|       21|  21|      21|        48|       108|                   439|   10|   82|           52|   []|  null|   14|\n",
      "| 36|    Jaden| 52|    52| 44|        7|  98|      98|        92|       348|                   747|    7|   60|           12|   []|  null|   14|\n",
      "| 37|   Kendra|106|   106| 38|       14|  83|      83|        79|       720|                   311|    3|   60|           76|   []|  null|   14|\n",
      "| 38|     Liam| 69|    69|  3|       18|  62|      62|        79|       192|                   515|    1|   38|           48|   []|  null|   14|\n",
      "| 39|  Matilda|148|   148| 44|       39|  83|      83|        51|       152|                   576|    2|   34|           19|   []|  null|   14|\n",
      "| 40|    Niamh|134|   134| 14|       29|  53|      53|         0|       985|                   859|    3|   13|           64|   []|  null|   14|\n",
      "| 41|  Ophelia|139|   139| 38|       21|  35|      35|       100|       655|                   864|    3|    8|            8|   []|  null|   14|\n",
      "| 42| Percival| 89|    89|  3|        6|  56|      56|        67|       866|                   677|    9|   30|           58|   []|  null|   14|\n",
      "| 43|    Qiana|107|   107| 24|       49|  93|      93|        92|       435|                   590|    3|   98|           74|   []|  null|   14|\n",
      "| 44|    Riley|161|   161| 34|       26|  67|      67|        15|       316|                   710|   10|   44|           98|   []|  null|   14|\n",
      "| 45|Sebastian|129|   129| 50|       14|  28|      28|        40|       949|                   709|    1|   43|           58|   []|  null|   14|\n",
      "| 46|  Tristan|140|   140| 36|       11|  58|      58|         2|       952|                   242|    7|   44|           11|   []|  null|   14|\n",
      "| 47|    Uriel|170|   170| 35|       24|  54|      54|        42|       824|                   494|    9|   18|           55|   []|  null|   14|\n",
      "| 48|   Violet| 63|    63| 16|       45|  28|      28|        11|       190|                   336|    1|   44|           14|   []|  null|   14|\n",
      "| 49|    Wyatt| 79|    79| 42|       19|  39|      39|        78|       593|                   939|    2|   11|           52|   []|  null|   14|\n",
      "| 50|  Xiomara|108|   108| 38|       11|  72|      72|         2|       383|                   304|   10|   49|           13|   []|  null|   14|\n",
      "+---+---------+---+------+---+---------+----+--------+----------+----------+----------------------+-----+-----+-------------+-----+------+-----+\n",
      "\n"
     ]
    }
   ],
   "source": [
    "# Créer une nouvelle colonne avec la valeur mise à jour conditionnellement\n",
    "updated_df = df_hero.withColumn('armor_updated', when((col('armor') == 18) , 'null' ).otherwise(col('armor')))\n",
    "\n",
    "\n",
    "# Mettre à jour la colonne \"armor\" avec les valeurs de la colonne \"armor_updated\" et Supprimer la colonne \"armor_updated\" \n",
    "df_hero = armor_update_table(updated_df)\n",
    "\n",
    "# Afficher le DataFrame mis à jour\n",
    "df_hero.show(n=50)"
   ]
  },
  {
   "cell_type": "code",
   "execution_count": 28,
   "id": "5424b7af-2cd5-47f8-b58d-7540767e848d",
   "metadata": {
    "tags": []
   },
   "outputs": [
    {
     "name": "stdout",
     "output_type": "stream",
     "text": [
      "+---+---------+---+------+---+---------+----+--------+----------+----------+----------------------+-----+-----+-------------+-----+------+-----+\n",
      "| id|     name| pv|max_pv|atk|atk_magik|mana|max_mana|initiative|experience|experience_to_level_up|level|speed|origine_speed|items|weapon|armor|\n",
      "+---+---------+---+------+---+---------+----+--------+----------+----------+----------------------+-----+-----+-------------+-----+------+-----+\n",
      "|  1|     Aria|189|   189|  1|       23|  35|      35|        61|        81|                   901|    5|   99|           11|   []|  null| null|\n",
      "|  2|Balthazar|162|   162| 29|       49|  67|      67|        32|       613|                   422|    5|   88|           23|   []|  null| null|\n",
      "|  3|Cassandra|103|   103| 43|       39|  50|      50|        88|       817|                   788|    8|   90|           87|   []|  null| null|\n",
      "|  4|   Darian| 75|    75| 30|       14|  66|      66|        86|       101|                   112|    6|   81|           60|   []|  null| null|\n",
      "|  5|    Elena|109|   109|  5|       35|  37|      37|        38|       816|                   329|   10|    9|           16|   []|  null| null|\n",
      "|  6|    Felix| 81|    81|  5|       45|  93|      93|        42|       608|                   961|    8|   69|            3|   []|  null| null|\n",
      "|  7|Gabrielle|192|   192|  3|        6|  26|      26|        24|       911|                   856|    9|   21|           37|   []|  null| null|\n",
      "|  8|  Hadrien|156|   156| 50|       32|   0|       0|        24|       318|                   235|    7|   92|           46|   []|  null| null|\n",
      "|  9|  Isadora| 61|    61| 49|       12|  83|      83|        32|       148|                   268|    5|   69|           41|   []|  null| null|\n",
      "| 10|   Jasper|183|   183| 22|        1|  29|      29|        58|       962|                   154|    2|   55|           78|   []|  null| null|\n",
      "| 11|     Kara|125|   125| 40|       14| 100|     100|        93|       795|                   280|    1|   54|           40|   []|  null| null|\n",
      "| 12|   Landon|134|   134| 43|       27|   4|       4|        83|       682|                   935|    8|   88|           16|   []|  null| null|\n",
      "| 13|    Malys| 52|    52|  2|        0|  99|      99|        50|       327|                   985|    3|   92|           75|   []|  null| null|\n",
      "| 14|    Nolan| 54|    54| 13|       26|  42|      42|        17|        56|                   432|    6|   63|           86|   []|  null| null|\n",
      "| 15|   Olivia| 72|    72| 33|       50|  38|      38|        28|       222|                   590|    3|   56|           87|   []|  null| null|\n",
      "| 16| Philemon|101|   101| 33|       29|  64|      64|        32|       167|                   801|    3|   63|            1|   []|  null| null|\n",
      "| 17|  Quintus|150|   150| 39|       32|  49|      49|         0|       852|                   468|    7|    9|           66|   []|  null| null|\n",
      "| 18|  Raphael|171|   171| 35|        4|  96|      96|        38|       903|                   860|    4|   60|           27|   []|  null| null|\n",
      "| 19|  Saoirse|117|   117| 17|        5|  72|      72|         4|       629|                   300|    9|   48|           99|   []|  null| null|\n",
      "| 20| Thaddeus| 84|    84| 25|       29|  99|      99|        99|       470|                   129|    9|   36|           59|   []|  null| null|\n",
      "+---+---------+---+------+---+---------+----+--------+----------+----------+----------------------+-----+-----+-------------+-----+------+-----+\n",
      "only showing top 20 rows\n",
      "\n",
      "+---+---------+---+------+---+---------+----+--------+----------+----------+----------------------+-----+-----+-------------+-----+------+-----+\n",
      "| id|     name| pv|max_pv|atk|atk_magik|mana|max_mana|initiative|experience|experience_to_level_up|level|speed|origine_speed|items|weapon|armor|\n",
      "+---+---------+---+------+---+---------+----+--------+----------+----------+----------------------+-----+-----+-------------+-----+------+-----+\n",
      "|  1|     Aria|189|   189|  1|       23|  35|      35|        61|        81|                   901|    5|   99|           11|   []|  null|    7|\n",
      "|  2|Balthazar|162|   162| 29|       49|  67|      67|        32|       613|                   422|    5|   88|           23|   []|  null|    7|\n",
      "|  3|Cassandra|103|   103| 43|       39|  50|      50|        88|       817|                   788|    8|   90|           87|   []|  null|    7|\n",
      "|  4|   Darian| 75|    75| 30|       14|  66|      66|        86|       101|                   112|    6|   81|           60|   []|  null|    7|\n",
      "|  5|    Elena|109|   109|  5|       35|  37|      37|        38|       816|                   329|   10|    9|           16|   []|  null|   14|\n",
      "|  6|    Felix| 81|    81|  5|       45|  93|      93|        42|       608|                   961|    8|   69|            3|   []|  null|   14|\n",
      "|  7|Gabrielle|192|   192|  3|        6|  26|      26|        24|       911|                   856|    9|   21|           37|   []|  null|   14|\n",
      "|  8|  Hadrien|156|   156| 50|       32|   0|       0|        24|       318|                   235|    7|   92|           46|   []|  null|   14|\n",
      "|  9|  Isadora| 61|    61| 49|       12|  83|      83|        32|       148|                   268|    5|   69|           41|   []|  null|   14|\n",
      "| 10|   Jasper|183|   183| 22|        1|  29|      29|        58|       962|                   154|    2|   55|           78|   []|  null|   11|\n",
      "| 11|     Kara|125|   125| 40|       14| 100|     100|        93|       795|                   280|    1|   54|           40|   []|  null|   11|\n",
      "| 12|   Landon|134|   134| 43|       27|   4|       4|        83|       682|                   935|    8|   88|           16|   []|  null|   11|\n",
      "| 13|    Malys| 52|    52|  2|        0|  99|      99|        50|       327|                   985|    3|   92|           75|   []|  null|   11|\n",
      "| 14|    Nolan| 54|    54| 13|       26|  42|      42|        17|        56|                   432|    6|   63|           86|   []|  null|   11|\n",
      "| 15|   Olivia| 72|    72| 33|       50|  38|      38|        28|       222|                   590|    3|   56|           87|   []|  null|   11|\n",
      "| 16| Philemon|101|   101| 33|       29|  64|      64|        32|       167|                   801|    3|   63|            1|   []|  null| null|\n",
      "| 17|  Quintus|150|   150| 39|       32|  49|      49|         0|       852|                   468|    7|    9|           66|   []|  null| null|\n",
      "| 18|  Raphael|171|   171| 35|        4|  96|      96|        38|       903|                   860|    4|   60|           27|   []|  null| null|\n",
      "| 19|  Saoirse|117|   117| 17|        5|  72|      72|         4|       629|                   300|    9|   48|           99|   []|  null| null|\n",
      "| 20| Thaddeus| 84|    84| 25|       29|  99|      99|        99|       470|                   129|    9|   36|           59|   []|  null| null|\n",
      "+---+---------+---+------+---+---------+----+--------+----------+----------+----------------------+-----+-----+-------------+-----+------+-----+\n",
      "only showing top 20 rows\n",
      "\n"
     ]
    }
   ],
   "source": [
    "spark.sql(f'''SELECT * \n",
    "            FROM hero  \n",
    "          ''').show()\n",
    "\n",
    "df_hero.createOrReplaceTempView(\"hero\")\n",
    "\n",
    "spark.sql(f'''SELECT * \n",
    "            FROM hero  \n",
    "          ''').show()"
   ]
  },
  {
   "cell_type": "code",
   "execution_count": 29,
   "id": "2f48f43a-3018-4d6e-9742-643e9ce5f8d4",
   "metadata": {},
   "outputs": [
    {
     "name": "stdout",
     "output_type": "stream",
     "text": [
      "+---+--------+---+------+---+---------+----+--------+----------+----------+----------------------+-----+-----+-------------+-----+------+-----+\n",
      "| id|    name| pv|max_pv|atk|atk_magik|mana|max_mana|initiative|experience|experience_to_level_up|level|speed|origine_speed|items|weapon|armor|\n",
      "+---+--------+---+------+---+---------+----+--------+----------+----------+----------------------+-----+-----+-------------+-----+------+-----+\n",
      "| 16|Philemon|101|   101| 33|       29|  64|      64|        32|       167|                   801|    3|   63|            1|   []|  null| null|\n",
      "| 17| Quintus|150|   150| 39|       32|  49|      49|         0|       852|                   468|    7|    9|           66|   []|  null| null|\n",
      "| 19| Saoirse|117|   117| 17|        5|  72|      72|         4|       629|                   300|    9|   48|           99|   []|  null| null|\n",
      "| 20|Thaddeus| 84|    84| 25|       29|  99|      99|        99|       470|                   129|    9|   36|           59|   []|  null| null|\n",
      "+---+--------+---+------+---+---------+----+--------+----------+----------+----------------------+-----+-----+-------------+-----+------+-----+\n",
      "\n"
     ]
    }
   ],
   "source": [
    "spark.sql(f'''SELECT * \n",
    "            FROM hero\n",
    "            WHERE armor IS NULL\n",
    "          ''').show()"
   ]
  },
  {
   "cell_type": "code",
   "execution_count": 30,
   "id": "29a08bc7-02c3-49b8-8205-61378c42de3b",
   "metadata": {
    "tags": []
   },
   "outputs": [],
   "source": [
    "class Request_SQL:\n",
    "    \n",
    "    DFs = {}\n",
    "    spark = SparkSession.builder.appName('Create_Hero').getOrCreate()\n",
    "\n",
    "    def __init__(self, spark = \"temp_spark\", files = None, ):\n",
    "        self.spark = SparkSession.builder.appName(spark).getOrCreate()\n",
    "        self.read_files(files)\n",
    "        \n",
    "    def set_DFs(self, file_name):\n",
    "        # print(self.get_name_file(file_name))\n",
    "        if \"csv\" in file_name.split('.')[-1:]:\n",
    "            self.DFs[self.get_name_file(file_name)] = spark.read.csv(f\"assets/csv/{self.get_name_file(file_name)}.csv\", header=True, inferSchema=True)\n",
    "    \n",
    "    def read_files(self, files): \n",
    "        \n",
    "        if files is not None:            \n",
    "            if isinstance(files, list):\n",
    "                for key, val in enumerate(files):                 \n",
    "                    self.set_DFs(val)\n",
    "            else:                            \n",
    "                self.set_DFs(files)                   \n",
    "    \n",
    "    \n",
    "    #############################\n",
    "    ########### UTILS ###########\n",
    "    #############################\n",
    "    def get_name_file(self, file):\n",
    "        return file.split('.')[-2:-1:][0].split('/')[-1:][0]\n",
    "    \n",
    "    def print_DF(self, name):\n",
    "        print(self.DFs[name], \"\\n\")\n",
    "                    \n",
    "    def print_DFs(self):\n",
    "        for key,  df in self.DFs.items():\n",
    "            print(df, \"\\n\")\n",
    "    \n",
    "    def print_names_DFs(self):\n",
    "        for df in self.DFs:\n",
    "            print(df, \"\\n\")\n",
    "            \n",
    "    def print_table(self, name):\n",
    "        print(self.spark.table(name), \"\\n\")\n",
    "                    \n",
    "    def print_tables(self):\n",
    "        for table in spark.catalog.listTables():\n",
    "            print(table, \"\\n\")\n",
    "            \n",
    "\n",
    "                    \n",
    "    # def select(self, columns = '*', table, ):"
   ]
  },
  {
   "cell_type": "code",
   "execution_count": 31,
   "id": "b1063c60-8d6c-403f-8533-ffdcd7c4dd3c",
   "metadata": {
    "tags": []
   },
   "outputs": [],
   "source": [
    "# \"assets/csv/hero.csv\".split('.')[-2:-1:][0].split('/')[-1:][0]"
   ]
  },
  {
   "cell_type": "code",
   "execution_count": 32,
   "id": "5d7c87f3-cd1b-436f-9f44-74fedec02320",
   "metadata": {
    "tags": []
   },
   "outputs": [
    {
     "name": "stdout",
     "output_type": "stream",
     "text": [
      "DataFrame[id: int, name: string, pv: int, max_pv: int, atk: int, atk_magik: int, mana: int, max_mana: int, initiative: int, experience: int, experience_to_level_up: int, level: int, speed: int, origine_speed: int, items: string, weapon: int, armor: string] \n",
      "\n",
      "DataFrame[id: int, name: string, armor: int, armor_magik: int, mana: int, durability: int, max_durability: int, broken: boolean] \n",
      "\n",
      "DataFrame[id: int, name: string, atk: int, atk_magik: int, mana: int, mana_cost: int, durability: int, max_durability: int, broken: boolean] \n",
      "\n",
      "\n",
      "\n",
      "DataFrame[id: int, name: string, pv: int, max_pv: int, atk: int, atk_magik: int, mana: int, max_mana: int, initiative: int, experience: int, experience_to_level_up: int, level: int, speed: int, origine_speed: int, items: string, weapon: int, armor: string] \n",
      "\n",
      "Table(name='armor', catalog=None, namespace=[], description=None, tableType='TEMPORARY', isTemporary=True) \n",
      "\n",
      "Table(name='hero', catalog=None, namespace=[], description=None, tableType='TEMPORARY', isTemporary=True) \n",
      "\n",
      "Table(name='weapon', catalog=None, namespace=[], description=None, tableType='TEMPORARY', isTemporary=True) \n",
      "\n",
      "DataFrame[id: int, name: string, pv: int, max_pv: int, atk: int, atk_magik: int, mana: int, max_mana: int, initiative: int, experience: int, experience_to_level_up: int, level: int, speed: int, origine_speed: int, items: string, weapon: int, armor: string] \n",
      "\n",
      "hero \n",
      "\n",
      "armor \n",
      "\n",
      "weapon \n",
      "\n"
     ]
    }
   ],
   "source": [
    "request = Request_SQL(spark = \"temp_hero_test\", files = [\"hero.csv\", \"armor.csv\", \"weapon.csv\"])\n",
    "\n",
    "request.print_DFs()\n",
    "print(\"\\n\")\n",
    "request.print_DF(\"hero\")\n",
    "request.print_tables()\n",
    "request.print_table(\"hero\")\n",
    "request.print_names_DFs()"
   ]
  },
  {
   "cell_type": "code",
   "execution_count": 33,
   "id": "eb4fd6d8-1a11-49f9-bebf-fdf5cf91083a",
   "metadata": {
    "tags": []
   },
   "outputs": [
    {
     "name": "stdout",
     "output_type": "stream",
     "text": [
      "hero \n",
      "\n",
      "armor \n",
      "\n",
      "weapon \n",
      "\n"
     ]
    }
   ],
   "source": [
    "request.print_names_DFs()"
   ]
  },
  {
   "cell_type": "code",
   "execution_count": null,
   "id": "a439478c-1891-4dfe-9e49-34adb6f83ee6",
   "metadata": {},
   "outputs": [],
   "source": []
  }
 ],
 "metadata": {
  "kernelspec": {
   "display_name": "Python 3 (ipykernel)",
   "language": "python",
   "name": "python3"
  },
  "language_info": {
   "codemirror_mode": {
    "name": "ipython",
    "version": 3
   },
   "file_extension": ".py",
   "mimetype": "text/x-python",
   "name": "python",
   "nbconvert_exporter": "python",
   "pygments_lexer": "ipython3",
   "version": "3.11.2"
  }
 },
 "nbformat": 4,
 "nbformat_minor": 5
}
