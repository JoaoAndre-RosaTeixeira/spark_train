{
 "cells": [
  {
   "cell_type": "code",
   "execution_count": 1,
   "id": "ab211518-d16a-4486-97bd-14c39ac5d49e",
   "metadata": {
    "tags": []
   },
   "outputs": [],
   "source": [
    "# !pip install mysql-connector-python\n",
    "# !pip install pyspark"
   ]
  },
  {
   "cell_type": "code",
   "execution_count": 2,
   "id": "571d8f38-0335-40d4-ad33-45f5f2b46e25",
   "metadata": {
    "tags": []
   },
   "outputs": [],
   "source": [
    "import mysql.connector\n",
    "from pyspark.sql import SparkSession\n",
    "import csv\n",
    "import random\n",
    "from pyspark.sql.functions import lit, col, when"
   ]
  },
  {
   "cell_type": "code",
   "execution_count": 3,
   "id": "fa9e6489-61ab-4c2e-a221-cc2657ff1dd9",
   "metadata": {
    "tags": []
   },
   "outputs": [],
   "source": [
    "# mydb = mysql.connector.connect(\n",
    "#   host=\"localhost\",\n",
    "#   user=\"root\",\n",
    "#   password=\"\",\n",
    "#   database=\"spark_train_one\"\n",
    "# )\n"
   ]
  },
  {
   "cell_type": "code",
   "execution_count": 4,
   "id": "987f6501-a0ce-4129-8c60-b383cdc43d44",
   "metadata": {
    "tags": []
   },
   "outputs": [],
   "source": [
    "class ToDictMixin:\n",
    "    def to_dict(self):\n",
    "        return {k: v for k, v in vars(self).items() if not k.startswith(\"__\")}\n",
    "\n"
   ]
  },
  {
   "cell_type": "code",
   "execution_count": 5,
   "id": "16c7c26e-4f95-43d0-9032-e6093b570bce",
   "metadata": {
    "tags": []
   },
   "outputs": [],
   "source": [
    "class Armor(ToDictMixin):\n",
    "    \n",
    "    id_counter = 1\n",
    "    \n",
    "    def __init__(self, name: str, armor: int = 1, armor_magik: int = 0, mana: int = 0,\n",
    "                 durability: int = 5, max_durability: int = None):\n",
    "        self.id = Armor.id_counter\n",
    "        Armor.id_counter += 1\n",
    "        self.name = name\n",
    "        self.armor = armor\n",
    "        self.armor_magik = armor_magik\n",
    "        self.mana = mana\n",
    "        self.durability = durability\n",
    "        self.max_durability = max_durability if max_durability is not None else durability\n",
    "        self.broken = False"
   ]
  },
  {
   "cell_type": "code",
   "execution_count": 6,
   "id": "c0f08431-cb7f-410b-bb1c-2bd20154171c",
   "metadata": {
    "tags": []
   },
   "outputs": [],
   "source": [
    "class Weapon(ToDictMixin):\n",
    "    \n",
    "    id_counter = 1\n",
    "    \n",
    "    def __init__(self, name: str, atk: int = 1, atk_magik: int = 0, mana: int = 0,\n",
    "                 mana_cost: int = 1, durability: int = 5, max_durability: int = None):\n",
    "        self.id = Weapon.id_counter\n",
    "        Weapon.id_counter += 1\n",
    "        self.name = name\n",
    "        self.atk = atk\n",
    "        self.atk_magik = atk_magik\n",
    "        self.mana = mana\n",
    "        self.mana_cost = mana_cost\n",
    "        self.durability = durability\n",
    "        self.max_durability = max_durability if max_durability is not None else durability\n",
    "        self.broken = False"
   ]
  },
  {
   "cell_type": "code",
   "execution_count": 7,
   "id": "eeb3584a-2313-4db8-806f-9c2fd0ac9bd0",
   "metadata": {
    "tags": []
   },
   "outputs": [],
   "source": [
    "class Hero(ToDictMixin):\n",
    "    \n",
    "    id_counter = 1\n",
    "    \n",
    "    \n",
    "    \n",
    "    def __init__(self, name: str, pv: int, max_pv: int = None, atk: int = None, atk_magik: int = None, \n",
    "                 mana: int = None, max_mana: int = None, initiative: int = None, experience: int = None, \n",
    "                 experience_to_level_up: int = None, level: int = None, speed: int = None, origine_speed: int = None, weapon_id: int = None, armor_id: int = None):\n",
    "        self.id = Hero.id_counter\n",
    "        Hero.id_counter += 1\n",
    "        self.name = name\n",
    "        self.pv = pv\n",
    "        self.max_pv = max_pv if max_pv is not None else pv\n",
    "        self.atk = atk if atk is not None else 0\n",
    "        self.atk_magik = atk_magik if atk_magik is not None else 0\n",
    "        self.mana = mana if mana is not None else 0\n",
    "        self.max_mana = max_mana if max_mana is not None else mana\n",
    "        self.initiative = initiative if initiative is not None else 0\n",
    "        self.experience = experience if experience is not None else 0\n",
    "        self.experience_to_level_up = experience_to_level_up if experience_to_level_up is not None else 100\n",
    "        self.level = level if level is not None else 1\n",
    "        self.speed = speed if speed is not None else 0\n",
    "        self.origine_speed = origine_speed if origine_speed is not None else 0\n",
    "        self.items = []\n",
    "        self.weapon_id : Weapon | None = weapon_id\n",
    "        self.armor_id : Armor | None = armor_id\n",
    "    \n",
    "    \n",
    "    def equip_weapon(self, weapon):\n",
    "        if isinstance(weapon, Weapon) :\n",
    "            self.weapon_id = weapon.id\n",
    "            return True\n",
    "        return False\n",
    "        \n",
    "    def equip_armor(self, armor):\n",
    "        if isinstance(armor, Armor) :\n",
    "            self.armor_id = armor.id\n",
    "            return True\n",
    "        return False\n",
    "    \n",
    "    # def add_item(self, item):\n",
    "    #     if isinstance(item, Item) :\n",
    "    #         self.items.append(item.id)\n",
    "    #         return True\n",
    "    #     return False"
   ]
  },
  {
   "cell_type": "code",
   "execution_count": 8,
   "id": "08272abe-d028-4331-a0fd-2ba047bb4558",
   "metadata": {
    "tags": []
   },
   "outputs": [],
   "source": [
    "noms_personnages = [\n",
    "    \"Aria\", \"Balthazar\", \"Cassandra\", \"Darian\", \"Elena\", \"Felix\", \"Gabrielle\", \"Hadrien\",\n",
    "    \"Isadora\", \"Jasper\", \"Kaïra\", \"Landon\", \"Maïlys\", \"Nolan\", \"Olivia\", \"Philemon\",\n",
    "    \"Quintus\", \"Raphael\", \"Saoirse\", \"Thaddeus\", \"Ursula\", \"Valentin\", \"Wilhelm\", \"Xander\",\n",
    "    \"Yara\", \"Zander\", \"Aidan\", \"Brianna\", \"Caleb\", \"Dahlia\", \"Evelyn\", \"Finnegan\", \"Gwendolyn\",\n",
    "    \"Harvey\", \"Imogen\", \"Jaden\", \"Kendra\", \"Liam\", \"Matilda\", \"Niamh\", \"Ophelia\", \"Percival\",\n",
    "    \"Qiana\", \"Riley\", \"Sebastian\", \"Tristan\", \"Uriel\", \"Violet\", \"Wyatt\", \"Xiomara\", \"Yvette\", \"Zelda\"\n",
    "]\n",
    "noms_armors = [\n",
    "    \"Armure de cuir\", \"Armure de fer\", \"Armure de plaque\", \"Armure de mailles\", \"Armure de glace\",\n",
    "    \"Armure d'os\", \"Armure d'écailles\", \"Armure de dragon\", \"Armure de lumière\", \"Armure de ténèbres\",\n",
    "    \"Armure de cristal\", \"Armure de mithril\", \"Armure de diamant\", \"Armure de feu\", \"Armure de foudre\",\n",
    "    \"Armure de glace\", \"Armure de vent\", \"Armure de l'eau\", \"Armure de terre\", \"Armure de roche\",\n",
    "    \"Armure de bois\", \"Armure de métal\", \"Armure de magma\", \"Armure de néant\", \"Armure de luminescence\",\n",
    "    \"Armure de brume\", \"Armure de tempête\", \"Armure de mort\", \"Armure de vie\", \"Armure de guérison\",\n",
    "    \"Armure de force\", \"Armure de sagesse\", \"Armure de chance\", \"Armure de la nature\", \"Armure des anges\",\n",
    "    \"Armure des démons\", \"Armure des héros\", \"Armure des rois\", \"Armure des elfes\", \"Armure des nains\",\n",
    "    \"Armure des gnomes\", \"Armure des orcs\", \"Armure des gobelins\", \"Armure des trolls\", \"Armure des géants\",\n",
    "    \"Armure de lave\", \"Armure de lumière divine\", \"Armure de l'ombre\", \"Armure de l'océan\", \"Armure des vents\",\n",
    "    \"Armure des montagnes\"\n",
    "]\n",
    "noms_weapons = [\n",
    "    \"Épée de cristal\", \"Hache de guerre\", \"Bâton de feu\", \"Dague empoisonnée\", \"Arc long\",\n",
    "    \"Masse d'armes\", \"Lance d'argent\", \"Baguette magique\", \"Gourdin\", \"Katana\",\n",
    "    \"Fouet de combat\", \"Fleuret du duelliste\", \"Marteau de guerre\", \"Glaive\", \"Rapière\",\n",
    "    \"Arbalète\", \"Hallebarde\", \"Gantelet de force\", \"Canne de mage\", \"Livre de sortilèges\",\n",
    "    \"Fléau\", \"Arc court\", \"Cimeterre\", \"Couteau de lancer\", \"Poignard\",\n",
    "    \"Épée bâtarde\", \"Hache double\", \"Bâton de glace\", \"Dague runique\", \"Arc de chasse\",\n",
    "    \"Marteau de Thor\", \"Lance de la foudre\", \"Baguette d'illusion\", \"Gourdin épineux\", \"Wakizashi\",\n",
    "    \"Fouet barbelé\", \"Épée courte\", \"Marteau-piqueur\", \"Glaive du serpent\", \"Rapière en argent\",\n",
    "    \"Arbalète à répétition\", \"Hallebarde du jugement\", \"Gantelet du titan\", \"Canne à feu\", \"Livre de connaissances\",\n",
    "    \"Fléau des ténèbres\", \"Arc de la lune noire\", \"Cimeterre démoniaque\", \"Couteau de jet empoisonné\", \"Poignard de l'ombre\",\n",
    "]"
   ]
  },
  {
   "cell_type": "code",
   "execution_count": 9,
   "id": "3ad1bb30-036a-49e1-8e28-69616e8c1260",
   "metadata": {
    "tags": []
   },
   "outputs": [
    {
     "name": "stdout",
     "output_type": "stream",
     "text": [
      "{'id': 26, 'name': 'Zander', 'pv': 114, 'max_pv': 114, 'atk': 50, 'atk_magik': 1, 'mana': 93, 'max_mana': 93, 'initiative': 99, 'experience': 93, 'experience_to_level_up': 532, 'level': 2, 'speed': 13, 'origine_speed': 49, 'items': [], 'weapon_id': 7, 'armor_id': 8}\n",
      "['id', 'name', 'pv', 'max_pv', 'atk', 'atk_magik', 'mana', 'max_mana', 'initiative', 'experience', 'experience_to_level_up', 'level', 'speed', 'origine_speed', 'items', 'weapon_id', 'armor_id']\n",
      "['id', 'name', 'armor', 'armor_magik', 'mana', 'durability', 'max_durability', 'broken']\n",
      "['id', 'name', 'atk', 'atk_magik', 'mana', 'mana_cost', 'durability', 'max_durability', 'broken']\n"
     ]
    }
   ],
   "source": [
    "# Génération de 50 personnages, armors et weapons aléatoires\n",
    "hero_list = []\n",
    "armor_list = []\n",
    "weapon_list = []\n",
    "for i in range(50):\n",
    "    hero = Hero(name=noms_personnages[i], pv=random.randint(50, 200), atk=random.randint(1, 50), atk_magik=random.randint(1, 50),\n",
    "                mana=random.randint(1, 100), initiative=random.randint(1, 100), experience=random.randint(1, 1000),\n",
    "                experience_to_level_up=random.randint(100, 1000), level=random.randint(1, 10), speed=random.randint(1, 100),\n",
    "                origine_speed=random.randint(1, 100), weapon_id=random.randint(1, 50), armor_id=random.randint(1, 50))\n",
    "    hero_list.append(hero)\n",
    "    \n",
    "    armor = Armor(name=noms_armors[i], armor=random.randint(1, 10), armor_magik=random.randint(1, 5),\n",
    "                  mana=random.randint(1, 5), durability=random.randint(1, 10),\n",
    "                  max_durability=random.randint(10, 20))\n",
    "    armor_list.append(armor)\n",
    "\n",
    "    weapon = Weapon(name=noms_weapons[i], atk=random.randint(1, 10), atk_magik=random.randint(1, 5),\n",
    "                    mana=random.randint(1, 5), mana_cost=random.randint(1, 5),\n",
    "                    durability=random.randint(1, 10), max_durability=random.randint(10, 20))\n",
    "    weapon_list.append(weapon)\n",
    "print(hero_list[25].to_dict())\n",
    "\n",
    "hero_attribute_names = list(hero_list[0].to_dict().keys())\n",
    "armor_attribute_names = list(armor_list[0].to_dict().keys())\n",
    "weapon_attribute_names = list(weapon_list[0].to_dict().keys())\n",
    "hero_list[25].equip_weapon(weapon_list[25])\n",
    "print(hero_attribute_names)\n",
    "print(armor_attribute_names)\n",
    "print(weapon_attribute_names)"
   ]
  },
  {
   "cell_type": "code",
   "execution_count": 10,
   "id": "2e01fa10-e0b5-43d5-9a5d-a5fc9a01e9ad",
   "metadata": {},
   "outputs": [],
   "source": [
    "# Écriture de la table dans un fichier CSV\n",
    "def csv_geenerator(path, items_list):\n",
    "    with open(path, mode=\"w\", newline='') as file:\n",
    "        fieldnames = list(items_list[0].to_dict().keys())\n",
    "        writer = csv.DictWriter(file, fieldnames=fieldnames)\n",
    "        writer.writeheader()\n",
    "        for item in items_list:\n",
    "            writer.writerow({k: v.encode('utf-8').decode('ascii', 'ignore') if isinstance(v, str) else v for k, v in item.to_dict().items()})\n",
    "\n"
   ]
  },
  {
   "cell_type": "code",
   "execution_count": 11,
   "id": "b5194021-ffa9-467a-b46b-210d265daebc",
   "metadata": {},
   "outputs": [],
   "source": [
    "csv_geenerator(\"assets/csv/hero.csv\", hero_list)\n",
    "csv_geenerator(\"assets/csv/armor.csv\", armor_list)\n",
    "csv_geenerator(\"assets/csv/weapon.csv\", weapon_list)"
   ]
  },
  {
   "cell_type": "code",
   "execution_count": 12,
   "id": "5977c28f-6a97-44bb-bbfa-f640c4a7c836",
   "metadata": {
    "tags": []
   },
   "outputs": [],
   "source": [
    "# mycursor = mydb.cursor()\n",
    "\n",
    "# mycursor.execute(\"SELECT * FROM yourtable\")\n",
    "\n",
    "# myresult = mycursor.fetchall()\n",
    "\n",
    "# for x in myresult:\n",
    "#   print(x)\n",
    "\n",
    "\n",
    "spark = SparkSession.builder.appName('Create_Hero').getOrCreate()\n",
    "\n",
    "df_hero = spark.read.csv(\"assets/csv/hero.csv\", header=True, inferSchema=True)\n",
    "df_armor = spark.read.csv(\"assets/csv/armor.csv\", header=True, inferSchema=True)\n",
    "df_weapon = spark.read.csv(\"assets/csv/weapon.csv\", header=True, inferSchema=True)\n",
    "\n"
   ]
  },
  {
   "cell_type": "code",
   "execution_count": 13,
   "id": "36b2e6a0-5536-415e-bfba-b08fc5c3197a",
   "metadata": {},
   "outputs": [
    {
     "name": "stdout",
     "output_type": "stream",
     "text": [
      "+---+---------+---+------+---+---------+----+--------+----------+----------+----------------------+-----+-----+-------------+-----+---------+--------+\n",
      "| id|     name| pv|max_pv|atk|atk_magik|mana|max_mana|initiative|experience|experience_to_level_up|level|speed|origine_speed|items|weapon_id|armor_id|\n",
      "+---+---------+---+------+---+---------+----+--------+----------+----------+----------------------+-----+-----+-------------+-----+---------+--------+\n",
      "|  1|     Aria| 75|    75| 30|       32|  58|      58|        32|       700|                   742|    1|   39|           69|   []|       21|      12|\n",
      "|  2|Balthazar| 62|    62| 36|       44|  92|      92|        97|       762|                   383|    3|   40|           55|   []|       32|      27|\n",
      "|  3|Cassandra| 98|    98| 13|       14|  61|      61|        88|       896|                   442|    5|   34|           59|   []|        1|      28|\n",
      "|  4|   Darian|127|   127| 16|       27|   7|       7|        15|       505|                   979|    9|   91|           31|   []|        1|      19|\n",
      "|  5|    Elena|200|   200| 25|        6|  49|      49|        66|       484|                   902|    3|   20|           44|   []|       32|       2|\n",
      "|  6|    Felix|150|   150| 30|       47|  35|      35|        68|       347|                   709|    6|   94|           39|   []|       48|      33|\n",
      "|  7|Gabrielle| 53|    53| 26|       10|  77|      77|        14|       461|                   844|    4|   46|           60|   []|       21|      14|\n",
      "|  8|  Hadrien| 98|    98| 48|       34|  15|      15|        39|       195|                   999|   10|   36|           92|   []|       45|      11|\n",
      "|  9|  Isadora|188|   188| 30|       13|  59|      59|        40|       724|                   462|    8|   21|           91|   []|       21|      45|\n",
      "| 10|   Jasper| 71|    71| 14|       50|  75|      75|        19|        46|                   593|    9|   94|           87|   []|       36|      47|\n",
      "| 11|     Kara| 68|    68| 24|       43|  50|      50|        42|       561|                   585|    3|   25|           25|   []|       41|      13|\n",
      "| 12|   Landon|193|   193| 13|        9|   3|       3|        40|       270|                   435|    5|   81|           57|   []|        2|      46|\n",
      "| 13|    Malys| 68|    68| 14|       39|  67|      67|        51|       588|                   542|    8|   85|           97|   []|       26|      38|\n",
      "| 14|    Nolan|192|   192| 11|        9|  69|      69|        35|       731|                   150|   10|   41|           62|   []|       40|      35|\n",
      "| 15|   Olivia|117|   117|  3|       41|  57|      57|        43|         3|                   531|    6|   22|            6|   []|       10|      39|\n",
      "| 16| Philemon|165|   165| 14|       20|   9|       9|       100|       861|                   994|    7|   62|           59|   []|       11|      45|\n",
      "| 17|  Quintus|115|   115| 23|       45|  49|      49|        88|       467|                   487|    3|   46|           90|   []|       48|      26|\n",
      "| 18|  Raphael| 87|    87| 14|       12|  60|      60|        21|       318|                   832|    7|   13|           66|   []|       47|       8|\n",
      "| 19|  Saoirse|164|   164| 40|       35| 100|     100|        30|       450|                   536|    8|    7|           70|   []|       47|      44|\n",
      "| 20| Thaddeus| 60|    60| 24|       44|  12|      12|        83|       727|                   162|    8|   48|           59|   []|        7|      50|\n",
      "+---+---------+---+------+---+---------+----+--------+----------+----------+----------------------+-----+-----+-------------+-----+---------+--------+\n",
      "only showing top 20 rows\n",
      "\n",
      "+---+-----------------+-----+-----------+----+----------+--------------+------+\n",
      "| id|             name|armor|armor_magik|mana|durability|max_durability|broken|\n",
      "+---+-----------------+-----+-----------+----+----------+--------------+------+\n",
      "|  1|   Armure de cuir|    1|          4|   4|         6|            10| false|\n",
      "|  2|    Armure de fer|    5|          4|   5|         1|            10| false|\n",
      "|  3| Armure de plaque|    5|          2|   3|         7|            17| false|\n",
      "|  4|Armure de mailles|    3|          5|   4|         7|            16| false|\n",
      "|  5|  Armure de glace|    4|          3|   4|         8|            10| false|\n",
      "|  6|      Armure d'os|    3|          4|   3|         9|            13| false|\n",
      "|  7| Armure d'cailles|    4|          5|   4|         8|            18| false|\n",
      "|  8| Armure de dragon|    9|          5|   5|         2|            13| false|\n",
      "|  9| Armure de lumire|   10|          3|   2|        10|            16| false|\n",
      "| 10| Armure de tnbres|    5|          5|   5|         4|            13| false|\n",
      "| 11|Armure de cristal|    5|          3|   3|         8|            18| false|\n",
      "| 12|Armure de mithril|    8|          2|   1|         8|            14| false|\n",
      "| 13|Armure de diamant|    6|          3|   1|        10|            12| false|\n",
      "| 14|    Armure de feu|    5|          2|   2|         3|            11| false|\n",
      "| 15| Armure de foudre|    1|          4|   5|         8|            10| false|\n",
      "| 16|  Armure de glace|    9|          2|   5|         7|            17| false|\n",
      "| 17|   Armure de vent|    6|          1|   3|        10|            13| false|\n",
      "| 18|  Armure de l'eau|    3|          5|   5|         3|            12| false|\n",
      "| 19|  Armure de terre|    7|          3|   2|         3|            19| false|\n",
      "| 20|  Armure de roche|    6|          4|   4|         6|            20| false|\n",
      "+---+-----------------+-----+-----------+----+----------+--------------+------+\n",
      "only showing top 20 rows\n",
      "\n",
      "+---+--------------------+---+---------+----+---------+----------+--------------+------+\n",
      "| id|                name|atk|atk_magik|mana|mana_cost|durability|max_durability|broken|\n",
      "+---+--------------------+---+---------+----+---------+----------+--------------+------+\n",
      "|  1|       pe de cristal|  5|        1|   3|        5|         1|            10| false|\n",
      "|  2|     Hache de guerre|  9|        4|   3|        1|         5|            11| false|\n",
      "|  3|         Bton de feu| 10|        1|   1|        1|         8|            10| false|\n",
      "|  4|    Dague empoisonne|  3|        5|   4|        2|         5|            13| false|\n",
      "|  5|            Arc long|  1|        5|   4|        2|         1|            16| false|\n",
      "|  6|       Masse d'armes|  3|        1|   1|        2|         1|            10| false|\n",
      "|  7|      Lance d'argent|  9|        4|   5|        3|         7|            17| false|\n",
      "|  8|    Baguette magique|  5|        1|   1|        2|         6|            13| false|\n",
      "|  9|             Gourdin|  1|        3|   2|        4|         4|            13| false|\n",
      "| 10|              Katana|  9|        5|   4|        4|         7|            13| false|\n",
      "| 11|     Fouet de combat|  2|        5|   1|        1|         5|            10| false|\n",
      "| 12|Fleuret du duelliste|  5|        2|   1|        1|         2|            14| false|\n",
      "| 13|   Marteau de guerre|  2|        4|   4|        2|         4|            11| false|\n",
      "| 14|              Glaive|  5|        2|   2|        5|        10|            20| false|\n",
      "| 15|              Rapire|  7|        3|   4|        3|         5|            18| false|\n",
      "| 16|             Arbalte|  4|        2|   4|        2|         6|            10| false|\n",
      "| 17|          Hallebarde| 10|        3|   5|        3|         5|            17| false|\n",
      "| 18|   Gantelet de force|  6|        2|   2|        1|         2|            11| false|\n",
      "| 19|       Canne de mage|  2|        4|   5|        3|         8|            20| false|\n",
      "| 20|  Livre de sortilges|  1|        2|   3|        2|         6|            11| false|\n",
      "+---+--------------------+---+---------+----+---------+----------+--------------+------+\n",
      "only showing top 20 rows\n",
      "\n"
     ]
    }
   ],
   "source": [
    "# Affichage des données du DataFrame\n",
    "df_hero.show()\n",
    "df_armor.show()\n",
    "df_weapon.show()\n",
    "# Création d'une vue temporaire à partir du DataFrame\n",
    "df_hero.createOrReplaceTempView(\"hero\")\n",
    "df_armor.createOrReplaceTempView(\"armor\")\n",
    "df_weapon.createOrReplaceTempView(\"weapon\")\n"
   ]
  },
  {
   "cell_type": "code",
   "execution_count": 14,
   "id": "ad2f5325-ab06-44fe-b8e6-a93386b32893",
   "metadata": {
    "tags": []
   },
   "outputs": [
    {
     "name": "stdout",
     "output_type": "stream",
     "text": [
      "[Table(name='armor', catalog=None, namespace=[], description=None, tableType='TEMPORARY', isTemporary=True), Table(name='hero', catalog=None, namespace=[], description=None, tableType='TEMPORARY', isTemporary=True), Table(name='weapon', catalog=None, namespace=[], description=None, tableType='TEMPORARY', isTemporary=True)]\n"
     ]
    }
   ],
   "source": [
    "print(spark.catalog.listTables())"
   ]
  },
  {
   "cell_type": "code",
   "execution_count": 15,
   "id": "2663bdfb-f5a9-4cd9-b076-5ab993398acc",
   "metadata": {
    "tags": []
   },
   "outputs": [
    {
     "name": "stdout",
     "output_type": "stream",
     "text": [
      "+---+---------+---+------+---+---------+----+--------+----------+----------+----------------------+-----+-----+-------------+-----+---------+--------+\n",
      "|id |name     |pv |max_pv|atk|atk_magik|mana|max_mana|initiative|experience|experience_to_level_up|level|speed|origine_speed|items|weapon_id|armor_id|\n",
      "+---+---------+---+------+---+---------+----+--------+----------+----------+----------------------+-----+-----+-------------+-----+---------+--------+\n",
      "|4  |Darian   |127|127   |16 |27       |7   |7       |15        |505       |979                   |9    |91   |31           |[]   |1        |19      |\n",
      "|5  |Elena    |200|200   |25 |6        |49  |49      |66        |484       |902                   |3    |20   |44           |[]   |32       |2       |\n",
      "|6  |Felix    |150|150   |30 |47       |35  |35      |68        |347       |709                   |6    |94   |39           |[]   |48       |33      |\n",
      "|9  |Isadora  |188|188   |30 |13       |59  |59      |40        |724       |462                   |8    |21   |91           |[]   |21       |45      |\n",
      "|12 |Landon   |193|193   |13 |9        |3   |3       |40        |270       |435                   |5    |81   |57           |[]   |2        |46      |\n",
      "|14 |Nolan    |192|192   |11 |9        |69  |69      |35        |731       |150                   |10   |41   |62           |[]   |40       |35      |\n",
      "|15 |Olivia   |117|117   |3  |41       |57  |57      |43        |3         |531                   |6    |22   |6            |[]   |10       |39      |\n",
      "|16 |Philemon |165|165   |14 |20       |9   |9       |100       |861       |994                   |7    |62   |59           |[]   |11       |45      |\n",
      "|17 |Quintus  |115|115   |23 |45       |49  |49      |88        |467       |487                   |3    |46   |90           |[]   |48       |26      |\n",
      "|19 |Saoirse  |164|164   |40 |35       |100 |100     |30        |450       |536                   |8    |7    |70           |[]   |47       |44      |\n",
      "|22 |Valentin |167|167   |21 |2        |53  |53      |29        |375       |745                   |10   |44   |80           |[]   |50       |28      |\n",
      "|23 |Wilhelm  |142|142   |30 |41       |53  |53      |76        |126       |993                   |7    |85   |84           |[]   |15       |25      |\n",
      "|24 |Xander   |122|122   |45 |4        |3   |3       |30        |703       |853                   |2    |46   |73           |[]   |17       |24      |\n",
      "|26 |Zander   |114|114   |50 |1        |93  |93      |99        |93        |532                   |2    |13   |49           |[]   |26       |8       |\n",
      "|27 |Aidan    |173|173   |33 |39       |63  |63      |57        |1         |572                   |6    |75   |32           |[]   |12       |18      |\n",
      "|28 |Brianna  |193|193   |50 |3        |12  |12      |8         |369       |347                   |1    |2    |38           |[]   |21       |39      |\n",
      "|29 |Caleb    |105|105   |26 |10       |90  |90      |20        |894       |456                   |3    |97   |67           |[]   |46       |2       |\n",
      "|30 |Dahlia   |181|181   |50 |50       |68  |68      |16        |56        |986                   |3    |81   |7            |[]   |15       |42      |\n",
      "|33 |Gwendolyn|124|124   |29 |35       |38  |38      |39        |966       |601                   |3    |5    |78           |[]   |18       |49      |\n",
      "|34 |Harvey   |194|194   |8  |38       |17  |17      |70        |607       |886                   |9    |20   |59           |[]   |5        |15      |\n",
      "|35 |Imogen   |128|128   |45 |23       |1   |1       |22        |283       |681                   |7    |82   |44           |[]   |12       |21      |\n",
      "|40 |Niamh    |156|156   |18 |36       |76  |76      |35        |996       |387                   |1    |56   |41           |[]   |31       |33      |\n",
      "|41 |Ophelia  |142|142   |21 |21       |25  |25      |22        |109       |798                   |4    |77   |19           |[]   |49       |14      |\n",
      "|42 |Percival |187|187   |14 |45       |43  |43      |40        |98        |671                   |4    |93   |4            |[]   |47       |1       |\n",
      "|44 |Riley    |165|165   |36 |3        |50  |50      |60        |680       |331                   |1    |72   |34           |[]   |35       |23      |\n",
      "|45 |Sebastian|118|118   |47 |43       |24  |24      |12        |885       |151                   |5    |42   |20           |[]   |16       |37      |\n",
      "|46 |Tristan  |130|130   |31 |16       |86  |86      |26        |68        |906                   |8    |52   |76           |[]   |49       |8       |\n",
      "|47 |Uriel    |148|148   |42 |2        |21  |21      |46        |604       |557                   |3    |53   |34           |[]   |30       |42      |\n",
      "|48 |Violet   |130|130   |10 |26       |85  |85      |65        |589       |484                   |5    |98   |89           |[]   |34       |31      |\n",
      "|49 |Wyatt    |111|111   |15 |22       |18  |18      |69        |615       |172                   |10   |75   |28           |[]   |5        |2       |\n",
      "|50 |Xiomara  |199|199   |11 |45       |39  |39      |6         |160       |288                   |5    |27   |77           |[]   |1        |37      |\n",
      "+---+---------+---+------+---+---------+----+--------+----------+----------+----------------------+-----+-----+-------------+-----+---------+--------+\n",
      "\n"
     ]
    }
   ],
   "source": [
    "\n",
    "# Exécution d'une requête SQL pour sélectionner les héros avec plus de 100 points de vie\n",
    "result = spark.sql(\"SELECT * FROM hero WHERE pv > 100\")\n",
    "\n",
    "# Affichage des résultats\n",
    "result.show(n=500, truncate=False)"
   ]
  },
  {
   "cell_type": "code",
   "execution_count": 16,
   "id": "9fae8866-8e4a-4b41-a59a-f20bb53776b2",
   "metadata": {
    "tags": []
   },
   "outputs": [
    {
     "name": "stdout",
     "output_type": "stream",
     "text": [
      "Table(name='armor', catalog=None, namespace=[], description=None, tableType='TEMPORARY', isTemporary=True)\n",
      "Table(name='hero', catalog=None, namespace=[], description=None, tableType='TEMPORARY', isTemporary=True)\n",
      "Table(name='weapon', catalog=None, namespace=[], description=None, tableType='TEMPORARY', isTemporary=True)\n"
     ]
    }
   ],
   "source": [
    "for table in spark.catalog.listTables():\n",
    "    print(table)"
   ]
  },
  {
   "cell_type": "code",
   "execution_count": 17,
   "id": "9a8bb10a-83f8-48ea-aea0-5532b2bf5929",
   "metadata": {
    "tags": []
   },
   "outputs": [
    {
     "name": "stdout",
     "output_type": "stream",
     "text": [
      "21\n",
      "32\n",
      "1\n",
      "1\n",
      "32\n",
      "48\n",
      "21\n",
      "45\n",
      "21\n",
      "36\n",
      "41\n",
      "2\n",
      "26\n",
      "40\n",
      "10\n",
      "11\n",
      "48\n",
      "47\n",
      "47\n",
      "7\n",
      "14\n",
      "50\n",
      "15\n",
      "17\n",
      "17\n",
      "26\n",
      "12\n",
      "21\n",
      "46\n",
      "15\n",
      "34\n",
      "26\n",
      "18\n",
      "5\n",
      "12\n",
      "44\n",
      "11\n",
      "49\n",
      "29\n",
      "31\n",
      "49\n",
      "47\n",
      "33\n",
      "35\n",
      "16\n",
      "49\n",
      "30\n",
      "34\n",
      "5\n",
      "1\n"
     ]
    }
   ],
   "source": [
    "weapon_column = spark.sql(f'''SELECT weapon_id FROM hero\n",
    "                             WHERE weapon_id IS NOT NULL\n",
    "                          ''').collect()\n",
    "\n",
    "for row in weapon_column:\n",
    "    print(row[0])"
   ]
  },
  {
   "cell_type": "code",
   "execution_count": 18,
   "id": "0feeb352-2b5e-4f20-ae85-c820ea512558",
   "metadata": {
    "tags": []
   },
   "outputs": [
    {
     "name": "stdout",
     "output_type": "stream",
     "text": [
      "+---+---------+---+---------+----+---------+----------+--------------+------+\n",
      "| id|     name|atk|atk_magik|mana|mana_cost|durability|max_durability|broken|\n",
      "+---+---------+---+---------+----+---------+----------+--------------+------+\n",
      "| 26|pe btarde| 10|        1|   1|        4|         3|            19| false|\n",
      "+---+---------+---+---------+----+---------+----------+--------------+------+\n",
      "\n",
      "+---+---------+---+---------+----+---------+----------+--------------+------+\n",
      "| id|     name|atk|atk_magik|mana|mana_cost|durability|max_durability|broken|\n",
      "+---+---------+---+---------+----+---------+----------+--------------+------+\n",
      "| 26|pe btarde| 10|        1|   1|        4|         3|            19| false|\n",
      "+---+---------+---+---------+----+---------+----------+--------------+------+\n",
      "\n",
      "+---+---------+---+------+---+---------+----+--------+----------+----------+----------------------+-----+-----+-------------+-----+---------+--------+---+--------------------+---+---------+----+---------+----------+--------------+------+\n",
      "| id|     name| pv|max_pv|atk|atk_magik|mana|max_mana|initiative|experience|experience_to_level_up|level|speed|origine_speed|items|weapon_id|armor_id| id|                name|atk|atk_magik|mana|mana_cost|durability|max_durability|broken|\n",
      "+---+---------+---+------+---+---------+----+--------+----------+----------+----------------------+-----+-----+-------------+-----+---------+--------+---+--------------------+---+---------+----+---------+----------+--------------+------+\n",
      "|  1|     Aria| 75|    75| 30|       32|  58|      58|        32|       700|                   742|    1|   39|           69|   []|       21|      12| 21|                Flau| 10|        2|   3|        1|         1|            18| false|\n",
      "|  2|Balthazar| 62|    62| 36|       44|  92|      92|        97|       762|                   383|    3|   40|           55|   []|       32|      27| 32|  Lance de la foudre|  8|        1|   5|        2|         7|            12| false|\n",
      "|  3|Cassandra| 98|    98| 13|       14|  61|      61|        88|       896|                   442|    5|   34|           59|   []|        1|      28|  1|       pe de cristal|  5|        1|   3|        5|         1|            10| false|\n",
      "|  4|   Darian|127|   127| 16|       27|   7|       7|        15|       505|                   979|    9|   91|           31|   []|        1|      19|  1|       pe de cristal|  5|        1|   3|        5|         1|            10| false|\n",
      "|  5|    Elena|200|   200| 25|        6|  49|      49|        66|       484|                   902|    3|   20|           44|   []|       32|       2| 32|  Lance de la foudre|  8|        1|   5|        2|         7|            12| false|\n",
      "|  6|    Felix|150|   150| 30|       47|  35|      35|        68|       347|                   709|    6|   94|           39|   []|       48|      33| 48| Cimeterre dmoniaque|  8|        5|   5|        4|         4|            18| false|\n",
      "|  7|Gabrielle| 53|    53| 26|       10|  77|      77|        14|       461|                   844|    4|   46|           60|   []|       21|      14| 21|                Flau| 10|        2|   3|        1|         1|            18| false|\n",
      "|  8|  Hadrien| 98|    98| 48|       34|  15|      15|        39|       195|                   999|   10|   36|           92|   []|       45|      11| 45|Livre de connaiss...|  1|        2|   4|        3|         8|            13| false|\n",
      "|  9|  Isadora|188|   188| 30|       13|  59|      59|        40|       724|                   462|    8|   21|           91|   []|       21|      45| 21|                Flau| 10|        2|   3|        1|         1|            18| false|\n",
      "| 10|   Jasper| 71|    71| 14|       50|  75|      75|        19|        46|                   593|    9|   94|           87|   []|       36|      47| 36|        Fouet barbel|  4|        2|   1|        2|        10|            11| false|\n",
      "| 11|     Kara| 68|    68| 24|       43|  50|      50|        42|       561|                   585|    3|   25|           25|   []|       41|      13| 41|   Arbalte  rptition|  4|        3|   2|        2|         4|            20| false|\n",
      "| 12|   Landon|193|   193| 13|        9|   3|       3|        40|       270|                   435|    5|   81|           57|   []|        2|      46|  2|     Hache de guerre|  9|        4|   3|        1|         5|            11| false|\n",
      "| 13|    Malys| 68|    68| 14|       39|  67|      67|        51|       588|                   542|    8|   85|           97|   []|       26|      38| 26|           pe btarde| 10|        1|   1|        4|         3|            19| false|\n",
      "| 14|    Nolan|192|   192| 11|        9|  69|      69|        35|       731|                   150|   10|   41|           62|   []|       40|      35| 40|    Rapire en argent|  7|        3|   3|        1|         5|            15| false|\n",
      "| 15|   Olivia|117|   117|  3|       41|  57|      57|        43|         3|                   531|    6|   22|            6|   []|       10|      39| 10|              Katana|  9|        5|   4|        4|         7|            13| false|\n",
      "| 16| Philemon|165|   165| 14|       20|   9|       9|       100|       861|                   994|    7|   62|           59|   []|       11|      45| 11|     Fouet de combat|  2|        5|   1|        1|         5|            10| false|\n",
      "| 17|  Quintus|115|   115| 23|       45|  49|      49|        88|       467|                   487|    3|   46|           90|   []|       48|      26| 48| Cimeterre dmoniaque|  8|        5|   5|        4|         4|            18| false|\n",
      "| 18|  Raphael| 87|    87| 14|       12|  60|      60|        21|       318|                   832|    7|   13|           66|   []|       47|       8| 47|Arc de la lune noire|  9|        4|   4|        2|         6|            14| false|\n",
      "| 19|  Saoirse|164|   164| 40|       35| 100|     100|        30|       450|                   536|    8|    7|           70|   []|       47|      44| 47|Arc de la lune noire|  9|        4|   4|        2|         6|            14| false|\n",
      "| 20| Thaddeus| 60|    60| 24|       44|  12|      12|        83|       727|                   162|    8|   48|           59|   []|        7|      50|  7|      Lance d'argent|  9|        4|   5|        3|         7|            17| false|\n",
      "+---+---------+---+------+---+---------+----+--------+----------+----------+----------------------+-----+-----+-------------+-----+---------+--------+---+--------------------+---+---------+----+---------+----------+--------------+------+\n",
      "only showing top 20 rows\n",
      "\n",
      "+---+--------------------+---+---------+----+---------+----------+--------------+------+\n",
      "| id|                name|atk|atk_magik|mana|mana_cost|durability|max_durability|broken|\n",
      "+---+--------------------+---+---------+----+---------+----------+--------------+------+\n",
      "|  1|       pe de cristal|  5|        1|   3|        5|         1|            10| false|\n",
      "|  1|       pe de cristal|  5|        1|   3|        5|         1|            10| false|\n",
      "|  1|       pe de cristal|  5|        1|   3|        5|         1|            10| false|\n",
      "|  2|     Hache de guerre|  9|        4|   3|        1|         5|            11| false|\n",
      "|  5|            Arc long|  1|        5|   4|        2|         1|            16| false|\n",
      "|  5|            Arc long|  1|        5|   4|        2|         1|            16| false|\n",
      "|  7|      Lance d'argent|  9|        4|   5|        3|         7|            17| false|\n",
      "| 10|              Katana|  9|        5|   4|        4|         7|            13| false|\n",
      "| 11|     Fouet de combat|  2|        5|   1|        1|         5|            10| false|\n",
      "| 11|     Fouet de combat|  2|        5|   1|        1|         5|            10| false|\n",
      "| 12|Fleuret du duelliste|  5|        2|   1|        1|         2|            14| false|\n",
      "| 12|Fleuret du duelliste|  5|        2|   1|        1|         2|            14| false|\n",
      "| 14|              Glaive|  5|        2|   2|        5|        10|            20| false|\n",
      "| 15|              Rapire|  7|        3|   4|        3|         5|            18| false|\n",
      "| 15|              Rapire|  7|        3|   4|        3|         5|            18| false|\n",
      "| 16|             Arbalte|  4|        2|   4|        2|         6|            10| false|\n",
      "| 17|          Hallebarde| 10|        3|   5|        3|         5|            17| false|\n",
      "| 17|          Hallebarde| 10|        3|   5|        3|         5|            17| false|\n",
      "| 18|   Gantelet de force|  6|        2|   2|        1|         2|            11| false|\n",
      "| 21|                Flau| 10|        2|   3|        1|         1|            18| false|\n",
      "+---+--------------------+---+---------+----+---------+----------+--------------+------+\n",
      "only showing top 20 rows\n",
      "\n"
     ]
    }
   ],
   "source": [
    "\n",
    "spark.sql(f'''SELECT * FROM weapon \n",
    "            WHERE weapon.name LIKE '%btarde%'\n",
    "          ''').show()\n",
    "\n",
    "spark.sql(f'''SELECT * FROM weapon \n",
    "            WHERE weapon.id = 26\n",
    "          ''').show()\n",
    "\n",
    "spark.sql(f'''SELECT * FROM hero \n",
    "            JOIN weapon on hero.weapon_id = weapon.id\n",
    "          ''').show()\n",
    "\n",
    "spark.sql(f'''SELECT weapon.* FROM hero \n",
    "            JOIN weapon on hero.weapon_id = weapon.id\n",
    "          ''').show()"
   ]
  },
  {
   "cell_type": "code",
   "execution_count": 19,
   "id": "80c46c54-70c9-47b9-b6ae-a8603e4bd4fc",
   "metadata": {
    "tags": []
   },
   "outputs": [
    {
     "name": "stdout",
     "output_type": "stream",
     "text": [
      "+---+---------+---+------+---+---------+----+--------+----------+----------+----------------------+-----+-----+-------------+-----+---------+--------+---+--------------------+---+---------+----+---------+----------+--------------+------+\n",
      "| id|     name| pv|max_pv|atk|atk_magik|mana|max_mana|initiative|experience|experience_to_level_up|level|speed|origine_speed|items|weapon_id|armor_id| id|                name|atk|atk_magik|mana|mana_cost|durability|max_durability|broken|\n",
      "+---+---------+---+------+---+---------+----+--------+----------+----------+----------------------+-----+-----+-------------+-----+---------+--------+---+--------------------+---+---------+----+---------+----------+--------------+------+\n",
      "|  1|     Aria| 75|    75| 30|       32|  58|      58|        32|       700|                   742|    1|   39|           69|   []|       21|      12| 21|                Flau| 10|        2|   3|        1|         1|            18| false|\n",
      "|  2|Balthazar| 62|    62| 36|       44|  92|      92|        97|       762|                   383|    3|   40|           55|   []|       32|      27| 32|  Lance de la foudre|  8|        1|   5|        2|         7|            12| false|\n",
      "|  3|Cassandra| 98|    98| 13|       14|  61|      61|        88|       896|                   442|    5|   34|           59|   []|        1|      28|  1|       pe de cristal|  5|        1|   3|        5|         1|            10| false|\n",
      "|  4|   Darian|127|   127| 16|       27|   7|       7|        15|       505|                   979|    9|   91|           31|   []|        1|      19|  1|       pe de cristal|  5|        1|   3|        5|         1|            10| false|\n",
      "|  5|    Elena|200|   200| 25|        6|  49|      49|        66|       484|                   902|    3|   20|           44|   []|       32|       2| 32|  Lance de la foudre|  8|        1|   5|        2|         7|            12| false|\n",
      "|  6|    Felix|150|   150| 30|       47|  35|      35|        68|       347|                   709|    6|   94|           39|   []|       48|      33| 48| Cimeterre dmoniaque|  8|        5|   5|        4|         4|            18| false|\n",
      "|  7|Gabrielle| 53|    53| 26|       10|  77|      77|        14|       461|                   844|    4|   46|           60|   []|       21|      14| 21|                Flau| 10|        2|   3|        1|         1|            18| false|\n",
      "|  8|  Hadrien| 98|    98| 48|       34|  15|      15|        39|       195|                   999|   10|   36|           92|   []|       45|      11| 45|Livre de connaiss...|  1|        2|   4|        3|         8|            13| false|\n",
      "|  9|  Isadora|188|   188| 30|       13|  59|      59|        40|       724|                   462|    8|   21|           91|   []|       21|      45| 21|                Flau| 10|        2|   3|        1|         1|            18| false|\n",
      "| 10|   Jasper| 71|    71| 14|       50|  75|      75|        19|        46|                   593|    9|   94|           87|   []|       36|      47| 36|        Fouet barbel|  4|        2|   1|        2|        10|            11| false|\n",
      "| 11|     Kara| 68|    68| 24|       43|  50|      50|        42|       561|                   585|    3|   25|           25|   []|       41|      13| 41|   Arbalte  rptition|  4|        3|   2|        2|         4|            20| false|\n",
      "| 12|   Landon|193|   193| 13|        9|   3|       3|        40|       270|                   435|    5|   81|           57|   []|        2|      46|  2|     Hache de guerre|  9|        4|   3|        1|         5|            11| false|\n",
      "| 13|    Malys| 68|    68| 14|       39|  67|      67|        51|       588|                   542|    8|   85|           97|   []|       26|      38| 26|           pe btarde| 10|        1|   1|        4|         3|            19| false|\n",
      "| 14|    Nolan|192|   192| 11|        9|  69|      69|        35|       731|                   150|   10|   41|           62|   []|       40|      35| 40|    Rapire en argent|  7|        3|   3|        1|         5|            15| false|\n",
      "| 15|   Olivia|117|   117|  3|       41|  57|      57|        43|         3|                   531|    6|   22|            6|   []|       10|      39| 10|              Katana|  9|        5|   4|        4|         7|            13| false|\n",
      "| 16| Philemon|165|   165| 14|       20|   9|       9|       100|       861|                   994|    7|   62|           59|   []|       11|      45| 11|     Fouet de combat|  2|        5|   1|        1|         5|            10| false|\n",
      "| 17|  Quintus|115|   115| 23|       45|  49|      49|        88|       467|                   487|    3|   46|           90|   []|       48|      26| 48| Cimeterre dmoniaque|  8|        5|   5|        4|         4|            18| false|\n",
      "| 18|  Raphael| 87|    87| 14|       12|  60|      60|        21|       318|                   832|    7|   13|           66|   []|       47|       8| 47|Arc de la lune noire|  9|        4|   4|        2|         6|            14| false|\n",
      "| 19|  Saoirse|164|   164| 40|       35| 100|     100|        30|       450|                   536|    8|    7|           70|   []|       47|      44| 47|Arc de la lune noire|  9|        4|   4|        2|         6|            14| false|\n",
      "| 20| Thaddeus| 60|    60| 24|       44|  12|      12|        83|       727|                   162|    8|   48|           59|   []|        7|      50|  7|      Lance d'argent|  9|        4|   5|        3|         7|            17| false|\n",
      "+---+---------+---+------+---+---------+----+--------+----------+----------+----------------------+-----+-----+-------------+-----+---------+--------+---+--------------------+---+---------+----+---------+----------+--------------+------+\n",
      "only showing top 20 rows\n",
      "\n"
     ]
    }
   ],
   "source": [
    "spark.sql(f'''SELECT * \n",
    "            FROM hero \n",
    "            JOIN weapon ON hero.weapon_id = weapon.id\n",
    "            WHERE hero.weapon_id IS NOT NULL\n",
    "          ''').show()"
   ]
  },
  {
   "cell_type": "markdown",
   "source": [],
   "metadata": {
    "collapsed": false
   }
  },
  {
   "cell_type": "code",
   "execution_count": 20,
   "id": "5e36be71-d9b2-4055-be72-e59f850ec536",
   "metadata": {
    "tags": []
   },
   "outputs": [
    {
     "data": {
      "text/plain": "'weapon.id as weapon_id, weapon.name as weapon_name, weapon.atk as weapon_atk, weapon.atk_magik as weapon_atk_magik, weapon.mana as weapon_mana, weapon.mana_cost as weapon_mana_cost, weapon.durability as weapon_durability, weapon.max_durability as weapon_max_durability, weapon.broken as weapon_broken'"
     },
     "execution_count": 20,
     "metadata": {},
     "output_type": "execute_result"
    }
   ],
   "source": [
    "weapon_cols = [f\"weapon.{col} as weapon_{col}\" for col in  spark.table(\"weapon\").columns]\n",
    "weapon_cols_str = \", \".join(weapon_cols)\n",
    "weapon_cols_str\n",
    "\n"
   ]
  },
  {
   "cell_type": "code",
   "execution_count": 21,
   "id": "05cdd0b2-0cf2-4021-9923-8bed732e1ffa",
   "metadata": {
    "tags": []
   },
   "outputs": [
    {
     "name": "stdout",
     "output_type": "stream",
     "text": [
      "\n",
      "    SELECT hero.*, weapon.id as weapon_id, weapon.name as weapon_name, weapon.atk as weapon_atk, weapon.atk_magik as weapon_atk_magik, weapon.mana as weapon_mana, weapon.mana_cost as weapon_mana_cost, weapon.durability as weapon_durability, weapon.max_durability as weapon_max_durability, weapon.broken as weapon_broken\n",
      "    FROM hero\n",
      "    JOIN weapon ON hero.weapon_id = weapon.id\n",
      "    WHERE hero.weapon_id IS NOT NULL\n",
      "\n",
      "+---+---------+---+------+---+---------+----+--------+----------+----------+----------------------+-----+-----+-------------+-----+---------+--------+---------+--------------------+\n",
      "| id|     name| pv|max_pv|atk|atk_magik|mana|max_mana|initiative|experience|experience_to_level_up|level|speed|origine_speed|items|weapon_id|armor_id|weapon_id|         weapon_name|\n",
      "+---+---------+---+------+---+---------+----+--------+----------+----------+----------------------+-----+-----+-------------+-----+---------+--------+---------+--------------------+\n",
      "|  1|     Aria| 75|    75| 30|       32|  58|      58|        32|       700|                   742|    1|   39|           69|   []|       21|      12|       21|                Flau|\n",
      "|  2|Balthazar| 62|    62| 36|       44|  92|      92|        97|       762|                   383|    3|   40|           55|   []|       32|      27|       32|  Lance de la foudre|\n",
      "|  3|Cassandra| 98|    98| 13|       14|  61|      61|        88|       896|                   442|    5|   34|           59|   []|        1|      28|        1|       pe de cristal|\n",
      "|  4|   Darian|127|   127| 16|       27|   7|       7|        15|       505|                   979|    9|   91|           31|   []|        1|      19|        1|       pe de cristal|\n",
      "|  5|    Elena|200|   200| 25|        6|  49|      49|        66|       484|                   902|    3|   20|           44|   []|       32|       2|       32|  Lance de la foudre|\n",
      "|  6|    Felix|150|   150| 30|       47|  35|      35|        68|       347|                   709|    6|   94|           39|   []|       48|      33|       48| Cimeterre dmoniaque|\n",
      "|  7|Gabrielle| 53|    53| 26|       10|  77|      77|        14|       461|                   844|    4|   46|           60|   []|       21|      14|       21|                Flau|\n",
      "|  8|  Hadrien| 98|    98| 48|       34|  15|      15|        39|       195|                   999|   10|   36|           92|   []|       45|      11|       45|Livre de connaiss...|\n",
      "|  9|  Isadora|188|   188| 30|       13|  59|      59|        40|       724|                   462|    8|   21|           91|   []|       21|      45|       21|                Flau|\n",
      "| 10|   Jasper| 71|    71| 14|       50|  75|      75|        19|        46|                   593|    9|   94|           87|   []|       36|      47|       36|        Fouet barbel|\n",
      "| 11|     Kara| 68|    68| 24|       43|  50|      50|        42|       561|                   585|    3|   25|           25|   []|       41|      13|       41|   Arbalte  rptition|\n",
      "| 12|   Landon|193|   193| 13|        9|   3|       3|        40|       270|                   435|    5|   81|           57|   []|        2|      46|        2|     Hache de guerre|\n",
      "| 13|    Malys| 68|    68| 14|       39|  67|      67|        51|       588|                   542|    8|   85|           97|   []|       26|      38|       26|           pe btarde|\n",
      "| 14|    Nolan|192|   192| 11|        9|  69|      69|        35|       731|                   150|   10|   41|           62|   []|       40|      35|       40|    Rapire en argent|\n",
      "| 15|   Olivia|117|   117|  3|       41|  57|      57|        43|         3|                   531|    6|   22|            6|   []|       10|      39|       10|              Katana|\n",
      "| 16| Philemon|165|   165| 14|       20|   9|       9|       100|       861|                   994|    7|   62|           59|   []|       11|      45|       11|     Fouet de combat|\n",
      "| 17|  Quintus|115|   115| 23|       45|  49|      49|        88|       467|                   487|    3|   46|           90|   []|       48|      26|       48| Cimeterre dmoniaque|\n",
      "| 18|  Raphael| 87|    87| 14|       12|  60|      60|        21|       318|                   832|    7|   13|           66|   []|       47|       8|       47|Arc de la lune noire|\n",
      "| 19|  Saoirse|164|   164| 40|       35| 100|     100|        30|       450|                   536|    8|    7|           70|   []|       47|      44|       47|Arc de la lune noire|\n",
      "| 20| Thaddeus| 60|    60| 24|       44|  12|      12|        83|       727|                   162|    8|   48|           59|   []|        7|      50|        7|      Lance d'argent|\n",
      "+---+---------+---+------+---+---------+----+--------+----------+----------+----------------------+-----+-----+-------------+-----+---------+--------+---------+--------------------+\n",
      "only showing top 20 rows\n",
      "\n"
     ]
    }
   ],
   "source": [
    "\n",
    "query = f\"\"\"\n",
    "    SELECT hero.*, {weapon_cols_str}\n",
    "    FROM hero\n",
    "    JOIN weapon ON hero.weapon_id = weapon.id\n",
    "    WHERE hero.weapon_id IS NOT NULL\n",
    "\"\"\"\n",
    "\n",
    "print(query)\n",
    "spark.sql('''\n",
    "    SELECT hero.*, weapon.id as weapon_id, weapon.name as weapon_name\n",
    "    FROM hero\n",
    "    JOIN weapon ON hero.weapon_id = weapon.id\n",
    "    WHERE hero.weapon_id IS NOT NULL\n",
    "''').show()"
   ]
  },
  {
   "cell_type": "code",
   "execution_count": 22,
   "id": "ce8fd600-76df-4945-aeb5-3ade7269c992",
   "metadata": {
    "tags": []
   },
   "outputs": [],
   "source": [
    "#####################################\n",
    "### On spark update doesn't work ###\n",
    "###################################\n",
    "\n",
    "\n",
    "# df_hero.createOrReplaceTempView(\"temp_hero\")\n",
    "# spark.sql(f'''SELECT * \n",
    "#             FROM temp_hero\n",
    "#             WHERE armor IS NULL OR armor = 42\n",
    "#           ''').show()\n",
    "\n",
    "\n",
    "# # Perform the update using SQL\n",
    "# spark.sql(\"\"\"\n",
    "#     UPDATE temp_hero\n",
    "#     SET armor = 42\n",
    "#     WHERE armor IS NULL\n",
    "# \"\"\")\n",
    "\n",
    "# # Overwrite the original table with the updated data\n",
    "# spark.sql(\"\"\"\n",
    "#     INSERT OVERWRITE TABLE hero\n",
    "#     SELECT * FROM temp_hero\n",
    "# \"\"\")"
   ]
  },
  {
   "cell_type": "code",
   "execution_count": 23,
   "id": "3d72989a-b55e-41a9-9ec1-5b7902899b67",
   "metadata": {
    "tags": []
   },
   "outputs": [
    {
     "name": "stdout",
     "output_type": "stream",
     "text": [
      "+---+---------+---+------+---+---------+----+--------+----------+----------+----------------------+-----+-----+-------------+-----+---------+--------+\n",
      "| id|     name| pv|max_pv|atk|atk_magik|mana|max_mana|initiative|experience|experience_to_level_up|level|speed|origine_speed|items|weapon_id|armor_id|\n",
      "+---+---------+---+------+---+---------+----+--------+----------+----------+----------------------+-----+-----+-------------+-----+---------+--------+\n",
      "|  1|     Aria| 75|    75| 30|       32|  58|      58|        32|       700|                   742|    1|   39|           69|   []|       21|      12|\n",
      "|  2|Balthazar| 62|    62| 36|       44|  92|      92|        97|       762|                   383|    3|   40|           55|   []|       32|      27|\n",
      "|  3|Cassandra| 98|    98| 13|       14|  61|      61|        88|       896|                   442|    5|   34|           59|   []|        1|      28|\n",
      "|  4|   Darian|127|   127| 16|       27|   7|       7|        15|       505|                   979|    9|   91|           31|   []|        1|      19|\n",
      "|  5|    Elena|200|   200| 25|        6|  49|      49|        66|       484|                   902|    3|   20|           44|   []|       32|       2|\n",
      "|  6|    Felix|150|   150| 30|       47|  35|      35|        68|       347|                   709|    6|   94|           39|   []|       48|      33|\n",
      "|  7|Gabrielle| 53|    53| 26|       10|  77|      77|        14|       461|                   844|    4|   46|           60|   []|       21|      14|\n",
      "|  8|  Hadrien| 98|    98| 48|       34|  15|      15|        39|       195|                   999|   10|   36|           92|   []|       45|      11|\n",
      "|  9|  Isadora|188|   188| 30|       13|  59|      59|        40|       724|                   462|    8|   21|           91|   []|       21|      45|\n",
      "| 10|   Jasper| 71|    71| 14|       50|  75|      75|        19|        46|                   593|    9|   94|           87|   []|       36|      47|\n",
      "| 11|     Kara| 68|    68| 24|       43|  50|      50|        42|       561|                   585|    3|   25|           25|   []|       41|      13|\n",
      "| 12|   Landon|193|   193| 13|        9|   3|       3|        40|       270|                   435|    5|   81|           57|   []|        2|      46|\n",
      "| 13|    Malys| 68|    68| 14|       39|  67|      67|        51|       588|                   542|    8|   85|           97|   []|       26|      38|\n",
      "| 14|    Nolan|192|   192| 11|        9|  69|      69|        35|       731|                   150|   10|   41|           62|   []|       40|      35|\n",
      "| 15|   Olivia|117|   117|  3|       41|  57|      57|        43|         3|                   531|    6|   22|            6|   []|       10|      39|\n",
      "| 16| Philemon|165|   165| 14|       20|   9|       9|       100|       861|                   994|    7|   62|           59|   []|       11|      45|\n",
      "| 17|  Quintus|115|   115| 23|       45|  49|      49|        88|       467|                   487|    3|   46|           90|   []|       48|      26|\n",
      "| 18|  Raphael| 87|    87| 14|       12|  60|      60|        21|       318|                   832|    7|   13|           66|   []|       47|      18|\n",
      "| 19|  Saoirse|164|   164| 40|       35| 100|     100|        30|       450|                   536|    8|    7|           70|   []|       47|      44|\n",
      "| 20| Thaddeus| 60|    60| 24|       44|  12|      12|        83|       727|                   162|    8|   48|           59|   []|        7|      50|\n",
      "+---+---------+---+------+---+---------+----+--------+----------+----------+----------------------+-----+-----+-------------+-----+---------+--------+\n",
      "only showing top 20 rows\n",
      "\n"
     ]
    }
   ],
   "source": [
    "def armor_update_table(updated_df):\n",
    "    # Mettre à jour la colonne \"armor\" avec les valeurs de la colonne \"armor_updated\"\n",
    "    updated_df = updated_df.withColumn('armor_id', col('armor_updated'))\n",
    "    # Supprimer la colonne \"armor_updated\"\n",
    "    updated_df = updated_df.drop('armor_updated')\n",
    "    \n",
    "    return updated_df\n",
    "\n",
    "\n",
    "\n",
    "# Créer une nouvelle colonne avec la valeur mise à jour conditionnellement\n",
    "updated_df = df_hero.withColumn('armor_updated', when(col('id') == 18, 18).otherwise(col('armor_id')))\n",
    "\n",
    "\n",
    "# Mettre à jour la colonne \"armor\" avec les valeurs de la colonne \"armor_updated\" et Supprimer la colonne \"armor_updated\" \n",
    "df_hero = armor_update_table(updated_df)\n",
    "\n",
    "# Afficher le DataFrame mis à jour\n",
    "df_hero.show()"
   ]
  },
  {
   "cell_type": "code",
   "execution_count": 24,
   "id": "74c811ef-ecdb-425b-9664-b3e229a52a47",
   "metadata": {},
   "outputs": [
    {
     "name": "stdout",
     "output_type": "stream",
     "text": [
      "+---+---------+---+------+---+---------+----+--------+----------+----------+----------------------+-----+-----+-------------+-----+---------+--------+\n",
      "| id|     name| pv|max_pv|atk|atk_magik|mana|max_mana|initiative|experience|experience_to_level_up|level|speed|origine_speed|items|weapon_id|armor_id|\n",
      "+---+---------+---+------+---+---------+----+--------+----------+----------+----------------------+-----+-----+-------------+-----+---------+--------+\n",
      "|  1|     Aria| 75|    75| 30|       32|  58|      58|        32|       700|                   742|    1|   39|           69|   []|       21|      14|\n",
      "|  2|Balthazar| 62|    62| 36|       44|  92|      92|        97|       762|                   383|    3|   40|           55|   []|       32|      14|\n",
      "|  3|Cassandra| 98|    98| 13|       14|  61|      61|        88|       896|                   442|    5|   34|           59|   []|        1|      14|\n",
      "|  4|   Darian|127|   127| 16|       27|   7|       7|        15|       505|                   979|    9|   91|           31|   []|        1|      14|\n",
      "|  5|    Elena|200|   200| 25|        6|  49|      49|        66|       484|                   902|    3|   20|           44|   []|       32|      14|\n",
      "|  6|    Felix|150|   150| 30|       47|  35|      35|        68|       347|                   709|    6|   94|           39|   []|       48|      14|\n",
      "|  7|Gabrielle| 53|    53| 26|       10|  77|      77|        14|       461|                   844|    4|   46|           60|   []|       21|      14|\n",
      "|  8|  Hadrien| 98|    98| 48|       34|  15|      15|        39|       195|                   999|   10|   36|           92|   []|       45|      14|\n",
      "|  9|  Isadora|188|   188| 30|       13|  59|      59|        40|       724|                   462|    8|   21|           91|   []|       21|      14|\n",
      "| 10|   Jasper| 71|    71| 14|       50|  75|      75|        19|        46|                   593|    9|   94|           87|   []|       36|      14|\n",
      "| 11|     Kara| 68|    68| 24|       43|  50|      50|        42|       561|                   585|    3|   25|           25|   []|       41|      14|\n",
      "| 12|   Landon|193|   193| 13|        9|   3|       3|        40|       270|                   435|    5|   81|           57|   []|        2|      14|\n",
      "| 13|    Malys| 68|    68| 14|       39|  67|      67|        51|       588|                   542|    8|   85|           97|   []|       26|      14|\n",
      "| 14|    Nolan|192|   192| 11|        9|  69|      69|        35|       731|                   150|   10|   41|           62|   []|       40|      14|\n",
      "| 15|   Olivia|117|   117|  3|       41|  57|      57|        43|         3|                   531|    6|   22|            6|   []|       10|      39|\n",
      "| 16| Philemon|165|   165| 14|       20|   9|       9|       100|       861|                   994|    7|   62|           59|   []|       11|      45|\n",
      "| 17|  Quintus|115|   115| 23|       45|  49|      49|        88|       467|                   487|    3|   46|           90|   []|       48|      26|\n",
      "| 18|  Raphael| 87|    87| 14|       12|  60|      60|        21|       318|                   832|    7|   13|           66|   []|       47|      18|\n",
      "| 19|  Saoirse|164|   164| 40|       35| 100|     100|        30|       450|                   536|    8|    7|           70|   []|       47|      44|\n",
      "| 20| Thaddeus| 60|    60| 24|       44|  12|      12|        83|       727|                   162|    8|   48|           59|   []|        7|      50|\n",
      "| 21|   Ursula| 95|    95| 38|       33|  68|      68|        39|       595|                   737|    6|   50|            3|   []|       14|      14|\n",
      "| 22| Valentin|167|   167| 21|        2|  53|      53|        29|       375|                   745|   10|   44|           80|   []|       50|      14|\n",
      "| 23|  Wilhelm|142|   142| 30|       41|  53|      53|        76|       126|                   993|    7|   85|           84|   []|       15|      14|\n",
      "| 24|   Xander|122|   122| 45|        4|   3|       3|        30|       703|                   853|    2|   46|           73|   []|       17|      14|\n",
      "| 25|     Yara| 90|    90| 44|       24|  27|      27|        85|        19|                   919|    9|   84|            2|   []|       17|      14|\n",
      "| 26|   Zander|114|   114| 50|        1|  93|      93|        99|        93|                   532|    2|   13|           49|   []|       26|      14|\n",
      "| 27|    Aidan|173|   173| 33|       39|  63|      63|        57|         1|                   572|    6|   75|           32|   []|       12|      14|\n",
      "| 28|  Brianna|193|   193| 50|        3|  12|      12|         8|       369|                   347|    1|    2|           38|   []|       21|      14|\n",
      "| 29|    Caleb|105|   105| 26|       10|  90|      90|        20|       894|                   456|    3|   97|           67|   []|       46|      14|\n",
      "| 30|   Dahlia|181|   181| 50|       50|  68|      68|        16|        56|                   986|    3|   81|            7|   []|       15|      14|\n",
      "| 31|   Evelyn| 67|    67| 14|       26|   2|       2|        17|       539|                   418|    1|   34|            8|   []|       34|      14|\n",
      "| 32| Finnegan| 98|    98| 14|       33|  56|      56|        53|       831|                   362|    7|   34|           60|   []|       26|      14|\n",
      "| 33|Gwendolyn|124|   124| 29|       35|  38|      38|        39|       966|                   601|    3|    5|           78|   []|       18|      14|\n",
      "| 34|   Harvey|194|   194|  8|       38|  17|      17|        70|       607|                   886|    9|   20|           59|   []|        5|      14|\n",
      "| 35|   Imogen|128|   128| 45|       23|   1|       1|        22|       283|                   681|    7|   82|           44|   []|       12|      14|\n",
      "| 36|    Jaden| 73|    73|  2|       16|  13|      13|        16|       783|                   868|    9|   75|           58|   []|       44|      14|\n",
      "| 37|   Kendra| 88|    88| 16|       22|  95|      95|        77|       740|                   709|    7|   13|           71|   []|       11|      14|\n",
      "| 38|     Liam| 56|    56| 40|       39|  81|      81|        69|       257|                   581|    9|   87|           14|   []|       49|      14|\n",
      "| 39|  Matilda| 51|    51| 32|       43|   7|       7|        95|       895|                   450|   10|   22|            4|   []|       29|      14|\n",
      "| 40|    Niamh|156|   156| 18|       36|  76|      76|        35|       996|                   387|    1|   56|           41|   []|       31|      14|\n",
      "| 41|  Ophelia|142|   142| 21|       21|  25|      25|        22|       109|                   798|    4|   77|           19|   []|       49|      14|\n",
      "| 42| Percival|187|   187| 14|       45|  43|      43|        40|        98|                   671|    4|   93|            4|   []|       47|      14|\n",
      "| 43|    Qiana| 65|    65| 10|       23|  40|      40|        98|       473|                   694|    6|   63|           48|   []|       33|      14|\n",
      "| 44|    Riley|165|   165| 36|        3|  50|      50|        60|       680|                   331|    1|   72|           34|   []|       35|      14|\n",
      "| 45|Sebastian|118|   118| 47|       43|  24|      24|        12|       885|                   151|    5|   42|           20|   []|       16|      14|\n",
      "| 46|  Tristan|130|   130| 31|       16|  86|      86|        26|        68|                   906|    8|   52|           76|   []|       49|      14|\n",
      "| 47|    Uriel|148|   148| 42|        2|  21|      21|        46|       604|                   557|    3|   53|           34|   []|       30|      14|\n",
      "| 48|   Violet|130|   130| 10|       26|  85|      85|        65|       589|                   484|    5|   98|           89|   []|       34|      14|\n",
      "| 49|    Wyatt|111|   111| 15|       22|  18|      18|        69|       615|                   172|   10|   75|           28|   []|        5|      14|\n",
      "| 50|  Xiomara|199|   199| 11|       45|  39|      39|         6|       160|                   288|    5|   27|           77|   []|        1|      14|\n",
      "+---+---------+---+------+---+---------+----+--------+----------+----------+----------------------+-----+-----+-------------+-----+---------+--------+\n",
      "\n"
     ]
    }
   ],
   "source": [
    "# Créer une nouvelle colonne avec la valeur mise à jour conditionnellement \n",
    "updated_df = df_hero.withColumn('armor_updated', when((col('id') < 15) | (col('id') > 20), 14).otherwise(col('armor_id')))\n",
    "\n",
    "# Mettre à jour la colonne \"armor\" avec les valeurs de la colonne \"armor_updated\" et Supprimer la colonne \"armor_updated\" \n",
    "df_hero = armor_update_table(updated_df)\n",
    "\n",
    "# Afficher le DataFrame mis à jour\n",
    "df_hero.show(n=50)"
   ]
  },
  {
   "cell_type": "code",
   "execution_count": 25,
   "id": "9cd13a97-c200-4e63-a823-da6a087d4e82",
   "metadata": {
    "tags": []
   },
   "outputs": [
    {
     "name": "stdout",
     "output_type": "stream",
     "text": [
      "+---+---------+---+------+---+---------+----+--------+----------+----------+----------------------+-----+-----+-------------+-----+---------+--------+\n",
      "| id|     name| pv|max_pv|atk|atk_magik|mana|max_mana|initiative|experience|experience_to_level_up|level|speed|origine_speed|items|weapon_id|armor_id|\n",
      "+---+---------+---+------+---+---------+----+--------+----------+----------+----------------------+-----+-----+-------------+-----+---------+--------+\n",
      "|  1|     Aria| 75|    75| 30|       32|  58|      58|        32|       700|                   742|    1|   39|           69|   []|       21|      14|\n",
      "|  2|Balthazar| 62|    62| 36|       44|  92|      92|        97|       762|                   383|    3|   40|           55|   []|       32|      14|\n",
      "|  3|Cassandra| 98|    98| 13|       14|  61|      61|        88|       896|                   442|    5|   34|           59|   []|        1|      14|\n",
      "|  4|   Darian|127|   127| 16|       27|   7|       7|        15|       505|                   979|    9|   91|           31|   []|        1|      14|\n",
      "|  5|    Elena|200|   200| 25|        6|  49|      49|        66|       484|                   902|    3|   20|           44|   []|       32|      14|\n",
      "|  6|    Felix|150|   150| 30|       47|  35|      35|        68|       347|                   709|    6|   94|           39|   []|       48|      14|\n",
      "|  7|Gabrielle| 53|    53| 26|       10|  77|      77|        14|       461|                   844|    4|   46|           60|   []|       21|      14|\n",
      "|  8|  Hadrien| 98|    98| 48|       34|  15|      15|        39|       195|                   999|   10|   36|           92|   []|       45|      14|\n",
      "|  9|  Isadora|188|   188| 30|       13|  59|      59|        40|       724|                   462|    8|   21|           91|   []|       21|      14|\n",
      "| 10|   Jasper| 71|    71| 14|       50|  75|      75|        19|        46|                   593|    9|   94|           87|   []|       36|      11|\n",
      "| 11|     Kara| 68|    68| 24|       43|  50|      50|        42|       561|                   585|    3|   25|           25|   []|       41|      11|\n",
      "| 12|   Landon|193|   193| 13|        9|   3|       3|        40|       270|                   435|    5|   81|           57|   []|        2|      11|\n",
      "| 13|    Malys| 68|    68| 14|       39|  67|      67|        51|       588|                   542|    8|   85|           97|   []|       26|      11|\n",
      "| 14|    Nolan|192|   192| 11|        9|  69|      69|        35|       731|                   150|   10|   41|           62|   []|       40|      11|\n",
      "| 15|   Olivia|117|   117|  3|       41|  57|      57|        43|         3|                   531|    6|   22|            6|   []|       10|      11|\n",
      "| 16| Philemon|165|   165| 14|       20|   9|       9|       100|       861|                   994|    7|   62|           59|   []|       11|      45|\n",
      "| 17|  Quintus|115|   115| 23|       45|  49|      49|        88|       467|                   487|    3|   46|           90|   []|       48|      26|\n",
      "| 18|  Raphael| 87|    87| 14|       12|  60|      60|        21|       318|                   832|    7|   13|           66|   []|       47|      18|\n",
      "| 19|  Saoirse|164|   164| 40|       35| 100|     100|        30|       450|                   536|    8|    7|           70|   []|       47|      44|\n",
      "| 20| Thaddeus| 60|    60| 24|       44|  12|      12|        83|       727|                   162|    8|   48|           59|   []|        7|      50|\n",
      "+---+---------+---+------+---+---------+----+--------+----------+----------+----------------------+-----+-----+-------------+-----+---------+--------+\n",
      "only showing top 20 rows\n",
      "\n"
     ]
    }
   ],
   "source": [
    "# Créer une nouvelle colonne avec la valeur mise à jour conditionnellement entre 10 et 15 remplacer par 11\n",
    "updated_df = df_hero.withColumn('armor_updated', when(col('id').between(10, 15), 11).otherwise(col('armor_id')))\n",
    "\n",
    "\n",
    "# Mettre à jour la colonne \"armor\" avec les valeurs de la colonne \"armor_updated\" et Supprimer la colonne \"armor_updated\" \n",
    "df_hero = armor_update_table(updated_df)\n",
    "\n",
    "# Afficher le DataFrame mis à jour\n",
    "df_hero.show()\n",
    "\n"
   ]
  },
  {
   "cell_type": "code",
   "execution_count": 26,
   "id": "f7f1e2bd-a0ee-40be-b467-1818c59120bb",
   "metadata": {
    "tags": []
   },
   "outputs": [
    {
     "name": "stdout",
     "output_type": "stream",
     "text": [
      "+---+---------+---+------+---+---------+----+--------+----------+----------+----------------------+-----+-----+-------------+-----+---------+--------+\n",
      "| id|     name| pv|max_pv|atk|atk_magik|mana|max_mana|initiative|experience|experience_to_level_up|level|speed|origine_speed|items|weapon_id|armor_id|\n",
      "+---+---------+---+------+---+---------+----+--------+----------+----------+----------------------+-----+-----+-------------+-----+---------+--------+\n",
      "|  1|     Aria| 75|    75| 30|       32|  58|      58|        32|       700|                   742|    1|   39|           69|   []|       21|       7|\n",
      "|  2|Balthazar| 62|    62| 36|       44|  92|      92|        97|       762|                   383|    3|   40|           55|   []|       32|       7|\n",
      "|  3|Cassandra| 98|    98| 13|       14|  61|      61|        88|       896|                   442|    5|   34|           59|   []|        1|       7|\n",
      "|  4|   Darian|127|   127| 16|       27|   7|       7|        15|       505|                   979|    9|   91|           31|   []|        1|       7|\n",
      "|  5|    Elena|200|   200| 25|        6|  49|      49|        66|       484|                   902|    3|   20|           44|   []|       32|      14|\n",
      "|  6|    Felix|150|   150| 30|       47|  35|      35|        68|       347|                   709|    6|   94|           39|   []|       48|      14|\n",
      "|  7|Gabrielle| 53|    53| 26|       10|  77|      77|        14|       461|                   844|    4|   46|           60|   []|       21|      14|\n",
      "|  8|  Hadrien| 98|    98| 48|       34|  15|      15|        39|       195|                   999|   10|   36|           92|   []|       45|      14|\n",
      "|  9|  Isadora|188|   188| 30|       13|  59|      59|        40|       724|                   462|    8|   21|           91|   []|       21|      14|\n",
      "| 10|   Jasper| 71|    71| 14|       50|  75|      75|        19|        46|                   593|    9|   94|           87|   []|       36|      11|\n",
      "| 11|     Kara| 68|    68| 24|       43|  50|      50|        42|       561|                   585|    3|   25|           25|   []|       41|      11|\n",
      "| 12|   Landon|193|   193| 13|        9|   3|       3|        40|       270|                   435|    5|   81|           57|   []|        2|      11|\n",
      "| 13|    Malys| 68|    68| 14|       39|  67|      67|        51|       588|                   542|    8|   85|           97|   []|       26|      11|\n",
      "| 14|    Nolan|192|   192| 11|        9|  69|      69|        35|       731|                   150|   10|   41|           62|   []|       40|      11|\n",
      "| 15|   Olivia|117|   117|  3|       41|  57|      57|        43|         3|                   531|    6|   22|            6|   []|       10|      11|\n",
      "| 16| Philemon|165|   165| 14|       20|   9|       9|       100|       861|                   994|    7|   62|           59|   []|       11|      45|\n",
      "| 17|  Quintus|115|   115| 23|       45|  49|      49|        88|       467|                   487|    3|   46|           90|   []|       48|      26|\n",
      "| 18|  Raphael| 87|    87| 14|       12|  60|      60|        21|       318|                   832|    7|   13|           66|   []|       47|      18|\n",
      "| 19|  Saoirse|164|   164| 40|       35| 100|     100|        30|       450|                   536|    8|    7|           70|   []|       47|      44|\n",
      "| 20| Thaddeus| 60|    60| 24|       44|  12|      12|        83|       727|                   162|    8|   48|           59|   []|        7|      50|\n",
      "+---+---------+---+------+---+---------+----+--------+----------+----------+----------------------+-----+-----+-------------+-----+---------+--------+\n",
      "only showing top 20 rows\n",
      "\n"
     ]
    }
   ],
   "source": [
    "# Créer une nouvelle colonne avec la valeur mise à jour conditionnellement si hero.armor = 14 et armor.id inferieur a 5\n",
    "updated_df = df_hero.withColumn('armor_updated', when((col('armor_id') == 14) & (col('id') < 5), 7).otherwise(col('armor_id')))\n",
    "\n",
    "\n",
    "# Mettre à jour la colonne \"armor\" avec les valeurs de la colonne \"armor_updated\" et Supprimer la colonne \"armor_updated\" \n",
    "df_hero = armor_update_table(updated_df)\n",
    "\n",
    "# Afficher le DataFrame mis à jour\n",
    "df_hero.show()"
   ]
  },
  {
   "cell_type": "code",
   "execution_count": 27,
   "id": "837598ba-877a-449e-a03c-2bec693567bb",
   "metadata": {
    "tags": []
   },
   "outputs": [
    {
     "name": "stdout",
     "output_type": "stream",
     "text": [
      "+---+---------+---+------+---+---------+----+--------+----------+----------+----------------------+-----+-----+-------------+-----+---------+--------+\n",
      "| id|     name| pv|max_pv|atk|atk_magik|mana|max_mana|initiative|experience|experience_to_level_up|level|speed|origine_speed|items|weapon_id|armor_id|\n",
      "+---+---------+---+------+---+---------+----+--------+----------+----------+----------------------+-----+-----+-------------+-----+---------+--------+\n",
      "|  1|     Aria| 75|    75| 30|       32|  58|      58|        32|       700|                   742|    1|   39|           69|   []|       21|       7|\n",
      "|  2|Balthazar| 62|    62| 36|       44|  92|      92|        97|       762|                   383|    3|   40|           55|   []|       32|       7|\n",
      "|  3|Cassandra| 98|    98| 13|       14|  61|      61|        88|       896|                   442|    5|   34|           59|   []|        1|       7|\n",
      "|  4|   Darian|127|   127| 16|       27|   7|       7|        15|       505|                   979|    9|   91|           31|   []|        1|       7|\n",
      "|  5|    Elena|200|   200| 25|        6|  49|      49|        66|       484|                   902|    3|   20|           44|   []|       32|      14|\n",
      "|  6|    Felix|150|   150| 30|       47|  35|      35|        68|       347|                   709|    6|   94|           39|   []|       48|      14|\n",
      "|  7|Gabrielle| 53|    53| 26|       10|  77|      77|        14|       461|                   844|    4|   46|           60|   []|       21|      14|\n",
      "|  8|  Hadrien| 98|    98| 48|       34|  15|      15|        39|       195|                   999|   10|   36|           92|   []|       45|      14|\n",
      "|  9|  Isadora|188|   188| 30|       13|  59|      59|        40|       724|                   462|    8|   21|           91|   []|       21|      14|\n",
      "| 10|   Jasper| 71|    71| 14|       50|  75|      75|        19|        46|                   593|    9|   94|           87|   []|       36|      11|\n",
      "| 11|     Kara| 68|    68| 24|       43|  50|      50|        42|       561|                   585|    3|   25|           25|   []|       41|      11|\n",
      "| 12|   Landon|193|   193| 13|        9|   3|       3|        40|       270|                   435|    5|   81|           57|   []|        2|      11|\n",
      "| 13|    Malys| 68|    68| 14|       39|  67|      67|        51|       588|                   542|    8|   85|           97|   []|       26|      11|\n",
      "| 14|    Nolan|192|   192| 11|        9|  69|      69|        35|       731|                   150|   10|   41|           62|   []|       40|      11|\n",
      "| 15|   Olivia|117|   117|  3|       41|  57|      57|        43|         3|                   531|    6|   22|            6|   []|       10|      11|\n",
      "| 16| Philemon|165|   165| 14|       20|   9|       9|       100|       861|                   994|    7|   62|           59|   []|       11|      45|\n",
      "| 17|  Quintus|115|   115| 23|       45|  49|      49|        88|       467|                   487|    3|   46|           90|   []|       48|      26|\n",
      "| 18|  Raphael| 87|    87| 14|       12|  60|      60|        21|       318|                   832|    7|   13|           66|   []|       47|    null|\n",
      "| 19|  Saoirse|164|   164| 40|       35| 100|     100|        30|       450|                   536|    8|    7|           70|   []|       47|      44|\n",
      "| 20| Thaddeus| 60|    60| 24|       44|  12|      12|        83|       727|                   162|    8|   48|           59|   []|        7|      50|\n",
      "| 21|   Ursula| 95|    95| 38|       33|  68|      68|        39|       595|                   737|    6|   50|            3|   []|       14|      14|\n",
      "| 22| Valentin|167|   167| 21|        2|  53|      53|        29|       375|                   745|   10|   44|           80|   []|       50|      14|\n",
      "| 23|  Wilhelm|142|   142| 30|       41|  53|      53|        76|       126|                   993|    7|   85|           84|   []|       15|      14|\n",
      "| 24|   Xander|122|   122| 45|        4|   3|       3|        30|       703|                   853|    2|   46|           73|   []|       17|      14|\n",
      "| 25|     Yara| 90|    90| 44|       24|  27|      27|        85|        19|                   919|    9|   84|            2|   []|       17|      14|\n",
      "| 26|   Zander|114|   114| 50|        1|  93|      93|        99|        93|                   532|    2|   13|           49|   []|       26|      14|\n",
      "| 27|    Aidan|173|   173| 33|       39|  63|      63|        57|         1|                   572|    6|   75|           32|   []|       12|      14|\n",
      "| 28|  Brianna|193|   193| 50|        3|  12|      12|         8|       369|                   347|    1|    2|           38|   []|       21|      14|\n",
      "| 29|    Caleb|105|   105| 26|       10|  90|      90|        20|       894|                   456|    3|   97|           67|   []|       46|      14|\n",
      "| 30|   Dahlia|181|   181| 50|       50|  68|      68|        16|        56|                   986|    3|   81|            7|   []|       15|      14|\n",
      "| 31|   Evelyn| 67|    67| 14|       26|   2|       2|        17|       539|                   418|    1|   34|            8|   []|       34|      14|\n",
      "| 32| Finnegan| 98|    98| 14|       33|  56|      56|        53|       831|                   362|    7|   34|           60|   []|       26|      14|\n",
      "| 33|Gwendolyn|124|   124| 29|       35|  38|      38|        39|       966|                   601|    3|    5|           78|   []|       18|      14|\n",
      "| 34|   Harvey|194|   194|  8|       38|  17|      17|        70|       607|                   886|    9|   20|           59|   []|        5|      14|\n",
      "| 35|   Imogen|128|   128| 45|       23|   1|       1|        22|       283|                   681|    7|   82|           44|   []|       12|      14|\n",
      "| 36|    Jaden| 73|    73|  2|       16|  13|      13|        16|       783|                   868|    9|   75|           58|   []|       44|      14|\n",
      "| 37|   Kendra| 88|    88| 16|       22|  95|      95|        77|       740|                   709|    7|   13|           71|   []|       11|      14|\n",
      "| 38|     Liam| 56|    56| 40|       39|  81|      81|        69|       257|                   581|    9|   87|           14|   []|       49|      14|\n",
      "| 39|  Matilda| 51|    51| 32|       43|   7|       7|        95|       895|                   450|   10|   22|            4|   []|       29|      14|\n",
      "| 40|    Niamh|156|   156| 18|       36|  76|      76|        35|       996|                   387|    1|   56|           41|   []|       31|      14|\n",
      "| 41|  Ophelia|142|   142| 21|       21|  25|      25|        22|       109|                   798|    4|   77|           19|   []|       49|      14|\n",
      "| 42| Percival|187|   187| 14|       45|  43|      43|        40|        98|                   671|    4|   93|            4|   []|       47|      14|\n",
      "| 43|    Qiana| 65|    65| 10|       23|  40|      40|        98|       473|                   694|    6|   63|           48|   []|       33|      14|\n",
      "| 44|    Riley|165|   165| 36|        3|  50|      50|        60|       680|                   331|    1|   72|           34|   []|       35|      14|\n",
      "| 45|Sebastian|118|   118| 47|       43|  24|      24|        12|       885|                   151|    5|   42|           20|   []|       16|      14|\n",
      "| 46|  Tristan|130|   130| 31|       16|  86|      86|        26|        68|                   906|    8|   52|           76|   []|       49|      14|\n",
      "| 47|    Uriel|148|   148| 42|        2|  21|      21|        46|       604|                   557|    3|   53|           34|   []|       30|      14|\n",
      "| 48|   Violet|130|   130| 10|       26|  85|      85|        65|       589|                   484|    5|   98|           89|   []|       34|      14|\n",
      "| 49|    Wyatt|111|   111| 15|       22|  18|      18|        69|       615|                   172|   10|   75|           28|   []|        5|      14|\n",
      "| 50|  Xiomara|199|   199| 11|       45|  39|      39|         6|       160|                   288|    5|   27|           77|   []|        1|      14|\n",
      "+---+---------+---+------+---+---------+----+--------+----------+----------+----------------------+-----+-----+-------------+-----+---------+--------+\n",
      "\n"
     ]
    }
   ],
   "source": [
    "# Créer une nouvelle colonne avec la valeur mise à jour conditionnellement\n",
    "updated_df = df_hero.withColumn('armor_updated', when((col('armor_id') == 18) , 'null' ).otherwise(col('armor_id')))\n",
    "\n",
    "\n",
    "# Mettre à jour la colonne \"armor\" avec les valeurs de la colonne \"armor_updated\" et Supprimer la colonne \"armor_updated\" \n",
    "df_hero = armor_update_table(updated_df)\n",
    "\n",
    "# Afficher le DataFrame mis à jour\n",
    "df_hero.show(n=50)"
   ]
  },
  {
   "cell_type": "code",
   "execution_count": 28,
   "id": "5424b7af-2cd5-47f8-b58d-7540767e848d",
   "metadata": {
    "tags": []
   },
   "outputs": [
    {
     "name": "stdout",
     "output_type": "stream",
     "text": [
      "+---+---------+---+------+---+---------+----+--------+----------+----------+----------------------+-----+-----+-------------+-----+---------+--------+\n",
      "| id|     name| pv|max_pv|atk|atk_magik|mana|max_mana|initiative|experience|experience_to_level_up|level|speed|origine_speed|items|weapon_id|armor_id|\n",
      "+---+---------+---+------+---+---------+----+--------+----------+----------+----------------------+-----+-----+-------------+-----+---------+--------+\n",
      "|  1|     Aria| 75|    75| 30|       32|  58|      58|        32|       700|                   742|    1|   39|           69|   []|       21|      12|\n",
      "|  2|Balthazar| 62|    62| 36|       44|  92|      92|        97|       762|                   383|    3|   40|           55|   []|       32|      27|\n",
      "|  3|Cassandra| 98|    98| 13|       14|  61|      61|        88|       896|                   442|    5|   34|           59|   []|        1|      28|\n",
      "|  4|   Darian|127|   127| 16|       27|   7|       7|        15|       505|                   979|    9|   91|           31|   []|        1|      19|\n",
      "|  5|    Elena|200|   200| 25|        6|  49|      49|        66|       484|                   902|    3|   20|           44|   []|       32|       2|\n",
      "|  6|    Felix|150|   150| 30|       47|  35|      35|        68|       347|                   709|    6|   94|           39|   []|       48|      33|\n",
      "|  7|Gabrielle| 53|    53| 26|       10|  77|      77|        14|       461|                   844|    4|   46|           60|   []|       21|      14|\n",
      "|  8|  Hadrien| 98|    98| 48|       34|  15|      15|        39|       195|                   999|   10|   36|           92|   []|       45|      11|\n",
      "|  9|  Isadora|188|   188| 30|       13|  59|      59|        40|       724|                   462|    8|   21|           91|   []|       21|      45|\n",
      "| 10|   Jasper| 71|    71| 14|       50|  75|      75|        19|        46|                   593|    9|   94|           87|   []|       36|      47|\n",
      "| 11|     Kara| 68|    68| 24|       43|  50|      50|        42|       561|                   585|    3|   25|           25|   []|       41|      13|\n",
      "| 12|   Landon|193|   193| 13|        9|   3|       3|        40|       270|                   435|    5|   81|           57|   []|        2|      46|\n",
      "| 13|    Malys| 68|    68| 14|       39|  67|      67|        51|       588|                   542|    8|   85|           97|   []|       26|      38|\n",
      "| 14|    Nolan|192|   192| 11|        9|  69|      69|        35|       731|                   150|   10|   41|           62|   []|       40|      35|\n",
      "| 15|   Olivia|117|   117|  3|       41|  57|      57|        43|         3|                   531|    6|   22|            6|   []|       10|      39|\n",
      "| 16| Philemon|165|   165| 14|       20|   9|       9|       100|       861|                   994|    7|   62|           59|   []|       11|      45|\n",
      "| 17|  Quintus|115|   115| 23|       45|  49|      49|        88|       467|                   487|    3|   46|           90|   []|       48|      26|\n",
      "| 18|  Raphael| 87|    87| 14|       12|  60|      60|        21|       318|                   832|    7|   13|           66|   []|       47|       8|\n",
      "| 19|  Saoirse|164|   164| 40|       35| 100|     100|        30|       450|                   536|    8|    7|           70|   []|       47|      44|\n",
      "| 20| Thaddeus| 60|    60| 24|       44|  12|      12|        83|       727|                   162|    8|   48|           59|   []|        7|      50|\n",
      "+---+---------+---+------+---+---------+----+--------+----------+----------+----------------------+-----+-----+-------------+-----+---------+--------+\n",
      "only showing top 20 rows\n",
      "\n",
      "+---+---------+---+------+---+---------+----+--------+----------+----------+----------------------+-----+-----+-------------+-----+---------+--------+\n",
      "| id|     name| pv|max_pv|atk|atk_magik|mana|max_mana|initiative|experience|experience_to_level_up|level|speed|origine_speed|items|weapon_id|armor_id|\n",
      "+---+---------+---+------+---+---------+----+--------+----------+----------+----------------------+-----+-----+-------------+-----+---------+--------+\n",
      "|  1|     Aria| 75|    75| 30|       32|  58|      58|        32|       700|                   742|    1|   39|           69|   []|       21|       7|\n",
      "|  2|Balthazar| 62|    62| 36|       44|  92|      92|        97|       762|                   383|    3|   40|           55|   []|       32|       7|\n",
      "|  3|Cassandra| 98|    98| 13|       14|  61|      61|        88|       896|                   442|    5|   34|           59|   []|        1|       7|\n",
      "|  4|   Darian|127|   127| 16|       27|   7|       7|        15|       505|                   979|    9|   91|           31|   []|        1|       7|\n",
      "|  5|    Elena|200|   200| 25|        6|  49|      49|        66|       484|                   902|    3|   20|           44|   []|       32|      14|\n",
      "|  6|    Felix|150|   150| 30|       47|  35|      35|        68|       347|                   709|    6|   94|           39|   []|       48|      14|\n",
      "|  7|Gabrielle| 53|    53| 26|       10|  77|      77|        14|       461|                   844|    4|   46|           60|   []|       21|      14|\n",
      "|  8|  Hadrien| 98|    98| 48|       34|  15|      15|        39|       195|                   999|   10|   36|           92|   []|       45|      14|\n",
      "|  9|  Isadora|188|   188| 30|       13|  59|      59|        40|       724|                   462|    8|   21|           91|   []|       21|      14|\n",
      "| 10|   Jasper| 71|    71| 14|       50|  75|      75|        19|        46|                   593|    9|   94|           87|   []|       36|      11|\n",
      "| 11|     Kara| 68|    68| 24|       43|  50|      50|        42|       561|                   585|    3|   25|           25|   []|       41|      11|\n",
      "| 12|   Landon|193|   193| 13|        9|   3|       3|        40|       270|                   435|    5|   81|           57|   []|        2|      11|\n",
      "| 13|    Malys| 68|    68| 14|       39|  67|      67|        51|       588|                   542|    8|   85|           97|   []|       26|      11|\n",
      "| 14|    Nolan|192|   192| 11|        9|  69|      69|        35|       731|                   150|   10|   41|           62|   []|       40|      11|\n",
      "| 15|   Olivia|117|   117|  3|       41|  57|      57|        43|         3|                   531|    6|   22|            6|   []|       10|      11|\n",
      "| 16| Philemon|165|   165| 14|       20|   9|       9|       100|       861|                   994|    7|   62|           59|   []|       11|      45|\n",
      "| 17|  Quintus|115|   115| 23|       45|  49|      49|        88|       467|                   487|    3|   46|           90|   []|       48|      26|\n",
      "| 18|  Raphael| 87|    87| 14|       12|  60|      60|        21|       318|                   832|    7|   13|           66|   []|       47|    null|\n",
      "| 19|  Saoirse|164|   164| 40|       35| 100|     100|        30|       450|                   536|    8|    7|           70|   []|       47|      44|\n",
      "| 20| Thaddeus| 60|    60| 24|       44|  12|      12|        83|       727|                   162|    8|   48|           59|   []|        7|      50|\n",
      "+---+---------+---+------+---+---------+----+--------+----------+----------+----------------------+-----+-----+-------------+-----+---------+--------+\n",
      "only showing top 20 rows\n",
      "\n"
     ]
    }
   ],
   "source": [
    "spark.sql(f'''SELECT * \n",
    "            FROM hero  \n",
    "          ''').show()\n",
    "\n",
    "df_hero.createOrReplaceTempView(\"hero\")\n",
    "\n",
    "spark.sql(f'''SELECT * \n",
    "            FROM hero  \n",
    "          ''').show()"
   ]
  },
  {
   "cell_type": "code",
   "execution_count": 29,
   "id": "2f48f43a-3018-4d6e-9742-643e9ce5f8d4",
   "metadata": {},
   "outputs": [
    {
     "name": "stdout",
     "output_type": "stream",
     "text": [
      "+---+----+---+------+---+---------+----+--------+----------+----------+----------------------+-----+-----+-------------+-----+---------+--------+\n",
      "| id|name| pv|max_pv|atk|atk_magik|mana|max_mana|initiative|experience|experience_to_level_up|level|speed|origine_speed|items|weapon_id|armor_id|\n",
      "+---+----+---+------+---+---------+----+--------+----------+----------+----------------------+-----+-----+-------------+-----+---------+--------+\n",
      "+---+----+---+------+---+---------+----+--------+----------+----------+----------------------+-----+-----+-------------+-----+---------+--------+\n",
      "\n"
     ]
    }
   ],
   "source": [
    "spark.sql(f'''SELECT * \n",
    "            FROM hero\n",
    "            WHERE armor_id IS NULL\n",
    "          ''').show()"
   ]
  },
  {
   "cell_type": "code",
   "execution_count": 30,
   "id": "29a08bc7-02c3-49b8-8205-61378c42de3b",
   "metadata": {
    "tags": []
   },
   "outputs": [],
   "source": [
    "class Request_SQL:\n",
    "    \n",
    "    DFs = {}\n",
    "    spark = SparkSession.builder.appName('Create_Hero').getOrCreate()\n",
    "\n",
    "    def __init__(self, spark = \"temp_spark\", files = None, ):\n",
    "        self.spark = SparkSession.builder.appName(spark).getOrCreate()\n",
    "        self.read_files(files)\n",
    "        \n",
    "    def set_DFs(self, file_name):\n",
    "        # print(self.get_name_file(file_name))\n",
    "        if \"csv\" in file_name.split('.')[-1:]:\n",
    "            self.DFs[self.get_name_file(file_name)] = spark.read.csv(f\"assets/csv/{self.get_name_file(file_name)}.csv\", header=True, inferSchema=True)\n",
    "    \n",
    "    def read_files(self, files): \n",
    "        \n",
    "        if files is not None:            \n",
    "            if isinstance(files, list):\n",
    "                for key, val in enumerate(files):                 \n",
    "                    self.set_DFs(val)\n",
    "            else:                            \n",
    "                self.set_DFs(files)                   \n",
    "    \n",
    "    \n",
    "    #############################\n",
    "    ########### UTILS ###########\n",
    "    #############################\n",
    "    def get_name_file(self, file):\n",
    "        return file.split('.')[-2:-1:][0].split('/')[-1:][0]\n",
    "    \n",
    "    def print_DF(self, name):\n",
    "        print(self.DFs[name], \"\\n\")\n",
    "                    \n",
    "    def print_DFs(self):\n",
    "        for key,  df in self.DFs.items():\n",
    "            print(df, \"\\n\")\n",
    "    \n",
    "    def print_names_DFs(self):\n",
    "        for df in self.DFs:\n",
    "            print(df, \"\\n\")\n",
    "            \n",
    "    def print_table(self, name):\n",
    "        print(self.spark.table(name), \"\\n\")\n",
    "                    \n",
    "    def print_tables(self):\n",
    "        for table in spark.catalog.listTables():\n",
    "            print(table, \"\\n\")\n",
    "            \n",
    "\n",
    "                    \n",
    "    # def select(self, columns = '*', table, ):"
   ]
  },
  {
   "cell_type": "code",
   "execution_count": 31,
   "id": "b1063c60-8d6c-403f-8533-ffdcd7c4dd3c",
   "metadata": {
    "tags": []
   },
   "outputs": [],
   "source": [
    "# \"assets/csv/hero.csv\".split('.')[-2:-1:][0].split('/')[-1:][0]"
   ]
  },
  {
   "cell_type": "code",
   "execution_count": 32,
   "id": "5d7c87f3-cd1b-436f-9f44-74fedec02320",
   "metadata": {
    "tags": []
   },
   "outputs": [
    {
     "name": "stdout",
     "output_type": "stream",
     "text": [
      "DataFrame[id: int, name: string, pv: int, max_pv: int, atk: int, atk_magik: int, mana: int, max_mana: int, initiative: int, experience: int, experience_to_level_up: int, level: int, speed: int, origine_speed: int, items: string, weapon_id: int, armor_id: int] \n",
      "\n",
      "DataFrame[id: int, name: string, armor: int, armor_magik: int, mana: int, durability: int, max_durability: int, broken: boolean] \n",
      "\n",
      "DataFrame[id: int, name: string, atk: int, atk_magik: int, mana: int, mana_cost: int, durability: int, max_durability: int, broken: boolean] \n",
      "\n",
      "\n",
      "\n",
      "DataFrame[id: int, name: string, pv: int, max_pv: int, atk: int, atk_magik: int, mana: int, max_mana: int, initiative: int, experience: int, experience_to_level_up: int, level: int, speed: int, origine_speed: int, items: string, weapon_id: int, armor_id: int] \n",
      "\n",
      "Table(name='armor', catalog=None, namespace=[], description=None, tableType='TEMPORARY', isTemporary=True) \n",
      "\n",
      "Table(name='hero', catalog=None, namespace=[], description=None, tableType='TEMPORARY', isTemporary=True) \n",
      "\n",
      "Table(name='weapon', catalog=None, namespace=[], description=None, tableType='TEMPORARY', isTemporary=True) \n",
      "\n",
      "DataFrame[id: int, name: string, pv: int, max_pv: int, atk: int, atk_magik: int, mana: int, max_mana: int, initiative: int, experience: int, experience_to_level_up: int, level: int, speed: int, origine_speed: int, items: string, weapon_id: int, armor_id: string] \n",
      "\n",
      "hero \n",
      "\n",
      "armor \n",
      "\n",
      "weapon \n",
      "\n"
     ]
    }
   ],
   "source": [
    "request = Request_SQL(spark = \"temp_hero_test\", files = [\"hero.csv\", \"armor.csv\", \"weapon.csv\"])\n",
    "\n",
    "request.print_DFs()\n",
    "print(\"\\n\")\n",
    "request.print_DF(\"hero\")\n",
    "request.print_tables()\n",
    "request.print_table(\"hero\")\n",
    "request.print_names_DFs()"
   ]
  },
  {
   "cell_type": "code",
   "execution_count": 33,
   "id": "eb4fd6d8-1a11-49f9-bebf-fdf5cf91083a",
   "metadata": {
    "tags": []
   },
   "outputs": [
    {
     "name": "stdout",
     "output_type": "stream",
     "text": [
      "hero \n",
      "\n",
      "armor \n",
      "\n",
      "weapon \n",
      "\n"
     ]
    }
   ],
   "source": [
    "request.print_names_DFs()"
   ]
  },
  {
   "cell_type": "code",
   "execution_count": 34,
   "id": "a439478c-1891-4dfe-9e49-34adb6f83ee6",
   "metadata": {},
   "outputs": [
    {
     "name": "stdout",
     "output_type": "stream",
     "text": [
      "+--------+-----------------+-------+---------+---------+--------------------+\n",
      "|armor_id|       armor_name|hero_id|hero_name|weapon_id|         weapon_name|\n",
      "+--------+-----------------+-------+---------+---------+--------------------+\n",
      "|       1|   Armure de cuir|      1|     Aria|        1|       pe de cristal|\n",
      "|       2|    Armure de fer|      2|Balthazar|        2|     Hache de guerre|\n",
      "|       3| Armure de plaque|      3|Cassandra|        3|         Bton de feu|\n",
      "|       4|Armure de mailles|      4|   Darian|        4|    Dague empoisonne|\n",
      "|       5|  Armure de glace|      5|    Elena|        5|            Arc long|\n",
      "|       6|      Armure d'os|      6|    Felix|        6|       Masse d'armes|\n",
      "|       7| Armure d'cailles|      7|Gabrielle|        7|      Lance d'argent|\n",
      "|       8| Armure de dragon|      8|  Hadrien|        8|    Baguette magique|\n",
      "|       9| Armure de lumire|      9|  Isadora|        9|             Gourdin|\n",
      "|      10| Armure de tnbres|     10|   Jasper|       10|              Katana|\n",
      "|      11|Armure de cristal|     11|     Kara|       11|     Fouet de combat|\n",
      "|      12|Armure de mithril|     12|   Landon|       12|Fleuret du duelliste|\n",
      "|      13|Armure de diamant|     13|    Malys|       13|   Marteau de guerre|\n",
      "|      14|    Armure de feu|     14|    Nolan|       14|              Glaive|\n",
      "|      15| Armure de foudre|     15|   Olivia|       15|              Rapire|\n",
      "|      16|  Armure de glace|     16| Philemon|       16|             Arbalte|\n",
      "|      17|   Armure de vent|     17|  Quintus|       17|          Hallebarde|\n",
      "|      18|  Armure de l'eau|     18|  Raphael|       18|   Gantelet de force|\n",
      "|      19|  Armure de terre|     19|  Saoirse|       19|       Canne de mage|\n",
      "|      20|  Armure de roche|     20| Thaddeus|       20|  Livre de sortilges|\n",
      "+--------+-----------------+-------+---------+---------+--------------------+\n",
      "only showing top 20 rows\n",
      "\n"
     ]
    }
   ],
   "source": [
    "request.spark.sql('''\n",
    "                SELECT armor.id as armor_id, armor.name as armor_name, hero.id as hero_id, hero.name as hero_name, weapon.id as weapon_id, weapon.name as weapon_name\n",
    "                FROM hero\n",
    "                JOIN armor on hero.id = armor.id\n",
    "                JOIN weapon on armor.id = weapon.id\n",
    "''').show()"
   ]
  },
  {
   "cell_type": "code",
   "execution_count": 35,
   "outputs": [
    {
     "name": "stdout",
     "output_type": "stream",
     "text": [
      "+--------+-----------------+-------+---------+\n",
      "|armor_id|       armor_name|hero_id|hero_name|\n",
      "+--------+-----------------+-------+---------+\n",
      "|       7| Armure d'cailles|      1|     Aria|\n",
      "|       7| Armure d'cailles|      2|Balthazar|\n",
      "|       7| Armure d'cailles|      3|Cassandra|\n",
      "|       7| Armure d'cailles|      4|   Darian|\n",
      "|      14|    Armure de feu|      5|    Elena|\n",
      "|      14|    Armure de feu|      6|    Felix|\n",
      "|      14|    Armure de feu|      7|Gabrielle|\n",
      "|      14|    Armure de feu|      8|  Hadrien|\n",
      "|      14|    Armure de feu|      9|  Isadora|\n",
      "|      11|Armure de cristal|     10|   Jasper|\n",
      "|      11|Armure de cristal|     11|     Kara|\n",
      "|      11|Armure de cristal|     12|   Landon|\n",
      "|      11|Armure de cristal|     13|    Malys|\n",
      "|      11|Armure de cristal|     14|    Nolan|\n",
      "|      11|Armure de cristal|     15|   Olivia|\n",
      "|      45| Armure des gants|     16| Philemon|\n",
      "|      26|  Armure de brume|     17|  Quintus|\n",
      "|      44|Armure des trolls|     19|  Saoirse|\n",
      "|      50| Armure des vents|     20| Thaddeus|\n",
      "|      14|    Armure de feu|     21|   Ursula|\n",
      "+--------+-----------------+-------+---------+\n",
      "only showing top 20 rows\n",
      "\n"
     ]
    }
   ],
   "source": [
    "# Créer une nouvelle colonne avec la valeur mise à jour conditionnellement\n",
    "updated_df = df_hero.withColumn('armor_updated', when((col('armor_id') == 6) , 'null' ).otherwise(col('armor_id')))\n",
    "\n",
    "\n",
    "# Mettre à jour la colonne \"armor\" avec les valeurs de la colonne \"armor_updated\" et Supprimer la colonne \"armor_updated\"\n",
    "df_hero = armor_update_table(updated_df)\n",
    "df_hero.createOrReplaceTempView(\"hero\")\n",
    "request.spark.sql('''\n",
    "                SELECT armor.id as armor_id, armor.name as armor_name, hero.id as hero_id, hero.name as hero_name\n",
    "                FROM hero\n",
    "                JOIN armor on hero.armor_id = armor.id\n",
    "''').show()\n"
   ],
   "metadata": {
    "collapsed": false
   }
  },
  {
   "cell_type": "code",
   "execution_count": 36,
   "outputs": [],
   "source": [
    "def generate_join_clause(column_names):\n",
    "    table_aliases = set()\n",
    "    join_clause = ''\n",
    "\n",
    "    for column_name in column_names:\n",
    "        if '.' in column_name:\n",
    "            table_name, _ = column_name.split('.', 1)\n",
    "            table_aliases.add(table_name)\n",
    "\n",
    "    for table_alias in table_aliases:\n",
    "        join_clause += f'JOIN {table_alias} ON hero.{table_alias}_id = {table_alias}.{table_alias}_id '\n",
    "\n",
    "    return join_clause\n"
   ],
   "metadata": {
    "collapsed": false
   }
  },
  {
   "cell_type": "code",
   "execution_count": 37,
   "outputs": [
    {
     "name": "stdout",
     "output_type": "stream",
     "text": [
      "\n"
     ]
    }
   ],
   "source": [
    "column_names = ['armor_id', 'armor_name', 'armor_armor', 'armor_armor_magik', 'armor_mana', 'armor_durability', 'armor_max_durability', 'armor_broken', 'hero_id', 'hero_name', 'hero_pv', 'hero_max_pv', 'hero_atk', 'hero_atk_magik', 'hero_mana', 'hero_max_mana', 'hero_initiative', 'hero_experience', 'hero_experience_to_level_up', 'hero_level', 'hero_speed', 'hero_origine_speed', 'hero_items', 'hero_weapon_id', 'hero_armor_id', 'weapon_id', 'weapon_name', 'weapon_atk', 'weapon_atk_magik', 'weapon_mana', 'weapon_mana_cost', 'weapon_durability', 'weapon_max_durability', 'weapon_broken']\n",
    "\n",
    "join_clause = generate_join_clause(column_names)\n",
    "print(join_clause)\n"
   ],
   "metadata": {
    "collapsed": false
   }
  },
  {
   "cell_type": "code",
   "execution_count": 38,
   "outputs": [
    {
     "name": "stdout",
     "output_type": "stream",
     "text": [
      "Le fichier CSV a été téléchargé et enregistré avec succès.\n"
     ]
    }
   ],
   "source": [
    "import requests\n",
    "\n",
    "url = \"https://raw.githubusercontent.com/MicrosoftLearning/dp-203-azure-data-engineer/master/Allfiles/labs/23/adventureworks/products.csv\"\n",
    "local_file_path = \"products.csv\"\n",
    "\n",
    "# Télécharger le fichier CSV depuis l'URL\n",
    "response = requests.get(url)\n",
    "response.raise_for_status()\n",
    "\n",
    "# Enregistrer le contenu dans un fichier local\n",
    "with open(local_file_path, \"wb\") as file:\n",
    "    file.write(response.content)\n",
    "\n",
    "print(\"Le fichier CSV a été téléchargé et enregistré avec succès.\")\n"
   ],
   "metadata": {
    "collapsed": false
   }
  },
  {
   "cell_type": "code",
   "execution_count": 39,
   "outputs": [
    {
     "name": "stdout",
     "output_type": "stream",
     "text": [
      "+--------+-----------------+-------+---------+--------------+\n",
      "|armor_id|       armor_name|hero_id|hero_name|hero_weapon_id|\n",
      "+--------+-----------------+-------+---------+--------------+\n",
      "|       7| Armure d'cailles|      1|     Aria|            21|\n",
      "|       7| Armure d'cailles|      2|Balthazar|            32|\n",
      "|       7| Armure d'cailles|      3|Cassandra|             1|\n",
      "|       7| Armure d'cailles|      4|   Darian|             1|\n",
      "|      14|    Armure de feu|      5|    Elena|            32|\n",
      "|      14|    Armure de feu|      6|    Felix|            48|\n",
      "|      14|    Armure de feu|      7|Gabrielle|            21|\n",
      "|      14|    Armure de feu|      8|  Hadrien|            45|\n",
      "|      14|    Armure de feu|      9|  Isadora|            21|\n",
      "|      11|Armure de cristal|     10|   Jasper|            36|\n",
      "|      11|Armure de cristal|     11|     Kara|            41|\n",
      "|      11|Armure de cristal|     12|   Landon|             2|\n",
      "|      11|Armure de cristal|     13|    Malys|            26|\n",
      "|      11|Armure de cristal|     14|    Nolan|            40|\n",
      "|      11|Armure de cristal|     15|   Olivia|            10|\n",
      "|      45| Armure des gants|     16| Philemon|            11|\n",
      "|      26|  Armure de brume|     17|  Quintus|            48|\n",
      "|      44|Armure des trolls|     19|  Saoirse|            47|\n",
      "|      50| Armure des vents|     20| Thaddeus|             7|\n",
      "|      14|    Armure de feu|     21|   Ursula|            14|\n",
      "+--------+-----------------+-------+---------+--------------+\n",
      "only showing top 20 rows\n",
      "\n"
     ]
    }
   ],
   "source": [
    "request.spark.sql(f'''SELECT armor.id as armor_id, armor.name as armor_name, hero.id as hero_id, hero.name as hero_name, hero.weapon_id as hero_weapon_id\n",
    "                FROM hero\n",
    "                JOIN weapon on hero.weapon_id = weapon.id JOIN armor on hero.armor_id = armor.id ''').show()"
   ],
   "metadata": {
    "collapsed": false
   }
  },
  {
   "cell_type": "code",
   "execution_count": 39,
   "outputs": [],
   "source": [],
   "metadata": {
    "collapsed": false
   }
  }
 ],
 "metadata": {
  "kernelspec": {
   "display_name": "Python 3 (ipykernel)",
   "language": "python",
   "name": "python3"
  },
  "language_info": {
   "codemirror_mode": {
    "name": "ipython",
    "version": 3
   },
   "file_extension": ".py",
   "mimetype": "text/x-python",
   "name": "python",
   "nbconvert_exporter": "python",
   "pygments_lexer": "ipython3",
   "version": "3.11.2"
  }
 },
 "nbformat": 4,
 "nbformat_minor": 5
}
