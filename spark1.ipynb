{
 "cells": [
  {
   "cell_type": "code",
   "execution_count": 1,
   "id": "ab211518-d16a-4486-97bd-14c39ac5d49e",
   "metadata": {
    "tags": []
   },
   "outputs": [],
   "source": [
    "# !pip install mysql-connector-python\n",
    "# !pip install pyspark"
   ]
  },
  {
   "cell_type": "code",
   "execution_count": 2,
   "id": "571d8f38-0335-40d4-ad33-45f5f2b46e25",
   "metadata": {
    "tags": []
   },
   "outputs": [],
   "source": [
    "import mysql.connector\n",
    "from pyspark.sql import SparkSession\n",
    "import csv\n",
    "import random\n",
    "from pyspark.sql.functions import lit, col, when"
   ]
  },
  {
   "cell_type": "code",
   "execution_count": 3,
   "id": "fa9e6489-61ab-4c2e-a221-cc2657ff1dd9",
   "metadata": {
    "tags": []
   },
   "outputs": [],
   "source": [
    "# mydb = mysql.connector.connect(\n",
    "#   host=\"localhost\",\n",
    "#   user=\"root\",\n",
    "#   password=\"\",\n",
    "#   database=\"spark_train_one\"\n",
    "# )\n"
   ]
  },
  {
   "cell_type": "code",
   "execution_count": 4,
   "id": "987f6501-a0ce-4129-8c60-b383cdc43d44",
   "metadata": {
    "tags": []
   },
   "outputs": [],
   "source": [
    "class ToDictMixin:\n",
    "    def to_dict(self):\n",
    "        return {k: v for k, v in vars(self).items() if not k.startswith(\"__\")}\n",
    "\n"
   ]
  },
  {
   "cell_type": "code",
   "execution_count": 5,
   "id": "16c7c26e-4f95-43d0-9032-e6093b570bce",
   "metadata": {
    "tags": []
   },
   "outputs": [],
   "source": [
    "class Armor(ToDictMixin):\n",
    "    \n",
    "    id_counter = 1\n",
    "    \n",
    "    def __init__(self, name: str, armor: int = 1, armor_magik: int = 0, mana: int = 0,\n",
    "                 durability: int = 5, max_durability: int = None):\n",
    "        self.id = Armor.id_counter\n",
    "        Armor.id_counter += 1\n",
    "        self.name = name\n",
    "        self.armor = armor\n",
    "        self.armor_magik = armor_magik\n",
    "        self.mana = mana\n",
    "        self.durability = durability\n",
    "        self.max_durability = max_durability if max_durability is not None else durability\n",
    "        self.broken = False"
   ]
  },
  {
   "cell_type": "code",
   "execution_count": 6,
   "id": "c0f08431-cb7f-410b-bb1c-2bd20154171c",
   "metadata": {
    "tags": []
   },
   "outputs": [],
   "source": [
    "class Weapon(ToDictMixin):\n",
    "    \n",
    "    id_counter = 1\n",
    "    \n",
    "    def __init__(self, name: str, atk: int = 1, atk_magik: int = 0, mana: int = 0,\n",
    "                 mana_cost: int = 1, durability: int = 5, max_durability: int = None):\n",
    "        self.id = Weapon.id_counter\n",
    "        Weapon.id_counter += 1\n",
    "        self.name = name\n",
    "        self.atk = atk\n",
    "        self.atk_magik = atk_magik\n",
    "        self.mana = mana\n",
    "        self.mana_cost = mana_cost\n",
    "        self.durability = durability\n",
    "        self.max_durability = max_durability if max_durability is not None else durability\n",
    "        self.broken = False"
   ]
  },
  {
   "cell_type": "code",
   "execution_count": 7,
   "id": "eeb3584a-2313-4db8-806f-9c2fd0ac9bd0",
   "metadata": {
    "tags": []
   },
   "outputs": [],
   "source": [
    "class Hero(ToDictMixin):\n",
    "    \n",
    "    id_counter = 1\n",
    "    \n",
    "    \n",
    "    \n",
    "    def __init__(self, name: str, pv: int, max_pv: int = None, atk: int = None, atk_magik: int = None, \n",
    "                 mana: int = None, max_mana: int = None, initiative: int = None, experience: int = None, \n",
    "                 experience_to_level_up: int = None, level: int = None, speed: int = None, origine_speed: int = None):\n",
    "        self.id = Hero.id_counter\n",
    "        Hero.id_counter += 1\n",
    "        self.name = name\n",
    "        self.pv = pv\n",
    "        self.max_pv = max_pv if max_pv is not None else pv\n",
    "        self.atk = atk if atk is not None else 0\n",
    "        self.atk_magik = atk_magik if atk_magik is not None else 0\n",
    "        self.mana = mana if mana is not None else 0\n",
    "        self.max_mana = max_mana if max_mana is not None else mana\n",
    "        self.initiative = initiative if initiative is not None else 0\n",
    "        self.experience = experience if experience is not None else 0\n",
    "        self.experience_to_level_up = experience_to_level_up if experience_to_level_up is not None else 100\n",
    "        self.level = level if level is not None else 1\n",
    "        self.speed = speed if speed is not None else 0\n",
    "        self.origine_speed = origine_speed if origine_speed is not None else 0\n",
    "        self.items = []\n",
    "        self.weapon : Weapon | None = None\n",
    "        self.armor : Armor | None = None\n",
    "    \n",
    "    \n",
    "    def equip_weapon(self, weapon):\n",
    "        if isinstance(weapon, Weapon) :\n",
    "            self.weapon = weapon.id\n",
    "            return True\n",
    "        return False\n",
    "        \n",
    "    def equip_armor(self, armor):\n",
    "        if isinstance(armor, Armor) :\n",
    "            self.armor = armor.id\n",
    "            return True\n",
    "        return False\n",
    "    \n",
    "    def add_item(self, item):\n",
    "        if isinstance(armor, Item) :\n",
    "            self.items.append(item.id) \n",
    "            return True\n",
    "        return False"
   ]
  },
  {
   "cell_type": "code",
   "execution_count": 8,
   "id": "08272abe-d028-4331-a0fd-2ba047bb4558",
   "metadata": {
    "tags": []
   },
   "outputs": [],
   "source": [
    "noms_personnages = [\n",
    "    \"Aria\", \"Balthazar\", \"Cassandra\", \"Darian\", \"Elena\", \"Felix\", \"Gabrielle\", \"Hadrien\",\n",
    "    \"Isadora\", \"Jasper\", \"Kaïra\", \"Landon\", \"Maïlys\", \"Nolan\", \"Olivia\", \"Philemon\",\n",
    "    \"Quintus\", \"Raphael\", \"Saoirse\", \"Thaddeus\", \"Ursula\", \"Valentin\", \"Wilhelm\", \"Xander\",\n",
    "    \"Yara\", \"Zander\", \"Aidan\", \"Brianna\", \"Caleb\", \"Dahlia\", \"Evelyn\", \"Finnegan\", \"Gwendolyn\",\n",
    "    \"Harvey\", \"Imogen\", \"Jaden\", \"Kendra\", \"Liam\", \"Matilda\", \"Niamh\", \"Ophelia\", \"Percival\",\n",
    "    \"Qiana\", \"Riley\", \"Sebastian\", \"Tristan\", \"Uriel\", \"Violet\", \"Wyatt\", \"Xiomara\", \"Yvette\", \"Zelda\"\n",
    "]\n",
    "noms_armors = [\n",
    "    \"Armure de cuir\", \"Armure de fer\", \"Armure de plaque\", \"Armure de mailles\", \"Armure de glace\",\n",
    "    \"Armure d'os\", \"Armure d'écailles\", \"Armure de dragon\", \"Armure de lumière\", \"Armure de ténèbres\",\n",
    "    \"Armure de cristal\", \"Armure de mithril\", \"Armure de diamant\", \"Armure de feu\", \"Armure de foudre\",\n",
    "    \"Armure de glace\", \"Armure de vent\", \"Armure de l'eau\", \"Armure de terre\", \"Armure de roche\",\n",
    "    \"Armure de bois\", \"Armure de métal\", \"Armure de magma\", \"Armure de néant\", \"Armure de luminescence\",\n",
    "    \"Armure de brume\", \"Armure de tempête\", \"Armure de mort\", \"Armure de vie\", \"Armure de guérison\",\n",
    "    \"Armure de force\", \"Armure de sagesse\", \"Armure de chance\", \"Armure de la nature\", \"Armure des anges\",\n",
    "    \"Armure des démons\", \"Armure des héros\", \"Armure des rois\", \"Armure des elfes\", \"Armure des nains\",\n",
    "    \"Armure des gnomes\", \"Armure des orcs\", \"Armure des gobelins\", \"Armure des trolls\", \"Armure des géants\",\n",
    "    \"Armure de lave\", \"Armure de lumière divine\", \"Armure de l'ombre\", \"Armure de l'océan\", \"Armure des vents\",\n",
    "    \"Armure des montagnes\"\n",
    "]\n",
    "noms_weapons = [\n",
    "    \"Épée de cristal\", \"Hache de guerre\", \"Bâton de feu\", \"Dague empoisonnée\", \"Arc long\",\n",
    "    \"Masse d'armes\", \"Lance d'argent\", \"Baguette magique\", \"Gourdin\", \"Katana\",\n",
    "    \"Fouet de combat\", \"Fleuret du duelliste\", \"Marteau de guerre\", \"Glaive\", \"Rapière\",\n",
    "    \"Arbalète\", \"Hallebarde\", \"Gantelet de force\", \"Canne de mage\", \"Livre de sortilèges\",\n",
    "    \"Fléau\", \"Arc court\", \"Cimeterre\", \"Couteau de lancer\", \"Poignard\",\n",
    "    \"Épée bâtarde\", \"Hache double\", \"Bâton de glace\", \"Dague runique\", \"Arc de chasse\",\n",
    "    \"Marteau de Thor\", \"Lance de la foudre\", \"Baguette d'illusion\", \"Gourdin épineux\", \"Wakizashi\",\n",
    "    \"Fouet barbelé\", \"Épée courte\", \"Marteau-piqueur\", \"Glaive du serpent\", \"Rapière en argent\",\n",
    "    \"Arbalète à répétition\", \"Hallebarde du jugement\", \"Gantelet du titan\", \"Canne à feu\", \"Livre de connaissances\",\n",
    "    \"Fléau des ténèbres\", \"Arc de la lune noire\", \"Cimeterre démoniaque\", \"Couteau de jet empoisonné\", \"Poignard de l'ombre\",\n",
    "]"
   ]
  },
  {
   "cell_type": "code",
   "execution_count": 9,
   "id": "3ad1bb30-036a-49e1-8e28-69616e8c1260",
   "metadata": {
    "tags": []
   },
   "outputs": [
    {
     "name": "stdout",
     "output_type": "stream",
     "text": [
      "['id', 'name', 'pv', 'max_pv', 'atk', 'atk_magik', 'mana', 'max_mana', 'initiative', 'experience', 'experience_to_level_up', 'level', 'speed', 'origine_speed', 'items', 'weapon', 'armor']\n",
      "['id', 'name', 'armor', 'armor_magik', 'mana', 'durability', 'max_durability', 'broken']\n",
      "['id', 'name', 'atk', 'atk_magik', 'mana', 'mana_cost', 'durability', 'max_durability', 'broken']\n"
     ]
    }
   ],
   "source": [
    "# Génération de 50 personnages, armors et weapons aléatoires\n",
    "hero_list = []\n",
    "armor_list = []\n",
    "weapon_list = []\n",
    "for i in range(50):\n",
    "    hero = Hero(name=noms_personnages[i], pv=random.randint(50, 200), atk=random.randint(0, 50), atk_magik=random.randint(0, 50), \n",
    "                mana=random.randint(0, 100), initiative=random.randint(0, 100), experience=random.randint(0, 1000), \n",
    "                experience_to_level_up=random.randint(100, 1000), level=random.randint(1, 10), speed=random.randint(0, 100), \n",
    "                origine_speed=random.randint(0, 100))\n",
    "    hero_list.append(hero)\n",
    "    \n",
    "    armor = Armor(name=noms_armors[i], armor=random.randint(1, 10), armor_magik=random.randint(0, 5),\n",
    "                  mana=random.randint(0, 5), durability=random.randint(1, 10),\n",
    "                  max_durability=random.randint(10, 20))\n",
    "    armor_list.append(armor)\n",
    "\n",
    "    weapon = Weapon(name=noms_weapons[i], atk=random.randint(1, 10), atk_magik=random.randint(0, 5),\n",
    "                    mana=random.randint(0, 5), mana_cost=random.randint(1, 5),\n",
    "                    durability=random.randint(1, 10), max_durability=random.randint(10, 20))\n",
    "    weapon_list.append(weapon)\n",
    "    \n",
    "hero_attribute_names = list(hero_list[0].to_dict().keys())\n",
    "armor_attribute_names = list(armor_list[0].to_dict().keys())\n",
    "weapon_attribute_names = list(weapon_list[0].to_dict().keys())\n",
    "hero_list[25].equip_weapon(weapon_list[25])\n",
    "print(hero_attribute_names)\n",
    "print(armor_attribute_names)\n",
    "print(weapon_attribute_names)"
   ]
  },
  {
   "cell_type": "code",
   "execution_count": 10,
   "id": "2e01fa10-e0b5-43d5-9a5d-a5fc9a01e9ad",
   "metadata": {},
   "outputs": [],
   "source": [
    "# Écriture de la table dans un fichier CSV\n",
    "def csv_geenerator(path, items_list):\n",
    "    with open(path, mode=\"w\", newline='') as file:\n",
    "        fieldnames = list(items_list[0].to_dict().keys())\n",
    "        writer = csv.DictWriter(file, fieldnames=fieldnames)\n",
    "        writer.writeheader()\n",
    "        for item in items_list:\n",
    "            writer.writerow({k: v.encode('utf-8').decode('ascii', 'ignore') if isinstance(v, str) else v for k, v in item.to_dict().items()})\n",
    "\n"
   ]
  },
  {
   "cell_type": "code",
   "execution_count": 11,
   "id": "b5194021-ffa9-467a-b46b-210d265daebc",
   "metadata": {},
   "outputs": [],
   "source": [
    "csv_geenerator(\"assets/csv/hero.csv\", hero_list)\n",
    "csv_geenerator(\"assets/csv/armor.csv\", armor_list)\n",
    "csv_geenerator(\"assets/csv/weapon.csv\", weapon_list)"
   ]
  },
  {
   "cell_type": "code",
   "execution_count": 12,
   "id": "5977c28f-6a97-44bb-bbfa-f640c4a7c836",
   "metadata": {
    "tags": []
   },
   "outputs": [],
   "source": [
    "# mycursor = mydb.cursor()\n",
    "\n",
    "# mycursor.execute(\"SELECT * FROM yourtable\")\n",
    "\n",
    "# myresult = mycursor.fetchall()\n",
    "\n",
    "# for x in myresult:\n",
    "#   print(x)\n",
    "\n",
    "\n",
    "spark = SparkSession.builder.appName('Create_Hero').getOrCreate()\n",
    "\n",
    "df_hero = spark.read.csv(\"assets/csv/hero.csv\", header=True, inferSchema=True)\n",
    "df_armor = spark.read.csv(\"assets/csv/armor.csv\", header=True, inferSchema=True)\n",
    "df_weapon = spark.read.csv(\"assets/csv/weapon.csv\", header=True, inferSchema=True)\n",
    "\n"
   ]
  },
  {
   "cell_type": "code",
   "execution_count": 13,
   "id": "36b2e6a0-5536-415e-bfba-b08fc5c3197a",
   "metadata": {},
   "outputs": [
    {
     "name": "stdout",
     "output_type": "stream",
     "text": [
      "+---+---------+---+------+---+---------+----+--------+----------+----------+----------------------+-----+-----+-------------+-----+------+-----+\n",
      "| id|     name| pv|max_pv|atk|atk_magik|mana|max_mana|initiative|experience|experience_to_level_up|level|speed|origine_speed|items|weapon|armor|\n",
      "+---+---------+---+------+---+---------+----+--------+----------+----------+----------------------+-----+-----+-------------+-----+------+-----+\n",
      "|  1|     Aria|195|   195| 13|       14|   5|       5|        54|       582|                   103|    9|   48|           96|   []|  null| null|\n",
      "|  2|Balthazar|112|   112| 40|        6|  63|      63|        28|       237|                   587|    2|   83|           60|   []|  null| null|\n",
      "|  3|Cassandra|160|   160| 17|        7|  60|      60|        96|        23|                   881|    7|   18|           53|   []|  null| null|\n",
      "|  4|   Darian|132|   132| 15|       46|  13|      13|        87|       432|                   444|    2|   23|           17|   []|  null| null|\n",
      "|  5|    Elena|139|   139| 17|       10|  28|      28|        32|       671|                   262|    6|   93|            6|   []|  null| null|\n",
      "|  6|    Felix|144|   144| 42|       30|  91|      91|        21|       745|                   415|    2|   66|            6|   []|  null| null|\n",
      "|  7|Gabrielle|138|   138|  5|       48|  89|      89|        72|       285|                   164|    8|   12|           76|   []|  null| null|\n",
      "|  8|  Hadrien| 70|    70| 23|        6|  51|      51|        33|       248|                   573|   10|   60|           23|   []|  null| null|\n",
      "|  9|  Isadora|156|   156| 45|       10|  80|      80|        17|       394|                   114|    3|   12|           25|   []|  null| null|\n",
      "| 10|   Jasper|109|   109| 21|        1|  10|      10|        22|        50|                   320|    5|   35|            7|   []|  null| null|\n",
      "| 11|     Kara|156|   156| 19|       31|  90|      90|         8|       216|                   566|    1|   23|           79|   []|  null| null|\n",
      "| 12|   Landon| 86|    86| 23|       20|  18|      18|         2|        86|                   516|    4|   29|           59|   []|  null| null|\n",
      "| 13|    Malys|146|   146| 42|       37|  22|      22|         6|       149|                   508|    6|   98|           85|   []|  null| null|\n",
      "| 14|    Nolan| 91|    91| 33|       33|  19|      19|        86|        89|                   291|    5|   18|            8|   []|  null| null|\n",
      "| 15|   Olivia|191|   191|  4|       33|  62|      62|        30|       655|                   414|    3|   55|           38|   []|  null| null|\n",
      "| 16| Philemon|106|   106| 21|       23|  17|      17|        70|       809|                   325|    1|   27|           60|   []|  null| null|\n",
      "| 17|  Quintus|117|   117| 23|        9|  17|      17|        89|       632|                   269|    2|   80|          100|   []|  null| null|\n",
      "| 18|  Raphael|122|   122| 21|       26|  14|      14|        71|       704|                   287|    8|   16|           39|   []|  null| null|\n",
      "| 19|  Saoirse|104|   104| 38|       41|  46|      46|        78|       722|                   130|    5|   80|           44|   []|  null| null|\n",
      "| 20| Thaddeus| 75|    75|  2|       32|  20|      20|        38|       458|                   417|    1|   64|            8|   []|  null| null|\n",
      "+---+---------+---+------+---+---------+----+--------+----------+----------+----------------------+-----+-----+-------------+-----+------+-----+\n",
      "only showing top 20 rows\n",
      "\n",
      "+---+-----------------+-----+-----------+----+----------+--------------+------+\n",
      "| id|             name|armor|armor_magik|mana|durability|max_durability|broken|\n",
      "+---+-----------------+-----+-----------+----+----------+--------------+------+\n",
      "|  1|   Armure de cuir|    2|          4|   3|         9|            16| false|\n",
      "|  2|    Armure de fer|    1|          2|   2|         9|            13| false|\n",
      "|  3| Armure de plaque|    5|          3|   1|         1|            13| false|\n",
      "|  4|Armure de mailles|    8|          5|   3|         1|            18| false|\n",
      "|  5|  Armure de glace|    3|          4|   2|         2|            16| false|\n",
      "|  6|      Armure d'os|    3|          3|   3|         1|            18| false|\n",
      "|  7| Armure d'cailles|    2|          4|   3|         4|            19| false|\n",
      "|  8| Armure de dragon|    2|          4|   3|         5|            17| false|\n",
      "|  9| Armure de lumire|    7|          0|   3|         1|            16| false|\n",
      "| 10| Armure de tnbres|    5|          4|   5|         6|            14| false|\n",
      "| 11|Armure de cristal|    8|          5|   0|         3|            11| false|\n",
      "| 12|Armure de mithril|    1|          1|   2|         8|            15| false|\n",
      "| 13|Armure de diamant|    4|          3|   1|         5|            10| false|\n",
      "| 14|    Armure de feu|    3|          0|   2|         2|            19| false|\n",
      "| 15| Armure de foudre|    7|          2|   1|         6|            18| false|\n",
      "| 16|  Armure de glace|    7|          5|   4|         7|            20| false|\n",
      "| 17|   Armure de vent|    6|          4|   4|         1|            15| false|\n",
      "| 18|  Armure de l'eau|    7|          0|   5|         8|            14| false|\n",
      "| 19|  Armure de terre|    2|          2|   5|         1|            15| false|\n",
      "| 20|  Armure de roche|    6|          3|   3|         2|            10| false|\n",
      "+---+-----------------+-----+-----------+----+----------+--------------+------+\n",
      "only showing top 20 rows\n",
      "\n",
      "+---+--------------------+---+---------+----+---------+----------+--------------+------+\n",
      "| id|                name|atk|atk_magik|mana|mana_cost|durability|max_durability|broken|\n",
      "+---+--------------------+---+---------+----+---------+----------+--------------+------+\n",
      "|  1|       pe de cristal|  9|        1|   3|        4|        10|            11| false|\n",
      "|  2|     Hache de guerre|  6|        0|   3|        4|         6|            17| false|\n",
      "|  3|         Bton de feu| 10|        4|   3|        2|         5|            20| false|\n",
      "|  4|    Dague empoisonne|  7|        4|   1|        3|         1|            11| false|\n",
      "|  5|            Arc long|  2|        2|   4|        1|         5|            13| false|\n",
      "|  6|       Masse d'armes|  3|        3|   2|        5|         5|            11| false|\n",
      "|  7|      Lance d'argent|  7|        0|   1|        2|         2|            16| false|\n",
      "|  8|    Baguette magique|  5|        2|   3|        3|         9|            17| false|\n",
      "|  9|             Gourdin|  1|        5|   4|        2|         2|            12| false|\n",
      "| 10|              Katana|  2|        4|   1|        5|         6|            15| false|\n",
      "| 11|     Fouet de combat|  8|        2|   2|        5|         2|            13| false|\n",
      "| 12|Fleuret du duelliste|  5|        3|   2|        5|         4|            12| false|\n",
      "| 13|   Marteau de guerre|  6|        5|   1|        1|         3|            11| false|\n",
      "| 14|              Glaive|  5|        5|   3|        4|         6|            19| false|\n",
      "| 15|              Rapire|  9|        5|   0|        5|         7|            12| false|\n",
      "| 16|             Arbalte|  9|        4|   4|        5|         5|            15| false|\n",
      "| 17|          Hallebarde|  7|        2|   3|        3|         5|            15| false|\n",
      "| 18|   Gantelet de force|  2|        5|   3|        1|         2|            12| false|\n",
      "| 19|       Canne de mage|  4|        0|   2|        5|         5|            19| false|\n",
      "| 20|  Livre de sortilges|  8|        1|   2|        2|         4|            20| false|\n",
      "+---+--------------------+---+---------+----+---------+----------+--------------+------+\n",
      "only showing top 20 rows\n",
      "\n"
     ]
    }
   ],
   "source": [
    "# Affichage des données du DataFrame\n",
    "df_hero.show()\n",
    "df_armor.show()\n",
    "df_weapon.show()\n",
    "# Création d'une vue temporaire à partir du DataFrame\n",
    "df_hero.createOrReplaceTempView(\"hero\")\n",
    "df_armor.createOrReplaceTempView(\"armor\")\n",
    "df_weapon.createOrReplaceTempView(\"weapon\")\n"
   ]
  },
  {
   "cell_type": "code",
   "execution_count": 14,
   "id": "ad2f5325-ab06-44fe-b8e6-a93386b32893",
   "metadata": {
    "tags": []
   },
   "outputs": [
    {
     "name": "stdout",
     "output_type": "stream",
     "text": [
      "[Table(name='armor', catalog=None, namespace=[], description=None, tableType='TEMPORARY', isTemporary=True), Table(name='hero', catalog=None, namespace=[], description=None, tableType='TEMPORARY', isTemporary=True), Table(name='weapon', catalog=None, namespace=[], description=None, tableType='TEMPORARY', isTemporary=True)]\n"
     ]
    }
   ],
   "source": [
    "print(spark.catalog.listTables())"
   ]
  },
  {
   "cell_type": "code",
   "execution_count": 15,
   "id": "2663bdfb-f5a9-4cd9-b076-5ab993398acc",
   "metadata": {
    "tags": []
   },
   "outputs": [
    {
     "name": "stdout",
     "output_type": "stream",
     "text": [
      "+---+---------+---+------+---+---------+----+--------+----------+----------+----------------------+-----+-----+-------------+-----+------+-----+\n",
      "|id |name     |pv |max_pv|atk|atk_magik|mana|max_mana|initiative|experience|experience_to_level_up|level|speed|origine_speed|items|weapon|armor|\n",
      "+---+---------+---+------+---+---------+----+--------+----------+----------+----------------------+-----+-----+-------------+-----+------+-----+\n",
      "|1  |Aria     |195|195   |13 |14       |5   |5       |54        |582       |103                   |9    |48   |96           |[]   |null  |null |\n",
      "|2  |Balthazar|112|112   |40 |6        |63  |63      |28        |237       |587                   |2    |83   |60           |[]   |null  |null |\n",
      "|3  |Cassandra|160|160   |17 |7        |60  |60      |96        |23        |881                   |7    |18   |53           |[]   |null  |null |\n",
      "|4  |Darian   |132|132   |15 |46       |13  |13      |87        |432       |444                   |2    |23   |17           |[]   |null  |null |\n",
      "|5  |Elena    |139|139   |17 |10       |28  |28      |32        |671       |262                   |6    |93   |6            |[]   |null  |null |\n",
      "|6  |Felix    |144|144   |42 |30       |91  |91      |21        |745       |415                   |2    |66   |6            |[]   |null  |null |\n",
      "|7  |Gabrielle|138|138   |5  |48       |89  |89      |72        |285       |164                   |8    |12   |76           |[]   |null  |null |\n",
      "|9  |Isadora  |156|156   |45 |10       |80  |80      |17        |394       |114                   |3    |12   |25           |[]   |null  |null |\n",
      "|10 |Jasper   |109|109   |21 |1        |10  |10      |22        |50        |320                   |5    |35   |7            |[]   |null  |null |\n",
      "|11 |Kara     |156|156   |19 |31       |90  |90      |8         |216       |566                   |1    |23   |79           |[]   |null  |null |\n",
      "|13 |Malys    |146|146   |42 |37       |22  |22      |6         |149       |508                   |6    |98   |85           |[]   |null  |null |\n",
      "|15 |Olivia   |191|191   |4  |33       |62  |62      |30        |655       |414                   |3    |55   |38           |[]   |null  |null |\n",
      "|16 |Philemon |106|106   |21 |23       |17  |17      |70        |809       |325                   |1    |27   |60           |[]   |null  |null |\n",
      "|17 |Quintus  |117|117   |23 |9        |17  |17      |89        |632       |269                   |2    |80   |100          |[]   |null  |null |\n",
      "|18 |Raphael  |122|122   |21 |26       |14  |14      |71        |704       |287                   |8    |16   |39           |[]   |null  |null |\n",
      "|19 |Saoirse  |104|104   |38 |41       |46  |46      |78        |722       |130                   |5    |80   |44           |[]   |null  |null |\n",
      "|21 |Ursula   |177|177   |16 |34       |63  |63      |99        |158       |792                   |6    |36   |28           |[]   |null  |null |\n",
      "|23 |Wilhelm  |165|165   |10 |44       |11  |11      |38        |916       |228                   |10   |97   |65           |[]   |null  |null |\n",
      "|24 |Xander   |179|179   |12 |37       |47  |47      |25        |198       |401                   |1    |97   |96           |[]   |null  |null |\n",
      "|25 |Yara     |122|122   |37 |45       |28  |28      |42        |561       |990                   |10   |68   |51           |[]   |null  |null |\n",
      "|26 |Zander   |175|175   |1  |38       |77  |77      |61        |180       |454                   |2    |93   |41           |[]   |26    |null |\n",
      "|27 |Aidan    |168|168   |10 |20       |13  |13      |31        |109       |600                   |3    |72   |9            |[]   |null  |null |\n",
      "|28 |Brianna  |179|179   |14 |40       |75  |75      |27        |664       |626                   |9    |69   |45           |[]   |null  |null |\n",
      "|30 |Dahlia   |167|167   |41 |43       |66  |66      |13        |634       |725                   |1    |72   |87           |[]   |null  |null |\n",
      "|33 |Gwendolyn|189|189   |12 |9        |24  |24      |79        |968       |290                   |7    |48   |26           |[]   |null  |null |\n",
      "|34 |Harvey   |186|186   |42 |28       |18  |18      |26        |778       |302                   |4    |22   |65           |[]   |null  |null |\n",
      "|35 |Imogen   |196|196   |4  |3        |30  |30      |49        |543       |825                   |9    |25   |34           |[]   |null  |null |\n",
      "|37 |Kendra   |179|179   |31 |29       |16  |16      |75        |919       |206                   |1    |92   |74           |[]   |null  |null |\n",
      "|38 |Liam     |174|174   |2  |18       |20  |20      |48        |286       |847                   |8    |31   |50           |[]   |null  |null |\n",
      "|39 |Matilda  |183|183   |25 |7        |36  |36      |38        |798       |233                   |5    |68   |8            |[]   |null  |null |\n",
      "|40 |Niamh    |155|155   |8  |6        |61  |61      |36        |521       |200                   |4    |17   |86           |[]   |null  |null |\n",
      "|41 |Ophelia  |180|180   |18 |31       |59  |59      |56        |504       |266                   |9    |93   |72           |[]   |null  |null |\n",
      "|42 |Percival |157|157   |46 |17       |51  |51      |35        |899       |761                   |1    |17   |20           |[]   |null  |null |\n",
      "|43 |Qiana    |111|111   |9  |36       |47  |47      |36        |826       |980                   |4    |56   |64           |[]   |null  |null |\n",
      "|44 |Riley    |102|102   |26 |44       |56  |56      |2         |308       |945                   |6    |22   |21           |[]   |null  |null |\n",
      "|45 |Sebastian|124|124   |16 |40       |77  |77      |51        |608       |240                   |10   |76   |83           |[]   |null  |null |\n",
      "|46 |Tristan  |124|124   |46 |10       |34  |34      |98        |925       |138                   |2    |31   |47           |[]   |null  |null |\n",
      "|47 |Uriel    |104|104   |44 |43       |28  |28      |24        |31        |458                   |2    |76   |92           |[]   |null  |null |\n",
      "|50 |Xiomara  |181|181   |34 |28       |16  |16      |99        |899       |815                   |6    |60   |82           |[]   |null  |null |\n",
      "+---+---------+---+------+---+---------+----+--------+----------+----------+----------------------+-----+-----+-------------+-----+------+-----+\n",
      "\n"
     ]
    }
   ],
   "source": [
    "\n",
    "# Exécution d'une requête SQL pour sélectionner les héros avec plus de 100 points de vie\n",
    "result = spark.sql(\"SELECT * FROM hero WHERE pv > 100\")\n",
    "\n",
    "# Affichage des résultats\n",
    "result.show(n=500, truncate=False)"
   ]
  },
  {
   "cell_type": "code",
   "execution_count": 16,
   "id": "9fae8866-8e4a-4b41-a59a-f20bb53776b2",
   "metadata": {
    "tags": []
   },
   "outputs": [
    {
     "name": "stdout",
     "output_type": "stream",
     "text": [
      "Table(name='armor', catalog=None, namespace=[], description=None, tableType='TEMPORARY', isTemporary=True)\n",
      "Table(name='hero', catalog=None, namespace=[], description=None, tableType='TEMPORARY', isTemporary=True)\n",
      "Table(name='weapon', catalog=None, namespace=[], description=None, tableType='TEMPORARY', isTemporary=True)\n"
     ]
    }
   ],
   "source": [
    "for table in spark.catalog.listTables():\n",
    "    print(table)"
   ]
  },
  {
   "cell_type": "code",
   "execution_count": 17,
   "id": "9a8bb10a-83f8-48ea-aea0-5532b2bf5929",
   "metadata": {
    "tags": []
   },
   "outputs": [
    {
     "name": "stdout",
     "output_type": "stream",
     "text": [
      "26\n"
     ]
    }
   ],
   "source": [
    "weapon_column = spark.sql(f'''SELECT weapon FROM hero \n",
    "                             WHERE weapon IS NOT NULL\n",
    "                          ''').collect()\n",
    "\n",
    "for row in weapon_column:\n",
    "    print(row[0])"
   ]
  },
  {
   "cell_type": "code",
   "execution_count": 18,
   "id": "0feeb352-2b5e-4f20-ae85-c820ea512558",
   "metadata": {
    "tags": []
   },
   "outputs": [
    {
     "name": "stdout",
     "output_type": "stream",
     "text": [
      "+---+---------+---+---------+----+---------+----------+--------------+------+\n",
      "| id|     name|atk|atk_magik|mana|mana_cost|durability|max_durability|broken|\n",
      "+---+---------+---+---------+----+---------+----------+--------------+------+\n",
      "| 26|pe btarde|  9|        1|   2|        5|         3|            10| false|\n",
      "+---+---------+---+---------+----+---------+----------+--------------+------+\n",
      "\n",
      "+---+---------+---+---------+----+---------+----------+--------------+------+\n",
      "| id|     name|atk|atk_magik|mana|mana_cost|durability|max_durability|broken|\n",
      "+---+---------+---+---------+----+---------+----------+--------------+------+\n",
      "| 26|pe btarde|  9|        1|   2|        5|         3|            10| false|\n",
      "+---+---------+---+---------+----+---------+----------+--------------+------+\n",
      "\n",
      "+---+------+---+------+---+---------+----+--------+----------+----------+----------------------+-----+-----+-------------+-----+------+-----+---+---------+---+---------+----+---------+----------+--------------+------+\n",
      "| id|  name| pv|max_pv|atk|atk_magik|mana|max_mana|initiative|experience|experience_to_level_up|level|speed|origine_speed|items|weapon|armor| id|     name|atk|atk_magik|mana|mana_cost|durability|max_durability|broken|\n",
      "+---+------+---+------+---+---------+----+--------+----------+----------+----------------------+-----+-----+-------------+-----+------+-----+---+---------+---+---------+----+---------+----------+--------------+------+\n",
      "| 26|Zander|175|   175|  1|       38|  77|      77|        61|       180|                   454|    2|   93|           41|   []|    26| null| 26|pe btarde|  9|        1|   2|        5|         3|            10| false|\n",
      "+---+------+---+------+---+---------+----+--------+----------+----------+----------------------+-----+-----+-------------+-----+------+-----+---+---------+---+---------+----+---------+----------+--------------+------+\n",
      "\n",
      "+---+---------+---+---------+----+---------+----------+--------------+------+\n",
      "| id|     name|atk|atk_magik|mana|mana_cost|durability|max_durability|broken|\n",
      "+---+---------+---+---------+----+---------+----------+--------------+------+\n",
      "| 26|pe btarde|  9|        1|   2|        5|         3|            10| false|\n",
      "+---+---------+---+---------+----+---------+----------+--------------+------+\n",
      "\n"
     ]
    }
   ],
   "source": [
    "\n",
    "spark.sql(f'''SELECT * FROM weapon \n",
    "            WHERE weapon.name LIKE '%btarde%'\n",
    "          ''').show()\n",
    "\n",
    "spark.sql(f'''SELECT * FROM weapon \n",
    "            WHERE weapon.id == 26\n",
    "          ''').show()\n",
    "\n",
    "spark.sql(f'''SELECT * FROM hero \n",
    "            JOIN weapon on hero.weapon = weapon.id\n",
    "          ''').show()\n",
    "\n",
    "spark.sql(f'''SELECT weapon.* FROM hero \n",
    "            JOIN weapon on hero.weapon = weapon.id\n",
    "          ''').show()"
   ]
  },
  {
   "cell_type": "code",
   "execution_count": 19,
   "id": "80c46c54-70c9-47b9-b6ae-a8603e4bd4fc",
   "metadata": {
    "tags": []
   },
   "outputs": [
    {
     "name": "stdout",
     "output_type": "stream",
     "text": [
      "+---+------+---+------+---+---------+----+--------+----------+----------+----------------------+-----+-----+-------------+-----+------+-----+---+---------+---+---------+----+---------+----------+--------------+------+\n",
      "| id|  name| pv|max_pv|atk|atk_magik|mana|max_mana|initiative|experience|experience_to_level_up|level|speed|origine_speed|items|weapon|armor| id|     name|atk|atk_magik|mana|mana_cost|durability|max_durability|broken|\n",
      "+---+------+---+------+---+---------+----+--------+----------+----------+----------------------+-----+-----+-------------+-----+------+-----+---+---------+---+---------+----+---------+----------+--------------+------+\n",
      "| 26|Zander|175|   175|  1|       38|  77|      77|        61|       180|                   454|    2|   93|           41|   []|    26| null| 26|pe btarde|  9|        1|   2|        5|         3|            10| false|\n",
      "+---+------+---+------+---+---------+----+--------+----------+----------+----------------------+-----+-----+-------------+-----+------+-----+---+---------+---+---------+----+---------+----------+--------------+------+\n",
      "\n"
     ]
    }
   ],
   "source": [
    "spark.sql(f'''SELECT * \n",
    "            FROM hero \n",
    "            JOIN weapon ON hero.weapon = weapon.id\n",
    "            WHERE hero.weapon IS NOT NULL\n",
    "          ''').show()"
   ]
  },
  {
   "cell_type": "code",
   "execution_count": 20,
   "id": "5e36be71-d9b2-4055-be72-e59f850ec536",
   "metadata": {
    "tags": []
   },
   "outputs": [
    {
     "data": {
      "text/plain": [
       "\"concat_ws('_', 'weapon') as weapon_id, concat_ws('_', 'weapon') as weapon_name, concat_ws('_', 'weapon') as weapon_atk, concat_ws('_', 'weapon') as weapon_atk_magik, concat_ws('_', 'weapon') as weapon_mana, concat_ws('_', 'weapon') as weapon_mana_cost, concat_ws('_', 'weapon') as weapon_durability, concat_ws('_', 'weapon') as weapon_max_durability, concat_ws('_', 'weapon') as weapon_broken\""
      ]
     },
     "execution_count": 20,
     "metadata": {},
     "output_type": "execute_result"
    }
   ],
   "source": [
    "weapon_cols = [f\"concat_ws('_', 'weapon') as weapon_{col}\" for col in  spark.table(\"weapon\").columns]\n",
    "weapon_cols_str = \", \".join(weapon_cols)\n",
    "weapon_cols_str\n",
    "\n"
   ]
  },
  {
   "cell_type": "code",
   "execution_count": 21,
   "id": "05cdd0b2-0cf2-4021-9923-8bed732e1ffa",
   "metadata": {
    "tags": []
   },
   "outputs": [
    {
     "name": "stdout",
     "output_type": "stream",
     "text": [
      "\n",
      "    SELECT hero.*, concat_ws('_', 'weapon') as weapon_id, concat_ws('_', 'weapon') as weapon_name, concat_ws('_', 'weapon') as weapon_atk, concat_ws('_', 'weapon') as weapon_atk_magik, concat_ws('_', 'weapon') as weapon_mana, concat_ws('_', 'weapon') as weapon_mana_cost, concat_ws('_', 'weapon') as weapon_durability, concat_ws('_', 'weapon') as weapon_max_durability, concat_ws('_', 'weapon') as weapon_broken\n",
      "    FROM hero\n",
      "    JOIN weapon ON hero.weapon = weapon.id\n",
      "    WHERE hero.weapon IS NOT NULL\n",
      "\n",
      "+---+------+---+------+---+---------+----+--------+----------+----------+----------------------+-----+-----+-------------+-----+------+-----+---------+-----------+----------+----------------+-----------+----------------+-----------------+---------------------+-------------+\n",
      "| id|  name| pv|max_pv|atk|atk_magik|mana|max_mana|initiative|experience|experience_to_level_up|level|speed|origine_speed|items|weapon|armor|weapon_id|weapon_name|weapon_atk|weapon_atk_magik|weapon_mana|weapon_mana_cost|weapon_durability|weapon_max_durability|weapon_broken|\n",
      "+---+------+---+------+---+---------+----+--------+----------+----------+----------------------+-----+-----+-------------+-----+------+-----+---------+-----------+----------+----------------+-----------+----------------+-----------------+---------------------+-------------+\n",
      "| 26|Zander|175|   175|  1|       38|  77|      77|        61|       180|                   454|    2|   93|           41|   []|    26| null|   weapon|     weapon|    weapon|          weapon|     weapon|          weapon|           weapon|               weapon|       weapon|\n",
      "+---+------+---+------+---+---------+----+--------+----------+----------+----------------------+-----+-----+-------------+-----+------+-----+---------+-----------+----------+----------------+-----------+----------------+-----------------+---------------------+-------------+\n",
      "\n"
     ]
    }
   ],
   "source": [
    "\n",
    "query = f\"\"\"\n",
    "    SELECT hero.*, {weapon_cols_str}\n",
    "    FROM hero\n",
    "    JOIN weapon ON hero.weapon = weapon.id\n",
    "    WHERE hero.weapon IS NOT NULL\n",
    "\"\"\"\n",
    "\n",
    "print(query)\n",
    "spark.sql(query).show()"
   ]
  },
  {
   "cell_type": "code",
   "execution_count": 22,
   "id": "3d72989a-b55e-41a9-9ec1-5b7902899b67",
   "metadata": {
    "tags": []
   },
   "outputs": [
    {
     "name": "stdout",
     "output_type": "stream",
     "text": [
      "+---+---------+---+------+---+---------+----+--------+----------+----------+----------------------+-----+-----+-------------+-----+------+-----+\n",
      "| id|     name| pv|max_pv|atk|atk_magik|mana|max_mana|initiative|experience|experience_to_level_up|level|speed|origine_speed|items|weapon|armor|\n",
      "+---+---------+---+------+---+---------+----+--------+----------+----------+----------------------+-----+-----+-------------+-----+------+-----+\n",
      "|  1|     Aria|195|   195| 13|       14|   5|       5|        54|       582|                   103|    9|   48|           96|   []|  null| null|\n",
      "|  2|Balthazar|112|   112| 40|        6|  63|      63|        28|       237|                   587|    2|   83|           60|   []|  null| null|\n",
      "|  3|Cassandra|160|   160| 17|        7|  60|      60|        96|        23|                   881|    7|   18|           53|   []|  null| null|\n",
      "|  4|   Darian|132|   132| 15|       46|  13|      13|        87|       432|                   444|    2|   23|           17|   []|  null| null|\n",
      "|  5|    Elena|139|   139| 17|       10|  28|      28|        32|       671|                   262|    6|   93|            6|   []|  null| null|\n",
      "|  6|    Felix|144|   144| 42|       30|  91|      91|        21|       745|                   415|    2|   66|            6|   []|  null| null|\n",
      "|  7|Gabrielle|138|   138|  5|       48|  89|      89|        72|       285|                   164|    8|   12|           76|   []|  null| null|\n",
      "|  8|  Hadrien| 70|    70| 23|        6|  51|      51|        33|       248|                   573|   10|   60|           23|   []|  null| null|\n",
      "|  9|  Isadora|156|   156| 45|       10|  80|      80|        17|       394|                   114|    3|   12|           25|   []|  null| null|\n",
      "| 10|   Jasper|109|   109| 21|        1|  10|      10|        22|        50|                   320|    5|   35|            7|   []|  null| null|\n",
      "| 11|     Kara|156|   156| 19|       31|  90|      90|         8|       216|                   566|    1|   23|           79|   []|  null| null|\n",
      "| 12|   Landon| 86|    86| 23|       20|  18|      18|         2|        86|                   516|    4|   29|           59|   []|  null| null|\n",
      "| 13|    Malys|146|   146| 42|       37|  22|      22|         6|       149|                   508|    6|   98|           85|   []|  null| null|\n",
      "| 14|    Nolan| 91|    91| 33|       33|  19|      19|        86|        89|                   291|    5|   18|            8|   []|  null| null|\n",
      "| 15|   Olivia|191|   191|  4|       33|  62|      62|        30|       655|                   414|    3|   55|           38|   []|  null| null|\n",
      "| 16| Philemon|106|   106| 21|       23|  17|      17|        70|       809|                   325|    1|   27|           60|   []|  null| null|\n",
      "| 17|  Quintus|117|   117| 23|        9|  17|      17|        89|       632|                   269|    2|   80|          100|   []|  null| null|\n",
      "| 18|  Raphael|122|   122| 21|       26|  14|      14|        71|       704|                   287|    8|   16|           39|   []|  null|   18|\n",
      "| 19|  Saoirse|104|   104| 38|       41|  46|      46|        78|       722|                   130|    5|   80|           44|   []|  null| null|\n",
      "| 20| Thaddeus| 75|    75|  2|       32|  20|      20|        38|       458|                   417|    1|   64|            8|   []|  null| null|\n",
      "+---+---------+---+------+---+---------+----+--------+----------+----------+----------------------+-----+-----+-------------+-----+------+-----+\n",
      "only showing top 20 rows\n",
      "\n"
     ]
    }
   ],
   "source": [
    "def armor_update_table(updated_df):\n",
    "    # Mettre à jour la colonne \"armor\" avec les valeurs de la colonne \"armor_updated\"\n",
    "    updated_df = updated_df.withColumn('armor', col('armor_updated'))\n",
    "\n",
    "    # Supprimer la colonne \"armor_updated\"\n",
    "    updated_df = updated_df.drop('armor_updated')\n",
    "    \n",
    "    return updated_df\n",
    "\n",
    "\n",
    "\n",
    "# Créer une nouvelle colonne avec la valeur mise à jour conditionnellement\n",
    "updated_df = df_hero.withColumn('armor_updated', when(col('id') == 18, 18).otherwise(col('armor')))\n",
    "\n",
    "\n",
    "# Mettre à jour la colonne \"armor\" avec les valeurs de la colonne \"armor_updated\" et Supprimer la colonne \"armor_updated\" \n",
    "df_hero = armor_update_table(updated_df)\n",
    "\n",
    "# Afficher le DataFrame mis à jour\n",
    "df_hero.show()"
   ]
  },
  {
   "cell_type": "code",
   "execution_count": 23,
   "id": "74c811ef-ecdb-425b-9664-b3e229a52a47",
   "metadata": {},
   "outputs": [
    {
     "name": "stdout",
     "output_type": "stream",
     "text": [
      "+---+---------+---+------+---+---------+----+--------+----------+----------+----------------------+-----+-----+-------------+-----+------+-----+\n",
      "| id|     name| pv|max_pv|atk|atk_magik|mana|max_mana|initiative|experience|experience_to_level_up|level|speed|origine_speed|items|weapon|armor|\n",
      "+---+---------+---+------+---+---------+----+--------+----------+----------+----------------------+-----+-----+-------------+-----+------+-----+\n",
      "|  1|     Aria|195|   195| 13|       14|   5|       5|        54|       582|                   103|    9|   48|           96|   []|  null|   14|\n",
      "|  2|Balthazar|112|   112| 40|        6|  63|      63|        28|       237|                   587|    2|   83|           60|   []|  null|   14|\n",
      "|  3|Cassandra|160|   160| 17|        7|  60|      60|        96|        23|                   881|    7|   18|           53|   []|  null|   14|\n",
      "|  4|   Darian|132|   132| 15|       46|  13|      13|        87|       432|                   444|    2|   23|           17|   []|  null|   14|\n",
      "|  5|    Elena|139|   139| 17|       10|  28|      28|        32|       671|                   262|    6|   93|            6|   []|  null|   14|\n",
      "|  6|    Felix|144|   144| 42|       30|  91|      91|        21|       745|                   415|    2|   66|            6|   []|  null|   14|\n",
      "|  7|Gabrielle|138|   138|  5|       48|  89|      89|        72|       285|                   164|    8|   12|           76|   []|  null|   14|\n",
      "|  8|  Hadrien| 70|    70| 23|        6|  51|      51|        33|       248|                   573|   10|   60|           23|   []|  null|   14|\n",
      "|  9|  Isadora|156|   156| 45|       10|  80|      80|        17|       394|                   114|    3|   12|           25|   []|  null|   14|\n",
      "| 10|   Jasper|109|   109| 21|        1|  10|      10|        22|        50|                   320|    5|   35|            7|   []|  null|   14|\n",
      "| 11|     Kara|156|   156| 19|       31|  90|      90|         8|       216|                   566|    1|   23|           79|   []|  null|   14|\n",
      "| 12|   Landon| 86|    86| 23|       20|  18|      18|         2|        86|                   516|    4|   29|           59|   []|  null|   14|\n",
      "| 13|    Malys|146|   146| 42|       37|  22|      22|         6|       149|                   508|    6|   98|           85|   []|  null|   14|\n",
      "| 14|    Nolan| 91|    91| 33|       33|  19|      19|        86|        89|                   291|    5|   18|            8|   []|  null|   14|\n",
      "| 15|   Olivia|191|   191|  4|       33|  62|      62|        30|       655|                   414|    3|   55|           38|   []|  null|   14|\n",
      "| 16| Philemon|106|   106| 21|       23|  17|      17|        70|       809|                   325|    1|   27|           60|   []|  null|   14|\n",
      "| 17|  Quintus|117|   117| 23|        9|  17|      17|        89|       632|                   269|    2|   80|          100|   []|  null|   14|\n",
      "| 18|  Raphael|122|   122| 21|       26|  14|      14|        71|       704|                   287|    8|   16|           39|   []|  null|   18|\n",
      "| 19|  Saoirse|104|   104| 38|       41|  46|      46|        78|       722|                   130|    5|   80|           44|   []|  null|   14|\n",
      "| 20| Thaddeus| 75|    75|  2|       32|  20|      20|        38|       458|                   417|    1|   64|            8|   []|  null|   14|\n",
      "| 21|   Ursula|177|   177| 16|       34|  63|      63|        99|       158|                   792|    6|   36|           28|   []|  null|   14|\n",
      "| 22| Valentin| 98|    98| 36|       41|  33|      33|        76|       187|                   452|    9|   61|           41|   []|  null|   14|\n",
      "| 23|  Wilhelm|165|   165| 10|       44|  11|      11|        38|       916|                   228|   10|   97|           65|   []|  null|   14|\n",
      "| 24|   Xander|179|   179| 12|       37|  47|      47|        25|       198|                   401|    1|   97|           96|   []|  null|   14|\n",
      "| 25|     Yara|122|   122| 37|       45|  28|      28|        42|       561|                   990|   10|   68|           51|   []|  null|   14|\n",
      "| 26|   Zander|175|   175|  1|       38|  77|      77|        61|       180|                   454|    2|   93|           41|   []|    26|   14|\n",
      "| 27|    Aidan|168|   168| 10|       20|  13|      13|        31|       109|                   600|    3|   72|            9|   []|  null|   14|\n",
      "| 28|  Brianna|179|   179| 14|       40|  75|      75|        27|       664|                   626|    9|   69|           45|   []|  null|   14|\n",
      "| 29|    Caleb| 58|    58| 41|       17|  69|      69|        89|       200|                   134|    5|   78|            7|   []|  null|   14|\n",
      "| 30|   Dahlia|167|   167| 41|       43|  66|      66|        13|       634|                   725|    1|   72|           87|   []|  null|   14|\n",
      "| 31|   Evelyn| 68|    68| 38|       23|  75|      75|        97|       771|                   209|    4|   36|           20|   []|  null|   14|\n",
      "| 32| Finnegan| 61|    61| 39|       37|  69|      69|        18|       506|                   169|    2|   95|           23|   []|  null|   14|\n",
      "| 33|Gwendolyn|189|   189| 12|        9|  24|      24|        79|       968|                   290|    7|   48|           26|   []|  null|   14|\n",
      "| 34|   Harvey|186|   186| 42|       28|  18|      18|        26|       778|                   302|    4|   22|           65|   []|  null|   14|\n",
      "| 35|   Imogen|196|   196|  4|        3|  30|      30|        49|       543|                   825|    9|   25|           34|   []|  null|   14|\n",
      "| 36|    Jaden| 50|    50| 21|       13|  32|      32|        53|       641|                   544|    5|   85|           72|   []|  null|   14|\n",
      "| 37|   Kendra|179|   179| 31|       29|  16|      16|        75|       919|                   206|    1|   92|           74|   []|  null|   14|\n",
      "| 38|     Liam|174|   174|  2|       18|  20|      20|        48|       286|                   847|    8|   31|           50|   []|  null|   14|\n",
      "| 39|  Matilda|183|   183| 25|        7|  36|      36|        38|       798|                   233|    5|   68|            8|   []|  null|   14|\n",
      "| 40|    Niamh|155|   155|  8|        6|  61|      61|        36|       521|                   200|    4|   17|           86|   []|  null|   14|\n",
      "| 41|  Ophelia|180|   180| 18|       31|  59|      59|        56|       504|                   266|    9|   93|           72|   []|  null|   14|\n",
      "| 42| Percival|157|   157| 46|       17|  51|      51|        35|       899|                   761|    1|   17|           20|   []|  null|   14|\n",
      "| 43|    Qiana|111|   111|  9|       36|  47|      47|        36|       826|                   980|    4|   56|           64|   []|  null|   14|\n",
      "| 44|    Riley|102|   102| 26|       44|  56|      56|         2|       308|                   945|    6|   22|           21|   []|  null|   14|\n",
      "| 45|Sebastian|124|   124| 16|       40|  77|      77|        51|       608|                   240|   10|   76|           83|   []|  null|   14|\n",
      "| 46|  Tristan|124|   124| 46|       10|  34|      34|        98|       925|                   138|    2|   31|           47|   []|  null|   14|\n",
      "| 47|    Uriel|104|   104| 44|       43|  28|      28|        24|        31|                   458|    2|   76|           92|   []|  null|   14|\n",
      "| 48|   Violet| 57|    57| 42|       22|  43|      43|        95|       727|                   554|    1|   28|           57|   []|  null|   14|\n",
      "| 49|    Wyatt| 76|    76| 47|       43|  89|      89|        16|       377|                   746|    1|   15|           68|   []|  null|   14|\n",
      "| 50|  Xiomara|181|   181| 34|       28|  16|      16|        99|       899|                   815|    6|   60|           82|   []|  null|   14|\n",
      "+---+---------+---+------+---+---------+----+--------+----------+----------+----------------------+-----+-----+-------------+-----+------+-----+\n",
      "\n"
     ]
    }
   ],
   "source": [
    "# Créer une nouvelle colonne avec la valeur mise à jour conditionnellement\n",
    "updated_df = df_hero.withColumn('armor_updated', when((col('id') < 18) | (col('id') > 18), 14).otherwise(col('armor')))\n",
    "\n",
    "# Mettre à jour la colonne \"armor\" avec les valeurs de la colonne \"armor_updated\" et Supprimer la colonne \"armor_updated\" \n",
    "df_hero = armor_update_table(updated_df)\n",
    "\n",
    "# Afficher le DataFrame mis à jour\n",
    "df_hero.show(n=50)"
   ]
  },
  {
   "cell_type": "code",
   "execution_count": 24,
   "id": "9cd13a97-c200-4e63-a823-da6a087d4e82",
   "metadata": {
    "tags": []
   },
   "outputs": [
    {
     "name": "stdout",
     "output_type": "stream",
     "text": [
      "+---+---------+---+------+---+---------+----+--------+----------+----------+----------------------+-----+-----+-------------+-----+------+-----+\n",
      "| id|     name| pv|max_pv|atk|atk_magik|mana|max_mana|initiative|experience|experience_to_level_up|level|speed|origine_speed|items|weapon|armor|\n",
      "+---+---------+---+------+---+---------+----+--------+----------+----------+----------------------+-----+-----+-------------+-----+------+-----+\n",
      "|  1|     Aria|195|   195| 13|       14|   5|       5|        54|       582|                   103|    9|   48|           96|   []|  null|   14|\n",
      "|  2|Balthazar|112|   112| 40|        6|  63|      63|        28|       237|                   587|    2|   83|           60|   []|  null|   14|\n",
      "|  3|Cassandra|160|   160| 17|        7|  60|      60|        96|        23|                   881|    7|   18|           53|   []|  null|   14|\n",
      "|  4|   Darian|132|   132| 15|       46|  13|      13|        87|       432|                   444|    2|   23|           17|   []|  null|   14|\n",
      "|  5|    Elena|139|   139| 17|       10|  28|      28|        32|       671|                   262|    6|   93|            6|   []|  null|   14|\n",
      "|  6|    Felix|144|   144| 42|       30|  91|      91|        21|       745|                   415|    2|   66|            6|   []|  null|   14|\n",
      "|  7|Gabrielle|138|   138|  5|       48|  89|      89|        72|       285|                   164|    8|   12|           76|   []|  null|   14|\n",
      "|  8|  Hadrien| 70|    70| 23|        6|  51|      51|        33|       248|                   573|   10|   60|           23|   []|  null|   14|\n",
      "|  9|  Isadora|156|   156| 45|       10|  80|      80|        17|       394|                   114|    3|   12|           25|   []|  null|   14|\n",
      "| 10|   Jasper|109|   109| 21|        1|  10|      10|        22|        50|                   320|    5|   35|            7|   []|  null|   11|\n",
      "| 11|     Kara|156|   156| 19|       31|  90|      90|         8|       216|                   566|    1|   23|           79|   []|  null|   11|\n",
      "| 12|   Landon| 86|    86| 23|       20|  18|      18|         2|        86|                   516|    4|   29|           59|   []|  null|   11|\n",
      "| 13|    Malys|146|   146| 42|       37|  22|      22|         6|       149|                   508|    6|   98|           85|   []|  null|   11|\n",
      "| 14|    Nolan| 91|    91| 33|       33|  19|      19|        86|        89|                   291|    5|   18|            8|   []|  null|   11|\n",
      "| 15|   Olivia|191|   191|  4|       33|  62|      62|        30|       655|                   414|    3|   55|           38|   []|  null|   11|\n",
      "| 16| Philemon|106|   106| 21|       23|  17|      17|        70|       809|                   325|    1|   27|           60|   []|  null|   14|\n",
      "| 17|  Quintus|117|   117| 23|        9|  17|      17|        89|       632|                   269|    2|   80|          100|   []|  null|   14|\n",
      "| 18|  Raphael|122|   122| 21|       26|  14|      14|        71|       704|                   287|    8|   16|           39|   []|  null|   18|\n",
      "| 19|  Saoirse|104|   104| 38|       41|  46|      46|        78|       722|                   130|    5|   80|           44|   []|  null|   14|\n",
      "| 20| Thaddeus| 75|    75|  2|       32|  20|      20|        38|       458|                   417|    1|   64|            8|   []|  null|   14|\n",
      "+---+---------+---+------+---+---------+----+--------+----------+----------+----------------------+-----+-----+-------------+-----+------+-----+\n",
      "only showing top 20 rows\n",
      "\n"
     ]
    }
   ],
   "source": [
    "# Créer une nouvelle colonne avec la valeur mise à jour conditionnellement\n",
    "updated_df = df_hero.withColumn('armor_updated', when(col('id').between(10, 15), 11).otherwise(col('armor')))\n",
    "\n",
    "\n",
    "# Mettre à jour la colonne \"armor\" avec les valeurs de la colonne \"armor_updated\" et Supprimer la colonne \"armor_updated\" \n",
    "df_hero = armor_update_table(updated_df)\n",
    "\n",
    "# Afficher le DataFrame mis à jour\n",
    "df_hero.show()\n",
    "\n"
   ]
  },
  {
   "cell_type": "code",
   "execution_count": 25,
   "id": "f7f1e2bd-a0ee-40be-b467-1818c59120bb",
   "metadata": {
    "tags": []
   },
   "outputs": [
    {
     "name": "stdout",
     "output_type": "stream",
     "text": [
      "+---+---------+---+------+---+---------+----+--------+----------+----------+----------------------+-----+-----+-------------+-----+------+-----+\n",
      "| id|     name| pv|max_pv|atk|atk_magik|mana|max_mana|initiative|experience|experience_to_level_up|level|speed|origine_speed|items|weapon|armor|\n",
      "+---+---------+---+------+---+---------+----+--------+----------+----------+----------------------+-----+-----+-------------+-----+------+-----+\n",
      "|  1|     Aria|195|   195| 13|       14|   5|       5|        54|       582|                   103|    9|   48|           96|   []|  null|    7|\n",
      "|  2|Balthazar|112|   112| 40|        6|  63|      63|        28|       237|                   587|    2|   83|           60|   []|  null|    7|\n",
      "|  3|Cassandra|160|   160| 17|        7|  60|      60|        96|        23|                   881|    7|   18|           53|   []|  null|    7|\n",
      "|  4|   Darian|132|   132| 15|       46|  13|      13|        87|       432|                   444|    2|   23|           17|   []|  null|    7|\n",
      "|  5|    Elena|139|   139| 17|       10|  28|      28|        32|       671|                   262|    6|   93|            6|   []|  null|   14|\n",
      "|  6|    Felix|144|   144| 42|       30|  91|      91|        21|       745|                   415|    2|   66|            6|   []|  null|   14|\n",
      "|  7|Gabrielle|138|   138|  5|       48|  89|      89|        72|       285|                   164|    8|   12|           76|   []|  null|   14|\n",
      "|  8|  Hadrien| 70|    70| 23|        6|  51|      51|        33|       248|                   573|   10|   60|           23|   []|  null|   14|\n",
      "|  9|  Isadora|156|   156| 45|       10|  80|      80|        17|       394|                   114|    3|   12|           25|   []|  null|   14|\n",
      "| 10|   Jasper|109|   109| 21|        1|  10|      10|        22|        50|                   320|    5|   35|            7|   []|  null|   11|\n",
      "| 11|     Kara|156|   156| 19|       31|  90|      90|         8|       216|                   566|    1|   23|           79|   []|  null|   11|\n",
      "| 12|   Landon| 86|    86| 23|       20|  18|      18|         2|        86|                   516|    4|   29|           59|   []|  null|   11|\n",
      "| 13|    Malys|146|   146| 42|       37|  22|      22|         6|       149|                   508|    6|   98|           85|   []|  null|   11|\n",
      "| 14|    Nolan| 91|    91| 33|       33|  19|      19|        86|        89|                   291|    5|   18|            8|   []|  null|   11|\n",
      "| 15|   Olivia|191|   191|  4|       33|  62|      62|        30|       655|                   414|    3|   55|           38|   []|  null|   11|\n",
      "| 16| Philemon|106|   106| 21|       23|  17|      17|        70|       809|                   325|    1|   27|           60|   []|  null|   14|\n",
      "| 17|  Quintus|117|   117| 23|        9|  17|      17|        89|       632|                   269|    2|   80|          100|   []|  null|   14|\n",
      "| 18|  Raphael|122|   122| 21|       26|  14|      14|        71|       704|                   287|    8|   16|           39|   []|  null|   18|\n",
      "| 19|  Saoirse|104|   104| 38|       41|  46|      46|        78|       722|                   130|    5|   80|           44|   []|  null|   14|\n",
      "| 20| Thaddeus| 75|    75|  2|       32|  20|      20|        38|       458|                   417|    1|   64|            8|   []|  null|   14|\n",
      "+---+---------+---+------+---+---------+----+--------+----------+----------+----------------------+-----+-----+-------------+-----+------+-----+\n",
      "only showing top 20 rows\n",
      "\n"
     ]
    }
   ],
   "source": [
    "# Créer une nouvelle colonne avec la valeur mise à jour conditionnellement\n",
    "updated_df = df_hero.withColumn('armor_updated', when((col('armor') == 14) & (col('id') < 5), 7).otherwise(col('armor')))\n",
    "\n",
    "\n",
    "# Mettre à jour la colonne \"armor\" avec les valeurs de la colonne \"armor_updated\" et Supprimer la colonne \"armor_updated\" \n",
    "df_hero = armor_update_table(updated_df)\n",
    "\n",
    "# Afficher le DataFrame mis à jour\n",
    "df_hero.show()"
   ]
  },
  {
   "cell_type": "code",
   "execution_count": 26,
   "id": "837598ba-877a-449e-a03c-2bec693567bb",
   "metadata": {
    "tags": []
   },
   "outputs": [
    {
     "name": "stdout",
     "output_type": "stream",
     "text": [
      "+---+---------+---+------+---+---------+----+--------+----------+----------+----------------------+-----+-----+-------------+-----+------+-----+\n",
      "| id|     name| pv|max_pv|atk|atk_magik|mana|max_mana|initiative|experience|experience_to_level_up|level|speed|origine_speed|items|weapon|armor|\n",
      "+---+---------+---+------+---+---------+----+--------+----------+----------+----------------------+-----+-----+-------------+-----+------+-----+\n",
      "|  1|     Aria|195|   195| 13|       14|   5|       5|        54|       582|                   103|    9|   48|           96|   []|  null|    7|\n",
      "|  2|Balthazar|112|   112| 40|        6|  63|      63|        28|       237|                   587|    2|   83|           60|   []|  null|    7|\n",
      "|  3|Cassandra|160|   160| 17|        7|  60|      60|        96|        23|                   881|    7|   18|           53|   []|  null|    7|\n",
      "|  4|   Darian|132|   132| 15|       46|  13|      13|        87|       432|                   444|    2|   23|           17|   []|  null|    7|\n",
      "|  5|    Elena|139|   139| 17|       10|  28|      28|        32|       671|                   262|    6|   93|            6|   []|  null|   14|\n",
      "|  6|    Felix|144|   144| 42|       30|  91|      91|        21|       745|                   415|    2|   66|            6|   []|  null|   14|\n",
      "|  7|Gabrielle|138|   138|  5|       48|  89|      89|        72|       285|                   164|    8|   12|           76|   []|  null|   14|\n",
      "|  8|  Hadrien| 70|    70| 23|        6|  51|      51|        33|       248|                   573|   10|   60|           23|   []|  null|   14|\n",
      "|  9|  Isadora|156|   156| 45|       10|  80|      80|        17|       394|                   114|    3|   12|           25|   []|  null|   14|\n",
      "| 10|   Jasper|109|   109| 21|        1|  10|      10|        22|        50|                   320|    5|   35|            7|   []|  null|   11|\n",
      "| 11|     Kara|156|   156| 19|       31|  90|      90|         8|       216|                   566|    1|   23|           79|   []|  null|   11|\n",
      "| 12|   Landon| 86|    86| 23|       20|  18|      18|         2|        86|                   516|    4|   29|           59|   []|  null|   11|\n",
      "| 13|    Malys|146|   146| 42|       37|  22|      22|         6|       149|                   508|    6|   98|           85|   []|  null|   11|\n",
      "| 14|    Nolan| 91|    91| 33|       33|  19|      19|        86|        89|                   291|    5|   18|            8|   []|  null|   11|\n",
      "| 15|   Olivia|191|   191|  4|       33|  62|      62|        30|       655|                   414|    3|   55|           38|   []|  null|   11|\n",
      "| 16| Philemon|106|   106| 21|       23|  17|      17|        70|       809|                   325|    1|   27|           60|   []|  null|   14|\n",
      "| 17|  Quintus|117|   117| 23|        9|  17|      17|        89|       632|                   269|    2|   80|          100|   []|  null|   14|\n",
      "| 18|  Raphael|122|   122| 21|       26|  14|      14|        71|       704|                   287|    8|   16|           39|   []|  null| null|\n",
      "| 19|  Saoirse|104|   104| 38|       41|  46|      46|        78|       722|                   130|    5|   80|           44|   []|  null|   14|\n",
      "| 20| Thaddeus| 75|    75|  2|       32|  20|      20|        38|       458|                   417|    1|   64|            8|   []|  null|   14|\n",
      "+---+---------+---+------+---+---------+----+--------+----------+----------+----------------------+-----+-----+-------------+-----+------+-----+\n",
      "only showing top 20 rows\n",
      "\n"
     ]
    }
   ],
   "source": [
    "# Créer une nouvelle colonne avec la valeur mise à jour conditionnellement\n",
    "updated_df = df_hero.withColumn('armor_updated', when((col('armor') == 18) , 'null' ).otherwise(col('armor')))\n",
    "\n",
    "\n",
    "# Mettre à jour la colonne \"armor\" avec les valeurs de la colonne \"armor_updated\" et Supprimer la colonne \"armor_updated\" \n",
    "df_hero = armor_update_table(updated_df)\n",
    "\n",
    "# Afficher le DataFrame mis à jour\n",
    "df_hero.show()"
   ]
  },
  {
   "cell_type": "code",
   "execution_count": 28,
   "id": "5424b7af-2cd5-47f8-b58d-7540767e848d",
   "metadata": {
    "tags": []
   },
   "outputs": [
    {
     "name": "stdout",
     "output_type": "stream",
     "text": [
      "+---+---------+---+------+---+---------+----+--------+----------+----------+----------------------+-----+-----+-------------+-----+------+-----+\n",
      "| id|     name| pv|max_pv|atk|atk_magik|mana|max_mana|initiative|experience|experience_to_level_up|level|speed|origine_speed|items|weapon|armor|\n",
      "+---+---------+---+------+---+---------+----+--------+----------+----------+----------------------+-----+-----+-------------+-----+------+-----+\n",
      "|  1|     Aria|195|   195| 13|       14|   5|       5|        54|       582|                   103|    9|   48|           96|   []|  null| null|\n",
      "|  2|Balthazar|112|   112| 40|        6|  63|      63|        28|       237|                   587|    2|   83|           60|   []|  null| null|\n",
      "|  3|Cassandra|160|   160| 17|        7|  60|      60|        96|        23|                   881|    7|   18|           53|   []|  null| null|\n",
      "|  4|   Darian|132|   132| 15|       46|  13|      13|        87|       432|                   444|    2|   23|           17|   []|  null| null|\n",
      "|  5|    Elena|139|   139| 17|       10|  28|      28|        32|       671|                   262|    6|   93|            6|   []|  null| null|\n",
      "|  6|    Felix|144|   144| 42|       30|  91|      91|        21|       745|                   415|    2|   66|            6|   []|  null| null|\n",
      "|  7|Gabrielle|138|   138|  5|       48|  89|      89|        72|       285|                   164|    8|   12|           76|   []|  null| null|\n",
      "|  8|  Hadrien| 70|    70| 23|        6|  51|      51|        33|       248|                   573|   10|   60|           23|   []|  null| null|\n",
      "|  9|  Isadora|156|   156| 45|       10|  80|      80|        17|       394|                   114|    3|   12|           25|   []|  null| null|\n",
      "| 10|   Jasper|109|   109| 21|        1|  10|      10|        22|        50|                   320|    5|   35|            7|   []|  null| null|\n",
      "| 11|     Kara|156|   156| 19|       31|  90|      90|         8|       216|                   566|    1|   23|           79|   []|  null| null|\n",
      "| 12|   Landon| 86|    86| 23|       20|  18|      18|         2|        86|                   516|    4|   29|           59|   []|  null| null|\n",
      "| 13|    Malys|146|   146| 42|       37|  22|      22|         6|       149|                   508|    6|   98|           85|   []|  null| null|\n",
      "| 14|    Nolan| 91|    91| 33|       33|  19|      19|        86|        89|                   291|    5|   18|            8|   []|  null| null|\n",
      "| 15|   Olivia|191|   191|  4|       33|  62|      62|        30|       655|                   414|    3|   55|           38|   []|  null| null|\n",
      "| 16| Philemon|106|   106| 21|       23|  17|      17|        70|       809|                   325|    1|   27|           60|   []|  null| null|\n",
      "| 17|  Quintus|117|   117| 23|        9|  17|      17|        89|       632|                   269|    2|   80|          100|   []|  null| null|\n",
      "| 18|  Raphael|122|   122| 21|       26|  14|      14|        71|       704|                   287|    8|   16|           39|   []|  null| null|\n",
      "| 19|  Saoirse|104|   104| 38|       41|  46|      46|        78|       722|                   130|    5|   80|           44|   []|  null| null|\n",
      "| 20| Thaddeus| 75|    75|  2|       32|  20|      20|        38|       458|                   417|    1|   64|            8|   []|  null| null|\n",
      "+---+---------+---+------+---+---------+----+--------+----------+----------+----------------------+-----+-----+-------------+-----+------+-----+\n",
      "only showing top 20 rows\n",
      "\n"
     ]
    },
    {
     "ename": "Py4JJavaError",
     "evalue": "An error occurred while calling o150.saveAsTable.\n: java.lang.UnsatisfiedLinkError: 'boolean org.apache.hadoop.io.nativeio.NativeIO$Windows.access0(java.lang.String, int)'\r\n\tat org.apache.hadoop.io.nativeio.NativeIO$Windows.access0(Native Method)\r\n\tat org.apache.hadoop.io.nativeio.NativeIO$Windows.access(NativeIO.java:793)\r\n\tat org.apache.hadoop.fs.FileUtil.canRead(FileUtil.java:1249)\r\n\tat org.apache.hadoop.fs.FileUtil.list(FileUtil.java:1454)\r\n\tat org.apache.hadoop.fs.RawLocalFileSystem.listStatus(RawLocalFileSystem.java:601)\r\n\tat org.apache.hadoop.fs.FileSystem.listStatus(FileSystem.java:1972)\r\n\tat org.apache.hadoop.fs.FileSystem.listStatus(FileSystem.java:2014)\r\n\tat org.apache.hadoop.fs.ChecksumFileSystem.listStatus(ChecksumFileSystem.java:761)\r\n\tat org.apache.spark.sql.catalyst.catalog.SessionCatalog.validateTableLocation(SessionCatalog.scala:413)\r\n\tat org.apache.spark.sql.execution.command.CreateDataSourceTableAsSelectCommand.run(createDataSourceTables.scala:176)\r\n\tat org.apache.spark.sql.execution.command.ExecutedCommandExec.sideEffectResult$lzycompute(commands.scala:75)\r\n\tat org.apache.spark.sql.execution.command.ExecutedCommandExec.sideEffectResult(commands.scala:73)\r\n\tat org.apache.spark.sql.execution.command.ExecutedCommandExec.executeCollect(commands.scala:84)\r\n\tat org.apache.spark.sql.execution.QueryExecution$$anonfun$eagerlyExecuteCommands$1.$anonfun$applyOrElse$1(QueryExecution.scala:98)\r\n\tat org.apache.spark.sql.execution.SQLExecution$.$anonfun$withNewExecutionId$6(SQLExecution.scala:118)\r\n\tat org.apache.spark.sql.execution.SQLExecution$.withSQLConfPropagated(SQLExecution.scala:195)\r\n\tat org.apache.spark.sql.execution.SQLExecution$.$anonfun$withNewExecutionId$1(SQLExecution.scala:103)\r\n\tat org.apache.spark.sql.SparkSession.withActive(SparkSession.scala:827)\r\n\tat org.apache.spark.sql.execution.SQLExecution$.withNewExecutionId(SQLExecution.scala:65)\r\n\tat org.apache.spark.sql.execution.QueryExecution$$anonfun$eagerlyExecuteCommands$1.applyOrElse(QueryExecution.scala:98)\r\n\tat org.apache.spark.sql.execution.QueryExecution$$anonfun$eagerlyExecuteCommands$1.applyOrElse(QueryExecution.scala:94)\r\n\tat org.apache.spark.sql.catalyst.trees.TreeNode.$anonfun$transformDownWithPruning$1(TreeNode.scala:512)\r\n\tat org.apache.spark.sql.catalyst.trees.CurrentOrigin$.withOrigin(TreeNode.scala:104)\r\n\tat org.apache.spark.sql.catalyst.trees.TreeNode.transformDownWithPruning(TreeNode.scala:512)\r\n\tat org.apache.spark.sql.catalyst.plans.logical.LogicalPlan.org$apache$spark$sql$catalyst$plans$logical$AnalysisHelper$$super$transformDownWithPruning(LogicalPlan.scala:31)\r\n\tat org.apache.spark.sql.catalyst.plans.logical.AnalysisHelper.transformDownWithPruning(AnalysisHelper.scala:267)\r\n\tat org.apache.spark.sql.catalyst.plans.logical.AnalysisHelper.transformDownWithPruning$(AnalysisHelper.scala:263)\r\n\tat org.apache.spark.sql.catalyst.plans.logical.LogicalPlan.transformDownWithPruning(LogicalPlan.scala:31)\r\n\tat org.apache.spark.sql.catalyst.plans.logical.LogicalPlan.transformDownWithPruning(LogicalPlan.scala:31)\r\n\tat org.apache.spark.sql.catalyst.trees.TreeNode.transformDown(TreeNode.scala:488)\r\n\tat org.apache.spark.sql.execution.QueryExecution.eagerlyExecuteCommands(QueryExecution.scala:94)\r\n\tat org.apache.spark.sql.execution.QueryExecution.commandExecuted$lzycompute(QueryExecution.scala:81)\r\n\tat org.apache.spark.sql.execution.QueryExecution.commandExecuted(QueryExecution.scala:79)\r\n\tat org.apache.spark.sql.execution.QueryExecution.assertCommandExecuted(QueryExecution.scala:133)\r\n\tat org.apache.spark.sql.DataFrameWriter.runCommand(DataFrameWriter.scala:856)\r\n\tat org.apache.spark.sql.DataFrameWriter.createTable(DataFrameWriter.scala:697)\r\n\tat org.apache.spark.sql.DataFrameWriter.saveAsTable(DataFrameWriter.scala:675)\r\n\tat org.apache.spark.sql.DataFrameWriter.saveAsTable(DataFrameWriter.scala:570)\r\n\tat java.base/jdk.internal.reflect.NativeMethodAccessorImpl.invoke0(Native Method)\r\n\tat java.base/jdk.internal.reflect.NativeMethodAccessorImpl.invoke(NativeMethodAccessorImpl.java:75)\r\n\tat java.base/jdk.internal.reflect.DelegatingMethodAccessorImpl.invoke(DelegatingMethodAccessorImpl.java:52)\r\n\tat java.base/java.lang.reflect.Method.invoke(Method.java:578)\r\n\tat py4j.reflection.MethodInvoker.invoke(MethodInvoker.java:244)\r\n\tat py4j.reflection.ReflectionEngine.invoke(ReflectionEngine.java:374)\r\n\tat py4j.Gateway.invoke(Gateway.java:282)\r\n\tat py4j.commands.AbstractCommand.invokeMethod(AbstractCommand.java:132)\r\n\tat py4j.commands.CallCommand.execute(CallCommand.java:79)\r\n\tat py4j.ClientServerConnection.waitForCommands(ClientServerConnection.java:182)\r\n\tat py4j.ClientServerConnection.run(ClientServerConnection.java:106)\r\n\tat java.base/java.lang.Thread.run(Thread.java:1623)\r\n",
     "output_type": "error",
     "traceback": [
      "\u001b[1;31m---------------------------------------------------------------------------\u001b[0m",
      "\u001b[1;31mPy4JJavaError\u001b[0m                             Traceback (most recent call last)",
      "Cell \u001b[1;32mIn[28], line 4\u001b[0m\n\u001b[0;32m      1\u001b[0m spark\u001b[38;5;241m.\u001b[39msql(\u001b[38;5;124mf\u001b[39m\u001b[38;5;124m'''\u001b[39m\u001b[38;5;124mSELECT * \u001b[39m\n\u001b[0;32m      2\u001b[0m \u001b[38;5;124m            FROM hero  \u001b[39m\n\u001b[0;32m      3\u001b[0m \u001b[38;5;124m          \u001b[39m\u001b[38;5;124m'''\u001b[39m)\u001b[38;5;241m.\u001b[39mshow()\n\u001b[1;32m----> 4\u001b[0m \u001b[43mdf_hero\u001b[49m\u001b[38;5;241;43m.\u001b[39;49m\u001b[43mwrite\u001b[49m\u001b[38;5;241;43m.\u001b[39;49m\u001b[43mmode\u001b[49m\u001b[43m(\u001b[49m\u001b[38;5;124;43m'\u001b[39;49m\u001b[38;5;124;43moverwrite\u001b[39;49m\u001b[38;5;124;43m'\u001b[39;49m\u001b[43m)\u001b[49m\u001b[38;5;241;43m.\u001b[39;49m\u001b[43msaveAsTable\u001b[49m\u001b[43m(\u001b[49m\u001b[38;5;124;43m'\u001b[39;49m\u001b[38;5;124;43mhero\u001b[39;49m\u001b[38;5;124;43m'\u001b[39;49m\u001b[43m)\u001b[49m\n\u001b[0;32m      5\u001b[0m spark\u001b[38;5;241m.\u001b[39msql(\u001b[38;5;124mf\u001b[39m\u001b[38;5;124m'''\u001b[39m\u001b[38;5;124mSELECT * \u001b[39m\n\u001b[0;32m      6\u001b[0m \u001b[38;5;124m            FROM hero  \u001b[39m\n\u001b[0;32m      7\u001b[0m \u001b[38;5;124m          \u001b[39m\u001b[38;5;124m'''\u001b[39m)\u001b[38;5;241m.\u001b[39mshow()\n",
      "File \u001b[1;32m~\\AppData\\Local\\Programs\\Python\\Python311\\Lib\\site-packages\\pyspark\\sql\\readwriter.py:1521\u001b[0m, in \u001b[0;36mDataFrameWriter.saveAsTable\u001b[1;34m(self, name, format, mode, partitionBy, **options)\u001b[0m\n\u001b[0;32m   1519\u001b[0m \u001b[38;5;28;01mif\u001b[39;00m \u001b[38;5;28mformat\u001b[39m \u001b[38;5;129;01mis\u001b[39;00m \u001b[38;5;129;01mnot\u001b[39;00m \u001b[38;5;28;01mNone\u001b[39;00m:\n\u001b[0;32m   1520\u001b[0m     \u001b[38;5;28mself\u001b[39m\u001b[38;5;241m.\u001b[39mformat(\u001b[38;5;28mformat\u001b[39m)\n\u001b[1;32m-> 1521\u001b[0m \u001b[38;5;28;43mself\u001b[39;49m\u001b[38;5;241;43m.\u001b[39;49m\u001b[43m_jwrite\u001b[49m\u001b[38;5;241;43m.\u001b[39;49m\u001b[43msaveAsTable\u001b[49m\u001b[43m(\u001b[49m\u001b[43mname\u001b[49m\u001b[43m)\u001b[49m\n",
      "File \u001b[1;32m~\\AppData\\Local\\Programs\\Python\\Python311\\Lib\\site-packages\\py4j\\java_gateway.py:1322\u001b[0m, in \u001b[0;36mJavaMember.__call__\u001b[1;34m(self, *args)\u001b[0m\n\u001b[0;32m   1316\u001b[0m command \u001b[38;5;241m=\u001b[39m proto\u001b[38;5;241m.\u001b[39mCALL_COMMAND_NAME \u001b[38;5;241m+\u001b[39m\\\n\u001b[0;32m   1317\u001b[0m     \u001b[38;5;28mself\u001b[39m\u001b[38;5;241m.\u001b[39mcommand_header \u001b[38;5;241m+\u001b[39m\\\n\u001b[0;32m   1318\u001b[0m     args_command \u001b[38;5;241m+\u001b[39m\\\n\u001b[0;32m   1319\u001b[0m     proto\u001b[38;5;241m.\u001b[39mEND_COMMAND_PART\n\u001b[0;32m   1321\u001b[0m answer \u001b[38;5;241m=\u001b[39m \u001b[38;5;28mself\u001b[39m\u001b[38;5;241m.\u001b[39mgateway_client\u001b[38;5;241m.\u001b[39msend_command(command)\n\u001b[1;32m-> 1322\u001b[0m return_value \u001b[38;5;241m=\u001b[39m \u001b[43mget_return_value\u001b[49m\u001b[43m(\u001b[49m\n\u001b[0;32m   1323\u001b[0m \u001b[43m    \u001b[49m\u001b[43manswer\u001b[49m\u001b[43m,\u001b[49m\u001b[43m \u001b[49m\u001b[38;5;28;43mself\u001b[39;49m\u001b[38;5;241;43m.\u001b[39;49m\u001b[43mgateway_client\u001b[49m\u001b[43m,\u001b[49m\u001b[43m \u001b[49m\u001b[38;5;28;43mself\u001b[39;49m\u001b[38;5;241;43m.\u001b[39;49m\u001b[43mtarget_id\u001b[49m\u001b[43m,\u001b[49m\u001b[43m \u001b[49m\u001b[38;5;28;43mself\u001b[39;49m\u001b[38;5;241;43m.\u001b[39;49m\u001b[43mname\u001b[49m\u001b[43m)\u001b[49m\n\u001b[0;32m   1325\u001b[0m \u001b[38;5;28;01mfor\u001b[39;00m temp_arg \u001b[38;5;129;01min\u001b[39;00m temp_args:\n\u001b[0;32m   1326\u001b[0m     \u001b[38;5;28;01mif\u001b[39;00m \u001b[38;5;28mhasattr\u001b[39m(temp_arg, \u001b[38;5;124m\"\u001b[39m\u001b[38;5;124m_detach\u001b[39m\u001b[38;5;124m\"\u001b[39m):\n",
      "File \u001b[1;32m~\\AppData\\Local\\Programs\\Python\\Python311\\Lib\\site-packages\\pyspark\\errors\\exceptions\\captured.py:169\u001b[0m, in \u001b[0;36mcapture_sql_exception.<locals>.deco\u001b[1;34m(*a, **kw)\u001b[0m\n\u001b[0;32m    167\u001b[0m \u001b[38;5;28;01mdef\u001b[39;00m \u001b[38;5;21mdeco\u001b[39m(\u001b[38;5;241m*\u001b[39ma: Any, \u001b[38;5;241m*\u001b[39m\u001b[38;5;241m*\u001b[39mkw: Any) \u001b[38;5;241m-\u001b[39m\u001b[38;5;241m>\u001b[39m Any:\n\u001b[0;32m    168\u001b[0m     \u001b[38;5;28;01mtry\u001b[39;00m:\n\u001b[1;32m--> 169\u001b[0m         \u001b[38;5;28;01mreturn\u001b[39;00m \u001b[43mf\u001b[49m\u001b[43m(\u001b[49m\u001b[38;5;241;43m*\u001b[39;49m\u001b[43ma\u001b[49m\u001b[43m,\u001b[49m\u001b[43m \u001b[49m\u001b[38;5;241;43m*\u001b[39;49m\u001b[38;5;241;43m*\u001b[39;49m\u001b[43mkw\u001b[49m\u001b[43m)\u001b[49m\n\u001b[0;32m    170\u001b[0m     \u001b[38;5;28;01mexcept\u001b[39;00m Py4JJavaError \u001b[38;5;28;01mas\u001b[39;00m e:\n\u001b[0;32m    171\u001b[0m         converted \u001b[38;5;241m=\u001b[39m convert_exception(e\u001b[38;5;241m.\u001b[39mjava_exception)\n",
      "File \u001b[1;32m~\\AppData\\Local\\Programs\\Python\\Python311\\Lib\\site-packages\\py4j\\protocol.py:326\u001b[0m, in \u001b[0;36mget_return_value\u001b[1;34m(answer, gateway_client, target_id, name)\u001b[0m\n\u001b[0;32m    324\u001b[0m value \u001b[38;5;241m=\u001b[39m OUTPUT_CONVERTER[\u001b[38;5;28mtype\u001b[39m](answer[\u001b[38;5;241m2\u001b[39m:], gateway_client)\n\u001b[0;32m    325\u001b[0m \u001b[38;5;28;01mif\u001b[39;00m answer[\u001b[38;5;241m1\u001b[39m] \u001b[38;5;241m==\u001b[39m REFERENCE_TYPE:\n\u001b[1;32m--> 326\u001b[0m     \u001b[38;5;28;01mraise\u001b[39;00m Py4JJavaError(\n\u001b[0;32m    327\u001b[0m         \u001b[38;5;124m\"\u001b[39m\u001b[38;5;124mAn error occurred while calling \u001b[39m\u001b[38;5;132;01m{0}\u001b[39;00m\u001b[38;5;132;01m{1}\u001b[39;00m\u001b[38;5;132;01m{2}\u001b[39;00m\u001b[38;5;124m.\u001b[39m\u001b[38;5;130;01m\\n\u001b[39;00m\u001b[38;5;124m\"\u001b[39m\u001b[38;5;241m.\u001b[39m\n\u001b[0;32m    328\u001b[0m         \u001b[38;5;28mformat\u001b[39m(target_id, \u001b[38;5;124m\"\u001b[39m\u001b[38;5;124m.\u001b[39m\u001b[38;5;124m\"\u001b[39m, name), value)\n\u001b[0;32m    329\u001b[0m \u001b[38;5;28;01melse\u001b[39;00m:\n\u001b[0;32m    330\u001b[0m     \u001b[38;5;28;01mraise\u001b[39;00m Py4JError(\n\u001b[0;32m    331\u001b[0m         \u001b[38;5;124m\"\u001b[39m\u001b[38;5;124mAn error occurred while calling \u001b[39m\u001b[38;5;132;01m{0}\u001b[39;00m\u001b[38;5;132;01m{1}\u001b[39;00m\u001b[38;5;132;01m{2}\u001b[39;00m\u001b[38;5;124m. Trace:\u001b[39m\u001b[38;5;130;01m\\n\u001b[39;00m\u001b[38;5;132;01m{3}\u001b[39;00m\u001b[38;5;130;01m\\n\u001b[39;00m\u001b[38;5;124m\"\u001b[39m\u001b[38;5;241m.\u001b[39m\n\u001b[0;32m    332\u001b[0m         \u001b[38;5;28mformat\u001b[39m(target_id, \u001b[38;5;124m\"\u001b[39m\u001b[38;5;124m.\u001b[39m\u001b[38;5;124m\"\u001b[39m, name, value))\n",
      "\u001b[1;31mPy4JJavaError\u001b[0m: An error occurred while calling o150.saveAsTable.\n: java.lang.UnsatisfiedLinkError: 'boolean org.apache.hadoop.io.nativeio.NativeIO$Windows.access0(java.lang.String, int)'\r\n\tat org.apache.hadoop.io.nativeio.NativeIO$Windows.access0(Native Method)\r\n\tat org.apache.hadoop.io.nativeio.NativeIO$Windows.access(NativeIO.java:793)\r\n\tat org.apache.hadoop.fs.FileUtil.canRead(FileUtil.java:1249)\r\n\tat org.apache.hadoop.fs.FileUtil.list(FileUtil.java:1454)\r\n\tat org.apache.hadoop.fs.RawLocalFileSystem.listStatus(RawLocalFileSystem.java:601)\r\n\tat org.apache.hadoop.fs.FileSystem.listStatus(FileSystem.java:1972)\r\n\tat org.apache.hadoop.fs.FileSystem.listStatus(FileSystem.java:2014)\r\n\tat org.apache.hadoop.fs.ChecksumFileSystem.listStatus(ChecksumFileSystem.java:761)\r\n\tat org.apache.spark.sql.catalyst.catalog.SessionCatalog.validateTableLocation(SessionCatalog.scala:413)\r\n\tat org.apache.spark.sql.execution.command.CreateDataSourceTableAsSelectCommand.run(createDataSourceTables.scala:176)\r\n\tat org.apache.spark.sql.execution.command.ExecutedCommandExec.sideEffectResult$lzycompute(commands.scala:75)\r\n\tat org.apache.spark.sql.execution.command.ExecutedCommandExec.sideEffectResult(commands.scala:73)\r\n\tat org.apache.spark.sql.execution.command.ExecutedCommandExec.executeCollect(commands.scala:84)\r\n\tat org.apache.spark.sql.execution.QueryExecution$$anonfun$eagerlyExecuteCommands$1.$anonfun$applyOrElse$1(QueryExecution.scala:98)\r\n\tat org.apache.spark.sql.execution.SQLExecution$.$anonfun$withNewExecutionId$6(SQLExecution.scala:118)\r\n\tat org.apache.spark.sql.execution.SQLExecution$.withSQLConfPropagated(SQLExecution.scala:195)\r\n\tat org.apache.spark.sql.execution.SQLExecution$.$anonfun$withNewExecutionId$1(SQLExecution.scala:103)\r\n\tat org.apache.spark.sql.SparkSession.withActive(SparkSession.scala:827)\r\n\tat org.apache.spark.sql.execution.SQLExecution$.withNewExecutionId(SQLExecution.scala:65)\r\n\tat org.apache.spark.sql.execution.QueryExecution$$anonfun$eagerlyExecuteCommands$1.applyOrElse(QueryExecution.scala:98)\r\n\tat org.apache.spark.sql.execution.QueryExecution$$anonfun$eagerlyExecuteCommands$1.applyOrElse(QueryExecution.scala:94)\r\n\tat org.apache.spark.sql.catalyst.trees.TreeNode.$anonfun$transformDownWithPruning$1(TreeNode.scala:512)\r\n\tat org.apache.spark.sql.catalyst.trees.CurrentOrigin$.withOrigin(TreeNode.scala:104)\r\n\tat org.apache.spark.sql.catalyst.trees.TreeNode.transformDownWithPruning(TreeNode.scala:512)\r\n\tat org.apache.spark.sql.catalyst.plans.logical.LogicalPlan.org$apache$spark$sql$catalyst$plans$logical$AnalysisHelper$$super$transformDownWithPruning(LogicalPlan.scala:31)\r\n\tat org.apache.spark.sql.catalyst.plans.logical.AnalysisHelper.transformDownWithPruning(AnalysisHelper.scala:267)\r\n\tat org.apache.spark.sql.catalyst.plans.logical.AnalysisHelper.transformDownWithPruning$(AnalysisHelper.scala:263)\r\n\tat org.apache.spark.sql.catalyst.plans.logical.LogicalPlan.transformDownWithPruning(LogicalPlan.scala:31)\r\n\tat org.apache.spark.sql.catalyst.plans.logical.LogicalPlan.transformDownWithPruning(LogicalPlan.scala:31)\r\n\tat org.apache.spark.sql.catalyst.trees.TreeNode.transformDown(TreeNode.scala:488)\r\n\tat org.apache.spark.sql.execution.QueryExecution.eagerlyExecuteCommands(QueryExecution.scala:94)\r\n\tat org.apache.spark.sql.execution.QueryExecution.commandExecuted$lzycompute(QueryExecution.scala:81)\r\n\tat org.apache.spark.sql.execution.QueryExecution.commandExecuted(QueryExecution.scala:79)\r\n\tat org.apache.spark.sql.execution.QueryExecution.assertCommandExecuted(QueryExecution.scala:133)\r\n\tat org.apache.spark.sql.DataFrameWriter.runCommand(DataFrameWriter.scala:856)\r\n\tat org.apache.spark.sql.DataFrameWriter.createTable(DataFrameWriter.scala:697)\r\n\tat org.apache.spark.sql.DataFrameWriter.saveAsTable(DataFrameWriter.scala:675)\r\n\tat org.apache.spark.sql.DataFrameWriter.saveAsTable(DataFrameWriter.scala:570)\r\n\tat java.base/jdk.internal.reflect.NativeMethodAccessorImpl.invoke0(Native Method)\r\n\tat java.base/jdk.internal.reflect.NativeMethodAccessorImpl.invoke(NativeMethodAccessorImpl.java:75)\r\n\tat java.base/jdk.internal.reflect.DelegatingMethodAccessorImpl.invoke(DelegatingMethodAccessorImpl.java:52)\r\n\tat java.base/java.lang.reflect.Method.invoke(Method.java:578)\r\n\tat py4j.reflection.MethodInvoker.invoke(MethodInvoker.java:244)\r\n\tat py4j.reflection.ReflectionEngine.invoke(ReflectionEngine.java:374)\r\n\tat py4j.Gateway.invoke(Gateway.java:282)\r\n\tat py4j.commands.AbstractCommand.invokeMethod(AbstractCommand.java:132)\r\n\tat py4j.commands.CallCommand.execute(CallCommand.java:79)\r\n\tat py4j.ClientServerConnection.waitForCommands(ClientServerConnection.java:182)\r\n\tat py4j.ClientServerConnection.run(ClientServerConnection.java:106)\r\n\tat java.base/java.lang.Thread.run(Thread.java:1623)\r\n"
     ]
    }
   ],
   "source": [
    "spark.sql(f'''SELECT * \n",
    "            FROM hero  \n",
    "          ''').show()\n",
    "df_hero.write.mode('overwrite').saveAsTable('hero')\n",
    "spark.sql(f'''SELECT * \n",
    "            FROM hero  \n",
    "          ''').show()"
   ]
  },
  {
   "cell_type": "code",
   "execution_count": null,
   "id": "2f48f43a-3018-4d6e-9742-643e9ce5f8d4",
   "metadata": {},
   "outputs": [],
   "source": []
  }
 ],
 "metadata": {
  "kernelspec": {
   "display_name": "Python 3 (ipykernel)",
   "language": "python",
   "name": "python3"
  },
  "language_info": {
   "codemirror_mode": {
    "name": "ipython",
    "version": 3
   },
   "file_extension": ".py",
   "mimetype": "text/x-python",
   "name": "python",
   "nbconvert_exporter": "python",
   "pygments_lexer": "ipython3",
   "version": "3.11.2"
  }
 },
 "nbformat": 4,
 "nbformat_minor": 5
}
