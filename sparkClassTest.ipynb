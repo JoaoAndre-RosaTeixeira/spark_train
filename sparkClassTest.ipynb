{
 "cells": [
  {
   "cell_type": "code",
   "execution_count": 1,
   "id": "6bba21d7-bcba-442e-9625-947e2a88f54e",
   "metadata": {
    "tags": []
   },
   "outputs": [],
   "source": [
    "import mysql.connector\n",
    "from pyspark.sql import SparkSession\n",
    "import csv\n",
    "import random\n",
    "from pyspark.sql.functions import lit, col, when"
   ]
  },
  {
   "cell_type": "code",
   "execution_count": 2,
   "id": "9af919bb-cca5-43b9-98fc-8b89b6cbcd73",
   "metadata": {
    "tags": []
   },
   "outputs": [],
   "source": [
    "class Request_SQL:\n",
    "    \n",
    "    DFs = {}\n",
    "    \n",
    "    def __init__(self, spark = \"temp_spark\", files = None, ):\n",
    "        self.spark = SparkSession.builder.appName(spark).getOrCreate()\n",
    "        self.read_files(files)\n",
    "        \n",
    "        \n",
    "    def select(self, table, columns='*', where=\"\", join=\"\"):\n",
    "        \n",
    "        if join != \"\":\n",
    "            join = f\"JOIN {join} on {table}.{join} = {join}.id\"\n",
    "            print(join)\n",
    "        if where != \"\":\n",
    "            where = f\"WHERE {where}\"\n",
    "            print(where)    \n",
    "        \n",
    "        query = f'''\n",
    "                SELECT {columns}\n",
    "                FROM {table} \n",
    "                {join}\n",
    "                {where}\n",
    "                '''\n",
    "        print(query)\n",
    "        # Exécution d'une requête SQL pour sélectionner les héros avec plus de 100 points de vie\n",
    "        result = self.spark.sql(query)\n",
    "\n",
    "        # Affichage des résultats\n",
    "        result.show(n=500, truncate=False)\n",
    "    \n",
    "        \n",
    "\n",
    "\n",
    "    def update(self, table, column, conditon):\n",
    "                \n",
    "        updated_df = self.DFs[table].withColumn(f'{column}_updated', condition.otherwise(col(column)))\n",
    "        # Mettre à jour la colonne \"armor\" avec les valeurs de la colonne \"armor_updated\"\n",
    "        updated_df = updated_df.withColumn(column, col(f'{column}_updated'))\n",
    "        # Supprimer la colonne \"armor_updated\"\n",
    "        updated_df = updated_df.drop(f'{column}_updated')\n",
    "        updated_df.show()\n",
    "        self.DFs[table] = updated_df\n",
    "        self.DFs[table].createOrReplaceTempView(table)\n",
    "\n",
    "    \n",
    "    def set_DFs(self, file_name):\n",
    "        # print(self.get_name_file(file_name))\n",
    "        if \"csv\" in file_name.split('.')[-1:]:\n",
    "            self.DFs[self.get_name_file(file_name)] = self.spark.read.csv(f\"assets/csv/{self.get_name_file(file_name)}.csv\", header=True, inferSchema=True)\n",
    "            self.DFs[self.get_name_file(file_name)].createOrReplaceTempView(self.get_name_file(file_name))\n",
    "            \n",
    "    \n",
    "    def read_files(self, files):         \n",
    "        if files is not None:            \n",
    "            if isinstance(files, list):\n",
    "                for key, val in enumerate(files):                 \n",
    "                    self.set_DFs(val)\n",
    "            else:                            \n",
    "                self.set_DFs(files)                   \n",
    "    \n",
    "    \n",
    "    #############################\n",
    "    ########### UTILS ###########\n",
    "    #############################\n",
    "    def get_name_file(self, file):\n",
    "        return file.split('.')[-2:-1:][0].split('/')[-1:][0]\n",
    "    \n",
    "    def print_DF(self, name):\n",
    "        print(self.DFs[name], \"\\n\")\n",
    "        \n",
    "    \n",
    "    def show_DF(self, name, n=50):\n",
    "        self.DFs[name].show(n=n)\n",
    "        \n",
    "    def show_DFs(self,n=50):\n",
    "        for table in self.DFs:\n",
    "            self.DFs[table].show(n=n)\n",
    "                    \n",
    "    def print_DFs(self):\n",
    "        for key,  df in self.DFs.items():\n",
    "            print(df, \"\\n\")\n",
    "    \n",
    "    def print_names_DFs(self):\n",
    "        for df in self.DFs:\n",
    "            print(df, \"\\n\")\n",
    "            \n",
    "    def print_table(self, name):\n",
    "        print(self.spark.table(name), \"\\n\")\n",
    "                    \n",
    "    def print_tables(self):\n",
    "        for table in self.spark.catalog.listTables():\n",
    "            print(table, \"\\n\")\n",
    "            \n",
    "\n",
    "                    \n",
    "    "
   ]
  },
  {
   "cell_type": "code",
   "execution_count": 3,
   "id": "b13dc883-3380-40a8-9ff4-3ab95e22c252",
   "metadata": {
    "tags": []
   },
   "outputs": [],
   "source": [
    "request = Request_SQL(spark = \"temp_hero_test\", files = [\"hero.csv\", \"armor.csv\", \"weapon.csv\"])"
   ]
  },
  {
   "cell_type": "code",
   "execution_count": null,
   "id": "20853f8e-eb90-4bf0-ae96-16b15e612875",
   "metadata": {
    "tags": []
   },
   "outputs": [],
   "source": [
    "request.print_DFs()\n",
    "request.print_DF(\"hero\")\n",
    "request.print_tables()\n",
    "request.print_table(\"hero\")\n",
    "request.print_names_DFs()"
   ]
  },
  {
   "cell_type": "code",
   "execution_count": null,
   "id": "1c1d9d75-04db-4ea5-a403-d505a35f9ae8",
   "metadata": {
    "tags": []
   },
   "outputs": [],
   "source": []
  },
  {
   "cell_type": "code",
   "execution_count": null,
   "id": "a1acea4d-e241-48ed-95e0-36604b687710",
   "metadata": {
    "tags": []
   },
   "outputs": [],
   "source": [
    "request.print_names_DFs()"
   ]
  },
  {
   "cell_type": "code",
   "execution_count": null,
   "id": "d5d74ee5-7081-4d9e-9eba-06a78f25c33c",
   "metadata": {
    "tags": []
   },
   "outputs": [],
   "source": [
    "request.select(\"hero\", \"*\", \"hero.weapon is not null\", \"weapon\")"
   ]
  },
  {
   "cell_type": "code",
   "execution_count": null,
   "id": "8f7f55c3-0b59-4e3b-bd83-c4a4bd4ed6f7",
   "metadata": {
    "tags": []
   },
   "outputs": [],
   "source": [
    "condition = when(col('id') == 18, 18)\n",
    "request.update(\"hero\", \"armor\", condition)"
   ]
  },
  {
   "cell_type": "code",
   "execution_count": null,
   "id": "82822e89-5132-46e1-910f-a9a6bdd674b2",
   "metadata": {
    "tags": []
   },
   "outputs": [],
   "source": [
    "request.select(\"hero\", \"*\", \"hero.armor is not null\", \"armor\")"
   ]
  },
  {
   "cell_type": "code",
   "execution_count": null,
   "id": "96942d2a-4626-416e-8714-866897bcd91c",
   "metadata": {
    "tags": []
   },
   "outputs": [],
   "source": [
    "request.show_DF('hero')"
   ]
  },
  {
   "cell_type": "code",
   "execution_count": null,
   "id": "545a18e4-e6ef-4c3c-93f2-6f489a2c5dae",
   "metadata": {
    "tags": []
   },
   "outputs": [],
   "source": [
    "request.show_DFs()"
   ]
  },
  {
   "cell_type": "code",
   "execution_count": null,
   "id": "759dbc95-bac3-4efe-8703-ed64858b9c80",
   "metadata": {
    "tags": []
   },
   "outputs": [],
   "source": [
    "condition = when(col('id').between(10, 15), 11)\n",
    "request.update(\"hero\", \"armor\", condition)"
   ]
  },
  {
   "cell_type": "code",
   "execution_count": null,
   "id": "962ed4ba-4192-46b8-906a-3062db3790c8",
   "metadata": {
    "tags": []
   },
   "outputs": [],
   "source": [
    "request.select(\"hero\", \"*\", \"hero.armor is not null\", \"armor\")"
   ]
  },
  {
   "cell_type": "code",
   "execution_count": 6,
   "id": "021ff347-9342-45d8-9007-850a7006e3ef",
   "metadata": {
    "tags": []
   },
   "outputs": [
    {
     "name": "stdout",
     "output_type": "stream",
     "text": [
      "+---+---------+---+------+---+---------+----+--------+----------+----------+----------------------+-----+-----+-------------+-----+------+-----+\n",
      "| id|     name| pv|max_pv|atk|atk_magik|mana|max_mana|initiative|experience|experience_to_level_up|level|speed|origine_speed|items|weapon|armor|\n",
      "+---+---------+---+------+---+---------+----+--------+----------+----------+----------------------+-----+-----+-------------+-----+------+-----+\n",
      "|  1|     Aria|189|   189|  1|       23|  35|      35|        61|        81|                   901|    5|   99|           11|   []|  null|    7|\n",
      "|  2|Balthazar|162|   162| 29|       49|  67|      67|        32|       613|                   422|    5|   88|           23|   []|  null|    7|\n",
      "|  3|Cassandra|103|   103| 43|       39|  50|      50|        88|       817|                   788|    8|   90|           87|   []|  null|    7|\n",
      "|  4|   Darian| 75|    75| 30|       14|  66|      66|        86|       101|                   112|    6|   81|           60|   []|  null|    7|\n",
      "|  5|    Elena|109|   109|  5|       35|  37|      37|        38|       816|                   329|   10|    9|           16|   []|  null| null|\n",
      "|  6|    Felix| 81|    81|  5|       45|  93|      93|        42|       608|                   961|    8|   69|            3|   []|  null| null|\n",
      "|  7|Gabrielle|192|   192|  3|        6|  26|      26|        24|       911|                   856|    9|   21|           37|   []|  null| null|\n",
      "|  8|  Hadrien|156|   156| 50|       32|   0|       0|        24|       318|                   235|    7|   92|           46|   []|  null| null|\n",
      "|  9|  Isadora| 61|    61| 49|       12|  83|      83|        32|       148|                   268|    5|   69|           41|   []|  null| null|\n",
      "| 10|   Jasper|183|   183| 22|        1|  29|      29|        58|       962|                   154|    2|   55|           78|   []|  null|   11|\n",
      "| 11|     Kara|125|   125| 40|       14| 100|     100|        93|       795|                   280|    1|   54|           40|   []|  null|   11|\n",
      "| 12|   Landon|134|   134| 43|       27|   4|       4|        83|       682|                   935|    8|   88|           16|   []|  null|   11|\n",
      "| 13|    Malys| 52|    52|  2|        0|  99|      99|        50|       327|                   985|    3|   92|           75|   []|  null|   11|\n",
      "| 14|    Nolan| 54|    54| 13|       26|  42|      42|        17|        56|                   432|    6|   63|           86|   []|  null|   11|\n",
      "| 15|   Olivia| 72|    72| 33|       50|  38|      38|        28|       222|                   590|    3|   56|           87|   []|  null|   11|\n",
      "| 16| Philemon|101|   101| 33|       29|  64|      64|        32|       167|                   801|    3|   63|            1|   []|  null| null|\n",
      "| 17|  Quintus|150|   150| 39|       32|  49|      49|         0|       852|                   468|    7|    9|           66|   []|  null| null|\n",
      "| 18|  Raphael|171|   171| 35|        4|  96|      96|        38|       903|                   860|    4|   60|           27|   []|  null| null|\n",
      "| 19|  Saoirse|117|   117| 17|        5|  72|      72|         4|       629|                   300|    9|   48|           99|   []|  null| null|\n",
      "| 20| Thaddeus| 84|    84| 25|       29|  99|      99|        99|       470|                   129|    9|   36|           59|   []|  null| null|\n",
      "+---+---------+---+------+---+---------+----+--------+----------+----------+----------------------+-----+-----+-------------+-----+------+-----+\n",
      "only showing top 20 rows\n",
      "\n",
      "JOIN armor on hero.armor = armor.id\n",
      "WHERE hero.armor is not null\n",
      "\n",
      "                SELECT *\n",
      "                FROM hero \n",
      "                JOIN armor on hero.armor = armor.id\n",
      "                WHERE hero.armor is not null\n",
      "                \n",
      "+---+---------+---+------+---+---------+----+--------+----------+----------+----------------------+-----+-----+-------------+-----+------+-----+---+-----------------+-----+-----------+----+----------+--------------+------+\n",
      "|id |name     |pv |max_pv|atk|atk_magik|mana|max_mana|initiative|experience|experience_to_level_up|level|speed|origine_speed|items|weapon|armor|id |name             |armor|armor_magik|mana|durability|max_durability|broken|\n",
      "+---+---------+---+------+---+---------+----+--------+----------+----------+----------------------+-----+-----+-------------+-----+------+-----+---+-----------------+-----+-----------+----+----------+--------------+------+\n",
      "|1  |Aria     |189|189   |1  |23       |35  |35      |61        |81        |901                   |5    |99   |11           |[]   |null  |7    |7  |Armure d'cailles |10   |5          |4   |8         |13            |false |\n",
      "|2  |Balthazar|162|162   |29 |49       |67  |67      |32        |613       |422                   |5    |88   |23           |[]   |null  |7    |7  |Armure d'cailles |10   |5          |4   |8         |13            |false |\n",
      "|3  |Cassandra|103|103   |43 |39       |50  |50      |88        |817       |788                   |8    |90   |87           |[]   |null  |7    |7  |Armure d'cailles |10   |5          |4   |8         |13            |false |\n",
      "|4  |Darian   |75 |75    |30 |14       |66  |66      |86        |101       |112                   |6    |81   |60           |[]   |null  |7    |7  |Armure d'cailles |10   |5          |4   |8         |13            |false |\n",
      "|10 |Jasper   |183|183   |22 |1        |29  |29      |58        |962       |154                   |2    |55   |78           |[]   |null  |11   |11 |Armure de cristal|9    |5          |4   |9         |18            |false |\n",
      "|11 |Kara     |125|125   |40 |14       |100 |100     |93        |795       |280                   |1    |54   |40           |[]   |null  |11   |11 |Armure de cristal|9    |5          |4   |9         |18            |false |\n",
      "|12 |Landon   |134|134   |43 |27       |4   |4       |83        |682       |935                   |8    |88   |16           |[]   |null  |11   |11 |Armure de cristal|9    |5          |4   |9         |18            |false |\n",
      "|13 |Malys    |52 |52    |2  |0        |99  |99      |50        |327       |985                   |3    |92   |75           |[]   |null  |11   |11 |Armure de cristal|9    |5          |4   |9         |18            |false |\n",
      "|14 |Nolan    |54 |54    |13 |26       |42  |42      |17        |56        |432                   |6    |63   |86           |[]   |null  |11   |11 |Armure de cristal|9    |5          |4   |9         |18            |false |\n",
      "|15 |Olivia   |72 |72    |33 |50       |38  |38      |28        |222       |590                   |3    |56   |87           |[]   |null  |11   |11 |Armure de cristal|9    |5          |4   |9         |18            |false |\n",
      "+---+---------+---+------+---+---------+----+--------+----------+----------+----------------------+-----+-----+-------------+-----+------+-----+---+-----------------+-----+-----------+----+----------+--------------+------+\n",
      "\n"
     ]
    }
   ],
   "source": [
    "\n",
    "condition = when((col('armor').isNull()) & (col('id') < 5), 7)\n",
    "request.update(\"hero\", \"armor\", condition)\n",
    "request.select(\"hero\", \"*\", \"hero.armor is not null\", \"armor\")"
   ]
  },
  {
   "cell_type": "code",
   "execution_count": null,
   "id": "fd8a651b-6cdc-4909-97a1-72d14efba9e2",
   "metadata": {},
   "outputs": [],
   "source": []
  },
  {
   "cell_type": "code",
   "execution_count": null,
   "id": "c42d523e-10ec-4f79-bbee-19fd94b5fea3",
   "metadata": {},
   "outputs": [],
   "source": []
  },
  {
   "cell_type": "code",
   "execution_count": null,
   "id": "a9407803-c424-4942-ab1d-c3270764a3c3",
   "metadata": {},
   "outputs": [],
   "source": []
  },
  {
   "cell_type": "code",
   "execution_count": null,
   "id": "cee77c7f-7f4c-46ca-b84d-cd642e3b1ea6",
   "metadata": {},
   "outputs": [],
   "source": []
  },
  {
   "cell_type": "code",
   "execution_count": null,
   "id": "1ba5225c-4c03-45d0-9631-27f82384c67e",
   "metadata": {},
   "outputs": [],
   "source": []
  },
  {
   "cell_type": "code",
   "execution_count": null,
   "id": "738e7e3c-0a51-4285-a459-8b16d075e20e",
   "metadata": {},
   "outputs": [],
   "source": []
  },
  {
   "cell_type": "code",
   "execution_count": null,
   "id": "e090728e-41cd-439e-bdc0-84117cf95412",
   "metadata": {},
   "outputs": [],
   "source": []
  },
  {
   "cell_type": "code",
   "execution_count": null,
   "id": "91d04df8-bc38-485d-9086-6e7ee44667d2",
   "metadata": {},
   "outputs": [],
   "source": []
  },
  {
   "cell_type": "code",
   "execution_count": null,
   "id": "476848ed-7bf9-4e1d-bffa-6d0f3c140321",
   "metadata": {},
   "outputs": [],
   "source": []
  },
  {
   "cell_type": "code",
   "execution_count": null,
   "id": "7b42bc67-6708-4d15-8f4e-4253ed1be16a",
   "metadata": {},
   "outputs": [],
   "source": []
  },
  {
   "cell_type": "code",
   "execution_count": null,
   "id": "c731a864-0e84-4a1c-941b-311d0cdeda73",
   "metadata": {},
   "outputs": [],
   "source": []
  },
  {
   "cell_type": "code",
   "execution_count": null,
   "id": "10d80e92-b534-4543-acc2-e8e92a57289e",
   "metadata": {},
   "outputs": [],
   "source": []
  },
  {
   "cell_type": "code",
   "execution_count": null,
   "id": "4eeb2095-2d4a-4034-a1cf-41b7b83468cf",
   "metadata": {},
   "outputs": [],
   "source": []
  }
 ],
 "metadata": {
  "kernelspec": {
   "display_name": "Python 3 (ipykernel)",
   "language": "python",
   "name": "python3"
  },
  "language_info": {
   "codemirror_mode": {
    "name": "ipython",
    "version": 3
   },
   "file_extension": ".py",
   "mimetype": "text/x-python",
   "name": "python",
   "nbconvert_exporter": "python",
   "pygments_lexer": "ipython3",
   "version": "3.11.2"
  }
 },
 "nbformat": 4,
 "nbformat_minor": 5
}
