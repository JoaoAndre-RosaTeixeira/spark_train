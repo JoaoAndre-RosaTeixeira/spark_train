{
 "cells": [
  {
   "cell_type": "code",
   "execution_count": 1,
   "id": "6bba21d7-bcba-442e-9625-947e2a88f54e",
   "metadata": {
    "tags": []
   },
   "outputs": [],
   "source": [
    "import mysql.connector\n",
    "from pyspark.sql import SparkSession\n",
    "import csv\n",
    "import random\n",
    "from pyspark.sql.functions import lit, col, when"
   ]
  },
  {
   "cell_type": "code",
   "execution_count": 2,
   "id": "9af919bb-cca5-43b9-98fc-8b89b6cbcd73",
   "metadata": {
    "tags": []
   },
   "outputs": [],
   "source": [
    "class Request_SQL:\n",
    "    \n",
    "    DFs = {}\n",
    "    \n",
    "    def __init__(self, spark = \"temp_spark\", files = None, ):\n",
    "        self.spark = SparkSession.builder.appName(spark).getOrCreate()\n",
    "        self.read_files(files)\n",
    "        \n",
    "        \n",
    "    def select(self, table, columns='*', where=\"\", join=\"\"):\n",
    "        \n",
    "        if join != \"\":\n",
    "            join = f\"JOIN {join} on {table}.{join} = {join}.id\"\n",
    "            print(join)\n",
    "        if where != \"\":\n",
    "            where = f\"WHERE {where}\"\n",
    "            print(where)    \n",
    "        \n",
    "        query = f'''\n",
    "                SELECT {columns}\n",
    "                FROM {table} \n",
    "                {join}\n",
    "                {where}\n",
    "                '''\n",
    "        print(query)\n",
    "        # Exécution d'une requête SQL pour sélectionner les héros avec plus de 100 points de vie\n",
    "        result = self.spark.sql(query)\n",
    "\n",
    "        # Affichage des résultats\n",
    "        result.show(n=500, truncate=False)\n",
    "    \n",
    "        \n",
    "\n",
    "\n",
    "    def update(self, table, column, conditon):\n",
    "                \n",
    "        updated_df = self.DFs[table].withColumn(f'{column}_updated', condition.otherwise(col(column)))\n",
    "        # Mettre à jour la colonne \"armor\" avec les valeurs de la colonne \"armor_updated\"\n",
    "        updated_df = updated_df.withColumn(column, col(f'{column}_updated'))\n",
    "        # Supprimer la colonne \"armor_updated\"\n",
    "        updated_df = updated_df.drop(f'{column}_updated')\n",
    "        # updated_df.show()\n",
    "        self.DFs[table] = updated_df\n",
    "        self.DFs[table].createOrReplaceTempView(table)\n",
    "\n",
    "    \n",
    "    def set_DFs(self, file_name):\n",
    "        # print(self.get_name_file(file_name))\n",
    "        if \"csv\" in file_name.split('.')[-1:]:\n",
    "            self.DFs[self.get_name_file(file_name)] = self.spark.read.csv(f\"assets/csv/{self.get_name_file(file_name)}.csv\", header=True, inferSchema=True)\n",
    "            self.DFs[self.get_name_file(file_name)].createOrReplaceTempView(self.get_name_file(file_name))\n",
    "            \n",
    "    \n",
    "    def read_files(self, files):         \n",
    "        if files is not None:            \n",
    "            if isinstance(files, list):\n",
    "                for key, val in enumerate(files):                 \n",
    "                    self.set_DFs(val)\n",
    "            else:                            \n",
    "                self.set_DFs(files)                   \n",
    "    \n",
    "    \n",
    "    #############################\n",
    "    ########### UTILS ###########\n",
    "    #############################\n",
    "    def get_name_file(self, file):\n",
    "        return file.split('.')[-2:-1:][0].split('/')[-1:][0]\n",
    "    \n",
    "    def print_DF(self, name):\n",
    "        print(self.DFs[name], \"\\n\")\n",
    "        \n",
    "    \n",
    "    def show_DF(self, name, n=50):\n",
    "        self.DFs[name].show(n=n)\n",
    "        \n",
    "    def show_DFs(self,n=50):\n",
    "        for table in self.DFs:\n",
    "            self.DFs[table].show(n=n)\n",
    "                    \n",
    "    def print_DFs(self):\n",
    "        for key,  df in self.DFs.items():\n",
    "            print(df, \"\\n\")\n",
    "    \n",
    "    def print_names_DFs(self):\n",
    "        for df in self.DFs:\n",
    "            print(df, \"\\n\")\n",
    "            \n",
    "    def print_table(self, name):\n",
    "        print(self.spark.table(name), \"\\n\")\n",
    "                    \n",
    "    def print_tables(self):\n",
    "        for table in self.spark.catalog.listTables():\n",
    "            print(table, \"\\n\")\n",
    "            \n",
    "\n",
    "                    \n",
    "    "
   ]
  },
  {
   "cell_type": "code",
   "execution_count": 3,
   "id": "b13dc883-3380-40a8-9ff4-3ab95e22c252",
   "metadata": {
    "tags": []
   },
   "outputs": [],
   "source": [
    "request = Request_SQL(spark = \"temp_hero_test\", files = [\"hero.csv\", \"armor.csv\", \"weapon.csv\"])"
   ]
  },
  {
   "cell_type": "code",
   "execution_count": 4,
   "id": "20853f8e-eb90-4bf0-ae96-16b15e612875",
   "metadata": {
    "tags": []
   },
   "outputs": [
    {
     "name": "stdout",
     "output_type": "stream",
     "text": [
      "DataFrame[id: int, name: string, pv: int, max_pv: int, atk: int, atk_magik: int, mana: int, max_mana: int, initiative: int, experience: int, experience_to_level_up: int, level: int, speed: int, origine_speed: int, items: string, weapon: int, armor: string] \n",
      "\n",
      "DataFrame[id: int, name: string, armor: int, armor_magik: int, mana: int, durability: int, max_durability: int, broken: boolean] \n",
      "\n",
      "DataFrame[id: int, name: string, atk: int, atk_magik: int, mana: int, mana_cost: int, durability: int, max_durability: int, broken: boolean] \n",
      "\n",
      "DataFrame[id: int, name: string, pv: int, max_pv: int, atk: int, atk_magik: int, mana: int, max_mana: int, initiative: int, experience: int, experience_to_level_up: int, level: int, speed: int, origine_speed: int, items: string, weapon: int, armor: string] \n",
      "\n",
      "Table(name='armor', catalog=None, namespace=[], description=None, tableType='TEMPORARY', isTemporary=True) \n",
      "\n",
      "Table(name='hero', catalog=None, namespace=[], description=None, tableType='TEMPORARY', isTemporary=True) \n",
      "\n",
      "Table(name='weapon', catalog=None, namespace=[], description=None, tableType='TEMPORARY', isTemporary=True) \n",
      "\n",
      "DataFrame[id: int, name: string, pv: int, max_pv: int, atk: int, atk_magik: int, mana: int, max_mana: int, initiative: int, experience: int, experience_to_level_up: int, level: int, speed: int, origine_speed: int, items: string, weapon: int, armor: string] \n",
      "\n",
      "hero \n",
      "\n",
      "armor \n",
      "\n",
      "weapon \n",
      "\n"
     ]
    }
   ],
   "source": [
    "request.print_DFs()\n",
    "request.print_DF(\"hero\")\n",
    "request.print_tables()\n",
    "request.print_table(\"hero\")\n",
    "request.print_names_DFs()"
   ]
  },
  {
   "cell_type": "code",
   "execution_count": null,
   "id": "1c1d9d75-04db-4ea5-a403-d505a35f9ae8",
   "metadata": {
    "tags": []
   },
   "outputs": [],
   "source": []
  },
  {
   "cell_type": "code",
   "execution_count": 5,
   "id": "a1acea4d-e241-48ed-95e0-36604b687710",
   "metadata": {
    "tags": []
   },
   "outputs": [
    {
     "name": "stdout",
     "output_type": "stream",
     "text": [
      "hero \n",
      "\n",
      "armor \n",
      "\n",
      "weapon \n",
      "\n"
     ]
    }
   ],
   "source": [
    "request.print_names_DFs()"
   ]
  },
  {
   "cell_type": "code",
   "execution_count": 6,
   "id": "d5d74ee5-7081-4d9e-9eba-06a78f25c33c",
   "metadata": {
    "tags": []
   },
   "outputs": [
    {
     "name": "stdout",
     "output_type": "stream",
     "text": [
      "JOIN weapon on hero.weapon = weapon.id\n",
      "WHERE hero.weapon is not null\n",
      "\n",
      "                SELECT *\n",
      "                FROM hero \n",
      "                JOIN weapon on hero.weapon = weapon.id\n",
      "                WHERE hero.weapon is not null\n",
      "                \n",
      "+---+------+---+------+---+---------+----+--------+----------+----------+----------------------+-----+-----+-------------+-----+------+-----+---+---------+---+---------+----+---------+----------+--------------+------+\n",
      "|id |name  |pv |max_pv|atk|atk_magik|mana|max_mana|initiative|experience|experience_to_level_up|level|speed|origine_speed|items|weapon|armor|id |name     |atk|atk_magik|mana|mana_cost|durability|max_durability|broken|\n",
      "+---+------+---+------+---+---------+----+--------+----------+----------+----------------------+-----+-----+-------------+-----+------+-----+---+---------+---+---------+----+---------+----------+--------------+------+\n",
      "|26 |Zander|157|157   |27 |38       |74  |74      |70        |366       |437                   |3    |82   |47           |[]   |26    |null |26 |pe btarde|1  |0        |5   |5        |5         |19            |false |\n",
      "+---+------+---+------+---+---------+----+--------+----------+----------+----------------------+-----+-----+-------------+-----+------+-----+---+---------+---+---------+----+---------+----------+--------------+------+\n",
      "\n"
     ]
    }
   ],
   "source": [
    "request.select(\"hero\", \"*\", \"hero.weapon is not null\", \"weapon\")"
   ]
  },
  {
   "cell_type": "code",
   "execution_count": 7,
   "id": "8f7f55c3-0b59-4e3b-bd83-c4a4bd4ed6f7",
   "metadata": {
    "tags": []
   },
   "outputs": [],
   "source": [
    "condition = when(col('id') == 18, 18)\n",
    "request.update(\"hero\", \"armor\", condition)"
   ]
  },
  {
   "cell_type": "code",
   "execution_count": 8,
   "id": "82822e89-5132-46e1-910f-a9a6bdd674b2",
   "metadata": {
    "tags": []
   },
   "outputs": [
    {
     "name": "stdout",
     "output_type": "stream",
     "text": [
      "JOIN armor on hero.armor = armor.id\n",
      "WHERE hero.armor is not null\n",
      "\n",
      "                SELECT *\n",
      "                FROM hero \n",
      "                JOIN armor on hero.armor = armor.id\n",
      "                WHERE hero.armor is not null\n",
      "                \n",
      "+---+-------+---+------+---+---------+----+--------+----------+----------+----------------------+-----+-----+-------------+-----+------+-----+---+---------------+-----+-----------+----+----------+--------------+------+\n",
      "|id |name   |pv |max_pv|atk|atk_magik|mana|max_mana|initiative|experience|experience_to_level_up|level|speed|origine_speed|items|weapon|armor|id |name           |armor|armor_magik|mana|durability|max_durability|broken|\n",
      "+---+-------+---+------+---+---------+----+--------+----------+----------+----------------------+-----+-----+-------------+-----+------+-----+---+---------------+-----+-----------+----+----------+--------------+------+\n",
      "|18 |Raphael|171|171   |35 |4        |96  |96      |38        |903       |860                   |4    |60   |27           |[]   |null  |18   |18 |Armure de l'eau|3    |4          |3   |7         |13            |false |\n",
      "+---+-------+---+------+---+---------+----+--------+----------+----------+----------------------+-----+-----+-------------+-----+------+-----+---+---------------+-----+-----------+----+----------+--------------+------+\n",
      "\n"
     ]
    }
   ],
   "source": [
    "request.select(\"hero\", \"*\", \"hero.armor is not null\", \"armor\")"
   ]
  },
  {
   "cell_type": "code",
   "execution_count": 9,
   "id": "96942d2a-4626-416e-8714-866897bcd91c",
   "metadata": {
    "tags": []
   },
   "outputs": [
    {
     "name": "stdout",
     "output_type": "stream",
     "text": [
      "+---+---------+---+------+---+---------+----+--------+----------+----------+----------------------+-----+-----+-------------+-----+------+-----+\n",
      "| id|     name| pv|max_pv|atk|atk_magik|mana|max_mana|initiative|experience|experience_to_level_up|level|speed|origine_speed|items|weapon|armor|\n",
      "+---+---------+---+------+---+---------+----+--------+----------+----------+----------------------+-----+-----+-------------+-----+------+-----+\n",
      "|  1|     Aria|189|   189|  1|       23|  35|      35|        61|        81|                   901|    5|   99|           11|   []|  null| null|\n",
      "|  2|Balthazar|162|   162| 29|       49|  67|      67|        32|       613|                   422|    5|   88|           23|   []|  null| null|\n",
      "|  3|Cassandra|103|   103| 43|       39|  50|      50|        88|       817|                   788|    8|   90|           87|   []|  null| null|\n",
      "|  4|   Darian| 75|    75| 30|       14|  66|      66|        86|       101|                   112|    6|   81|           60|   []|  null| null|\n",
      "|  5|    Elena|109|   109|  5|       35|  37|      37|        38|       816|                   329|   10|    9|           16|   []|  null| null|\n",
      "|  6|    Felix| 81|    81|  5|       45|  93|      93|        42|       608|                   961|    8|   69|            3|   []|  null| null|\n",
      "|  7|Gabrielle|192|   192|  3|        6|  26|      26|        24|       911|                   856|    9|   21|           37|   []|  null| null|\n",
      "|  8|  Hadrien|156|   156| 50|       32|   0|       0|        24|       318|                   235|    7|   92|           46|   []|  null| null|\n",
      "|  9|  Isadora| 61|    61| 49|       12|  83|      83|        32|       148|                   268|    5|   69|           41|   []|  null| null|\n",
      "| 10|   Jasper|183|   183| 22|        1|  29|      29|        58|       962|                   154|    2|   55|           78|   []|  null| null|\n",
      "| 11|     Kara|125|   125| 40|       14| 100|     100|        93|       795|                   280|    1|   54|           40|   []|  null| null|\n",
      "| 12|   Landon|134|   134| 43|       27|   4|       4|        83|       682|                   935|    8|   88|           16|   []|  null| null|\n",
      "| 13|    Malys| 52|    52|  2|        0|  99|      99|        50|       327|                   985|    3|   92|           75|   []|  null| null|\n",
      "| 14|    Nolan| 54|    54| 13|       26|  42|      42|        17|        56|                   432|    6|   63|           86|   []|  null| null|\n",
      "| 15|   Olivia| 72|    72| 33|       50|  38|      38|        28|       222|                   590|    3|   56|           87|   []|  null| null|\n",
      "| 16| Philemon|101|   101| 33|       29|  64|      64|        32|       167|                   801|    3|   63|            1|   []|  null| null|\n",
      "| 17|  Quintus|150|   150| 39|       32|  49|      49|         0|       852|                   468|    7|    9|           66|   []|  null| null|\n",
      "| 18|  Raphael|171|   171| 35|        4|  96|      96|        38|       903|                   860|    4|   60|           27|   []|  null|   18|\n",
      "| 19|  Saoirse|117|   117| 17|        5|  72|      72|         4|       629|                   300|    9|   48|           99|   []|  null| null|\n",
      "| 20| Thaddeus| 84|    84| 25|       29|  99|      99|        99|       470|                   129|    9|   36|           59|   []|  null| null|\n",
      "| 21|   Ursula|191|   191| 37|       14|  33|      33|        12|       841|                   460|   10|   67|            2|   []|  null| null|\n",
      "| 22| Valentin|154|   154| 25|       48|  84|      84|        20|       926|                   210|    5|   81|           33|   []|  null| null|\n",
      "| 23|  Wilhelm| 71|    71| 16|       16|   0|       0|        77|       693|                   414|    9|   24|            7|   []|  null| null|\n",
      "| 24|   Xander| 74|    74| 47|       25|  54|      54|        29|       488|                   390|    9|   20|           64|   []|  null| null|\n",
      "| 25|     Yara| 54|    54| 25|        6|  31|      31|        40|       364|                   545|    7|   95|           17|   []|  null| null|\n",
      "| 26|   Zander|157|   157| 27|       38|  74|      74|        70|       366|                   437|    3|   82|           47|   []|    26| null|\n",
      "| 27|    Aidan| 85|    85| 34|       21|  92|      92|        86|       464|                   816|    2|    3|           71|   []|  null| null|\n",
      "| 28|  Brianna| 68|    68| 12|       10|  16|      16|        71|       519|                   574|   10|   27|           62|   []|  null| null|\n",
      "| 29|    Caleb|175|   175| 20|       16|  18|      18|        47|       540|                   973|    1|   25|           95|   []|  null| null|\n",
      "| 30|   Dahlia| 72|    72| 34|       25|  61|      61|         9|       340|                   205|    7|   77|           35|   []|  null| null|\n",
      "| 31|   Evelyn| 88|    88| 23|       49|  11|      11|        90|       817|                   434|    4|   14|           18|   []|  null| null|\n",
      "| 32| Finnegan|190|   190|  6|       14|  83|      83|        78|       824|                   325|    4|   26|           29|   []|  null| null|\n",
      "| 33|Gwendolyn| 65|    65| 15|       36|  67|      67|        56|       294|                   123|    9|   68|           94|   []|  null| null|\n",
      "| 34|   Harvey|172|   172| 49|       19|  20|      20|        53|       322|                   108|    9|   59|           78|   []|  null| null|\n",
      "| 35|   Imogen|152|   152| 23|       21|  21|      21|        48|       108|                   439|   10|   82|           52|   []|  null| null|\n",
      "| 36|    Jaden| 52|    52| 44|        7|  98|      98|        92|       348|                   747|    7|   60|           12|   []|  null| null|\n",
      "| 37|   Kendra|106|   106| 38|       14|  83|      83|        79|       720|                   311|    3|   60|           76|   []|  null| null|\n",
      "| 38|     Liam| 69|    69|  3|       18|  62|      62|        79|       192|                   515|    1|   38|           48|   []|  null| null|\n",
      "| 39|  Matilda|148|   148| 44|       39|  83|      83|        51|       152|                   576|    2|   34|           19|   []|  null| null|\n",
      "| 40|    Niamh|134|   134| 14|       29|  53|      53|         0|       985|                   859|    3|   13|           64|   []|  null| null|\n",
      "| 41|  Ophelia|139|   139| 38|       21|  35|      35|       100|       655|                   864|    3|    8|            8|   []|  null| null|\n",
      "| 42| Percival| 89|    89|  3|        6|  56|      56|        67|       866|                   677|    9|   30|           58|   []|  null| null|\n",
      "| 43|    Qiana|107|   107| 24|       49|  93|      93|        92|       435|                   590|    3|   98|           74|   []|  null| null|\n",
      "| 44|    Riley|161|   161| 34|       26|  67|      67|        15|       316|                   710|   10|   44|           98|   []|  null| null|\n",
      "| 45|Sebastian|129|   129| 50|       14|  28|      28|        40|       949|                   709|    1|   43|           58|   []|  null| null|\n",
      "| 46|  Tristan|140|   140| 36|       11|  58|      58|         2|       952|                   242|    7|   44|           11|   []|  null| null|\n",
      "| 47|    Uriel|170|   170| 35|       24|  54|      54|        42|       824|                   494|    9|   18|           55|   []|  null| null|\n",
      "| 48|   Violet| 63|    63| 16|       45|  28|      28|        11|       190|                   336|    1|   44|           14|   []|  null| null|\n",
      "| 49|    Wyatt| 79|    79| 42|       19|  39|      39|        78|       593|                   939|    2|   11|           52|   []|  null| null|\n",
      "| 50|  Xiomara|108|   108| 38|       11|  72|      72|         2|       383|                   304|   10|   49|           13|   []|  null| null|\n",
      "+---+---------+---+------+---+---------+----+--------+----------+----------+----------------------+-----+-----+-------------+-----+------+-----+\n",
      "\n"
     ]
    }
   ],
   "source": [
    "request.show_DF('hero')"
   ]
  },
  {
   "cell_type": "code",
   "execution_count": 10,
   "id": "545a18e4-e6ef-4c3c-93f2-6f489a2c5dae",
   "metadata": {
    "tags": []
   },
   "outputs": [
    {
     "name": "stdout",
     "output_type": "stream",
     "text": [
      "+---+---------+---+------+---+---------+----+--------+----------+----------+----------------------+-----+-----+-------------+-----+------+-----+\n",
      "| id|     name| pv|max_pv|atk|atk_magik|mana|max_mana|initiative|experience|experience_to_level_up|level|speed|origine_speed|items|weapon|armor|\n",
      "+---+---------+---+------+---+---------+----+--------+----------+----------+----------------------+-----+-----+-------------+-----+------+-----+\n",
      "|  1|     Aria|189|   189|  1|       23|  35|      35|        61|        81|                   901|    5|   99|           11|   []|  null| null|\n",
      "|  2|Balthazar|162|   162| 29|       49|  67|      67|        32|       613|                   422|    5|   88|           23|   []|  null| null|\n",
      "|  3|Cassandra|103|   103| 43|       39|  50|      50|        88|       817|                   788|    8|   90|           87|   []|  null| null|\n",
      "|  4|   Darian| 75|    75| 30|       14|  66|      66|        86|       101|                   112|    6|   81|           60|   []|  null| null|\n",
      "|  5|    Elena|109|   109|  5|       35|  37|      37|        38|       816|                   329|   10|    9|           16|   []|  null| null|\n",
      "|  6|    Felix| 81|    81|  5|       45|  93|      93|        42|       608|                   961|    8|   69|            3|   []|  null| null|\n",
      "|  7|Gabrielle|192|   192|  3|        6|  26|      26|        24|       911|                   856|    9|   21|           37|   []|  null| null|\n",
      "|  8|  Hadrien|156|   156| 50|       32|   0|       0|        24|       318|                   235|    7|   92|           46|   []|  null| null|\n",
      "|  9|  Isadora| 61|    61| 49|       12|  83|      83|        32|       148|                   268|    5|   69|           41|   []|  null| null|\n",
      "| 10|   Jasper|183|   183| 22|        1|  29|      29|        58|       962|                   154|    2|   55|           78|   []|  null| null|\n",
      "| 11|     Kara|125|   125| 40|       14| 100|     100|        93|       795|                   280|    1|   54|           40|   []|  null| null|\n",
      "| 12|   Landon|134|   134| 43|       27|   4|       4|        83|       682|                   935|    8|   88|           16|   []|  null| null|\n",
      "| 13|    Malys| 52|    52|  2|        0|  99|      99|        50|       327|                   985|    3|   92|           75|   []|  null| null|\n",
      "| 14|    Nolan| 54|    54| 13|       26|  42|      42|        17|        56|                   432|    6|   63|           86|   []|  null| null|\n",
      "| 15|   Olivia| 72|    72| 33|       50|  38|      38|        28|       222|                   590|    3|   56|           87|   []|  null| null|\n",
      "| 16| Philemon|101|   101| 33|       29|  64|      64|        32|       167|                   801|    3|   63|            1|   []|  null| null|\n",
      "| 17|  Quintus|150|   150| 39|       32|  49|      49|         0|       852|                   468|    7|    9|           66|   []|  null| null|\n",
      "| 18|  Raphael|171|   171| 35|        4|  96|      96|        38|       903|                   860|    4|   60|           27|   []|  null|   18|\n",
      "| 19|  Saoirse|117|   117| 17|        5|  72|      72|         4|       629|                   300|    9|   48|           99|   []|  null| null|\n",
      "| 20| Thaddeus| 84|    84| 25|       29|  99|      99|        99|       470|                   129|    9|   36|           59|   []|  null| null|\n",
      "| 21|   Ursula|191|   191| 37|       14|  33|      33|        12|       841|                   460|   10|   67|            2|   []|  null| null|\n",
      "| 22| Valentin|154|   154| 25|       48|  84|      84|        20|       926|                   210|    5|   81|           33|   []|  null| null|\n",
      "| 23|  Wilhelm| 71|    71| 16|       16|   0|       0|        77|       693|                   414|    9|   24|            7|   []|  null| null|\n",
      "| 24|   Xander| 74|    74| 47|       25|  54|      54|        29|       488|                   390|    9|   20|           64|   []|  null| null|\n",
      "| 25|     Yara| 54|    54| 25|        6|  31|      31|        40|       364|                   545|    7|   95|           17|   []|  null| null|\n",
      "| 26|   Zander|157|   157| 27|       38|  74|      74|        70|       366|                   437|    3|   82|           47|   []|    26| null|\n",
      "| 27|    Aidan| 85|    85| 34|       21|  92|      92|        86|       464|                   816|    2|    3|           71|   []|  null| null|\n",
      "| 28|  Brianna| 68|    68| 12|       10|  16|      16|        71|       519|                   574|   10|   27|           62|   []|  null| null|\n",
      "| 29|    Caleb|175|   175| 20|       16|  18|      18|        47|       540|                   973|    1|   25|           95|   []|  null| null|\n",
      "| 30|   Dahlia| 72|    72| 34|       25|  61|      61|         9|       340|                   205|    7|   77|           35|   []|  null| null|\n",
      "| 31|   Evelyn| 88|    88| 23|       49|  11|      11|        90|       817|                   434|    4|   14|           18|   []|  null| null|\n",
      "| 32| Finnegan|190|   190|  6|       14|  83|      83|        78|       824|                   325|    4|   26|           29|   []|  null| null|\n",
      "| 33|Gwendolyn| 65|    65| 15|       36|  67|      67|        56|       294|                   123|    9|   68|           94|   []|  null| null|\n",
      "| 34|   Harvey|172|   172| 49|       19|  20|      20|        53|       322|                   108|    9|   59|           78|   []|  null| null|\n",
      "| 35|   Imogen|152|   152| 23|       21|  21|      21|        48|       108|                   439|   10|   82|           52|   []|  null| null|\n",
      "| 36|    Jaden| 52|    52| 44|        7|  98|      98|        92|       348|                   747|    7|   60|           12|   []|  null| null|\n",
      "| 37|   Kendra|106|   106| 38|       14|  83|      83|        79|       720|                   311|    3|   60|           76|   []|  null| null|\n",
      "| 38|     Liam| 69|    69|  3|       18|  62|      62|        79|       192|                   515|    1|   38|           48|   []|  null| null|\n",
      "| 39|  Matilda|148|   148| 44|       39|  83|      83|        51|       152|                   576|    2|   34|           19|   []|  null| null|\n",
      "| 40|    Niamh|134|   134| 14|       29|  53|      53|         0|       985|                   859|    3|   13|           64|   []|  null| null|\n",
      "| 41|  Ophelia|139|   139| 38|       21|  35|      35|       100|       655|                   864|    3|    8|            8|   []|  null| null|\n",
      "| 42| Percival| 89|    89|  3|        6|  56|      56|        67|       866|                   677|    9|   30|           58|   []|  null| null|\n",
      "| 43|    Qiana|107|   107| 24|       49|  93|      93|        92|       435|                   590|    3|   98|           74|   []|  null| null|\n",
      "| 44|    Riley|161|   161| 34|       26|  67|      67|        15|       316|                   710|   10|   44|           98|   []|  null| null|\n",
      "| 45|Sebastian|129|   129| 50|       14|  28|      28|        40|       949|                   709|    1|   43|           58|   []|  null| null|\n",
      "| 46|  Tristan|140|   140| 36|       11|  58|      58|         2|       952|                   242|    7|   44|           11|   []|  null| null|\n",
      "| 47|    Uriel|170|   170| 35|       24|  54|      54|        42|       824|                   494|    9|   18|           55|   []|  null| null|\n",
      "| 48|   Violet| 63|    63| 16|       45|  28|      28|        11|       190|                   336|    1|   44|           14|   []|  null| null|\n",
      "| 49|    Wyatt| 79|    79| 42|       19|  39|      39|        78|       593|                   939|    2|   11|           52|   []|  null| null|\n",
      "| 50|  Xiomara|108|   108| 38|       11|  72|      72|         2|       383|                   304|   10|   49|           13|   []|  null| null|\n",
      "+---+---------+---+------+---+---------+----+--------+----------+----------+----------------------+-----+-----+-------------+-----+------+-----+\n",
      "\n",
      "+---+--------------------+-----+-----------+----+----------+--------------+------+\n",
      "| id|                name|armor|armor_magik|mana|durability|max_durability|broken|\n",
      "+---+--------------------+-----+-----------+----+----------+--------------+------+\n",
      "|  1|      Armure de cuir|    1|          1|   3|         9|            16| false|\n",
      "|  2|       Armure de fer|    7|          1|   4|         8|            16| false|\n",
      "|  3|    Armure de plaque|    2|          0|   1|         3|            17| false|\n",
      "|  4|   Armure de mailles|   10|          5|   5|         8|            10| false|\n",
      "|  5|     Armure de glace|    8|          2|   1|         2|            15| false|\n",
      "|  6|         Armure d'os|    3|          1|   1|         3|            16| false|\n",
      "|  7|    Armure d'cailles|   10|          5|   4|         8|            13| false|\n",
      "|  8|    Armure de dragon|   10|          3|   5|         8|            20| false|\n",
      "|  9|    Armure de lumire|    7|          0|   0|         2|            19| false|\n",
      "| 10|    Armure de tnbres|    9|          0|   4|         1|            11| false|\n",
      "| 11|   Armure de cristal|    9|          5|   4|         9|            18| false|\n",
      "| 12|   Armure de mithril|    3|          5|   4|         5|            20| false|\n",
      "| 13|   Armure de diamant|    8|          4|   3|        10|            20| false|\n",
      "| 14|       Armure de feu|    6|          5|   3|         9|            10| false|\n",
      "| 15|    Armure de foudre|    2|          4|   0|         4|            17| false|\n",
      "| 16|     Armure de glace|    7|          1|   4|        10|            18| false|\n",
      "| 17|      Armure de vent|    8|          4|   4|         4|            16| false|\n",
      "| 18|     Armure de l'eau|    3|          4|   3|         7|            13| false|\n",
      "| 19|     Armure de terre|    4|          3|   5|         3|            10| false|\n",
      "| 20|     Armure de roche|    7|          2|   4|         9|            17| false|\n",
      "| 21|      Armure de bois|    3|          0|   1|         4|            11| false|\n",
      "| 22|      Armure de mtal|    2|          2|   4|         6|            10| false|\n",
      "| 23|     Armure de magma|    5|          1|   0|         9|            14| false|\n",
      "| 24|      Armure de nant|   10|          2|   4|         8|            19| false|\n",
      "| 25|Armure de lumines...|    5|          2|   1|         4|            10| false|\n",
      "| 26|     Armure de brume|    6|          1|   0|        10|            16| false|\n",
      "| 27|    Armure de tempte|    2|          0|   4|         7|            15| false|\n",
      "| 28|      Armure de mort|    7|          4|   5|         5|            15| false|\n",
      "| 29|       Armure de vie|    4|          4|   0|         4|            15| false|\n",
      "| 30|   Armure de gurison|    5|          5|   5|         2|            18| false|\n",
      "| 31|     Armure de force|   10|          0|   5|         2|            18| false|\n",
      "| 32|   Armure de sagesse|    9|          2|   1|         9|            16| false|\n",
      "| 33|    Armure de chance|    1|          3|   1|        10|            19| false|\n",
      "| 34| Armure de la nature|    8|          5|   2|         7|            14| false|\n",
      "| 35|    Armure des anges|    1|          2|   2|         5|            12| false|\n",
      "| 36|    Armure des dmons|    1|          3|   0|         3|            16| false|\n",
      "| 37|     Armure des hros|    1|          4|   4|         6|            18| false|\n",
      "| 38|     Armure des rois|    3|          0|   2|        10|            14| false|\n",
      "| 39|    Armure des elfes|    9|          4|   5|         9|            11| false|\n",
      "| 40|    Armure des nains|    4|          4|   4|         2|            18| false|\n",
      "| 41|   Armure des gnomes|    6|          4|   4|         6|            13| false|\n",
      "| 42|     Armure des orcs|    1|          3|   1|         4|            19| false|\n",
      "| 43| Armure des gobelins|    9|          5|   0|         6|            19| false|\n",
      "| 44|   Armure des trolls|    3|          2|   3|         9|            11| false|\n",
      "| 45|    Armure des gants|    6|          3|   0|         6|            17| false|\n",
      "| 46|      Armure de lave|    3|          2|   4|         5|            11| false|\n",
      "| 47|Armure de lumire ...|    4|          3|   1|         7|            20| false|\n",
      "| 48|   Armure de l'ombre|    7|          5|   4|         9|            17| false|\n",
      "| 49|    Armure de l'ocan|    6|          4|   2|         7|            20| false|\n",
      "| 50|    Armure des vents|    2|          0|   3|         4|            19| false|\n",
      "+---+--------------------+-----+-----------+----+----------+--------------+------+\n",
      "\n",
      "+---+--------------------+---+---------+----+---------+----------+--------------+------+\n",
      "| id|                name|atk|atk_magik|mana|mana_cost|durability|max_durability|broken|\n",
      "+---+--------------------+---+---------+----+---------+----------+--------------+------+\n",
      "|  1|       pe de cristal|  2|        1|   4|        2|         1|            14| false|\n",
      "|  2|     Hache de guerre|  3|        5|   0|        3|         1|            10| false|\n",
      "|  3|         Bton de feu|  5|        5|   2|        3|         6|            12| false|\n",
      "|  4|    Dague empoisonne|  6|        2|   5|        4|         9|            13| false|\n",
      "|  5|            Arc long|  3|        1|   2|        2|        10|            10| false|\n",
      "|  6|       Masse d'armes|  1|        3|   2|        3|         9|            17| false|\n",
      "|  7|      Lance d'argent|  1|        0|   5|        5|         9|            17| false|\n",
      "|  8|    Baguette magique|  8|        5|   2|        1|        10|            10| false|\n",
      "|  9|             Gourdin|  6|        2|   0|        4|         2|            17| false|\n",
      "| 10|              Katana|  6|        1|   1|        3|         7|            12| false|\n",
      "| 11|     Fouet de combat|  3|        2|   1|        3|         7|            20| false|\n",
      "| 12|Fleuret du duelliste| 10|        3|   0|        3|         2|            11| false|\n",
      "| 13|   Marteau de guerre|  7|        2|   2|        2|         2|            19| false|\n",
      "| 14|              Glaive|  1|        3|   1|        2|         1|            10| false|\n",
      "| 15|              Rapire|  6|        3|   3|        5|         6|            10| false|\n",
      "| 16|             Arbalte|  7|        0|   5|        4|         7|            19| false|\n",
      "| 17|          Hallebarde|  7|        4|   5|        4|         1|            11| false|\n",
      "| 18|   Gantelet de force|  5|        3|   0|        4|         4|            15| false|\n",
      "| 19|       Canne de mage| 10|        1|   1|        2|         4|            17| false|\n",
      "| 20|  Livre de sortilges|  2|        2|   4|        4|         4|            12| false|\n",
      "| 21|                Flau|  7|        5|   0|        1|         5|            10| false|\n",
      "| 22|           Arc court|  8|        4|   2|        4|         7|            16| false|\n",
      "| 23|           Cimeterre|  8|        5|   3|        1|         4|            10| false|\n",
      "| 24|   Couteau de lancer|  6|        5|   5|        5|         2|            16| false|\n",
      "| 25|            Poignard|  6|        5|   3|        2|         6|            17| false|\n",
      "| 26|           pe btarde|  1|        0|   5|        5|         5|            19| false|\n",
      "| 27|        Hache double|  6|        4|   2|        3|         1|            19| false|\n",
      "| 28|       Bton de glace|  1|        2|   4|        2|         3|            20| false|\n",
      "| 29|       Dague runique|  8|        3|   3|        3|         5|            20| false|\n",
      "| 30|       Arc de chasse|  9|        2|   2|        2|         6|            15| false|\n",
      "| 31|     Marteau de Thor|  5|        3|   4|        2|         1|            17| false|\n",
      "| 32|  Lance de la foudre|  6|        5|   5|        3|         7|            18| false|\n",
      "| 33| Baguette d'illusion|  9|        4|   0|        5|         5|            16| false|\n",
      "| 34|      Gourdin pineux|  1|        3|   5|        3|         2|            15| false|\n",
      "| 35|           Wakizashi|  7|        0|   5|        4|         9|            10| false|\n",
      "| 36|        Fouet barbel|  1|        1|   3|        2|         2|            15| false|\n",
      "| 37|           pe courte| 10|        0|   4|        2|         4|            12| false|\n",
      "| 38|     Marteau-piqueur|  8|        5|   5|        2|         4|            10| false|\n",
      "| 39|   Glaive du serpent|  1|        1|   3|        5|         3|            14| false|\n",
      "| 40|    Rapire en argent|  1|        2|   4|        5|         3|            10| false|\n",
      "| 41|   Arbalte  rptition|  4|        3|   2|        1|         4|            15| false|\n",
      "| 42|Hallebarde du jug...|  4|        1|   1|        5|         2|            18| false|\n",
      "| 43|   Gantelet du titan|  7|        2|   3|        3|         6|            10| false|\n",
      "| 44|          Canne  feu|  8|        5|   0|        2|         6|            15| false|\n",
      "| 45|Livre de connaiss...|  2|        3|   2|        2|         6|            13| false|\n",
      "| 46|     Flau des tnbres|  2|        4|   5|        1|         8|            17| false|\n",
      "| 47|Arc de la lune noire|  8|        5|   4|        4|         7|            19| false|\n",
      "| 48| Cimeterre dmoniaque|  4|        1|   3|        4|         9|            17| false|\n",
      "| 49|Couteau de jet em...|  1|        1|   3|        1|         4|            17| false|\n",
      "| 50| Poignard de l'ombre|  5|        3|   5|        2|         3|            17| false|\n",
      "+---+--------------------+---+---------+----+---------+----------+--------------+------+\n",
      "\n"
     ]
    }
   ],
   "source": [
    "request.show_DFs()"
   ]
  },
  {
   "cell_type": "code",
   "execution_count": 11,
   "id": "759dbc95-bac3-4efe-8703-ed64858b9c80",
   "metadata": {
    "tags": []
   },
   "outputs": [],
   "source": [
    "condition = when(col('id').between(10, 15), 11)\n",
    "request.update(\"hero\", \"armor\", condition)"
   ]
  },
  {
   "cell_type": "code",
   "execution_count": 12,
   "id": "962ed4ba-4192-46b8-906a-3062db3790c8",
   "metadata": {
    "tags": []
   },
   "outputs": [
    {
     "name": "stdout",
     "output_type": "stream",
     "text": [
      "JOIN armor on hero.armor = armor.id\n",
      "WHERE hero.armor is not null\n",
      "\n",
      "                SELECT *\n",
      "                FROM hero \n",
      "                JOIN armor on hero.armor = armor.id\n",
      "                WHERE hero.armor is not null\n",
      "                \n",
      "+---+-------+---+------+---+---------+----+--------+----------+----------+----------------------+-----+-----+-------------+-----+------+-----+---+-----------------+-----+-----------+----+----------+--------------+------+\n",
      "|id |name   |pv |max_pv|atk|atk_magik|mana|max_mana|initiative|experience|experience_to_level_up|level|speed|origine_speed|items|weapon|armor|id |name             |armor|armor_magik|mana|durability|max_durability|broken|\n",
      "+---+-------+---+------+---+---------+----+--------+----------+----------+----------------------+-----+-----+-------------+-----+------+-----+---+-----------------+-----+-----------+----+----------+--------------+------+\n",
      "|10 |Jasper |183|183   |22 |1        |29  |29      |58        |962       |154                   |2    |55   |78           |[]   |null  |11   |11 |Armure de cristal|9    |5          |4   |9         |18            |false |\n",
      "|11 |Kara   |125|125   |40 |14       |100 |100     |93        |795       |280                   |1    |54   |40           |[]   |null  |11   |11 |Armure de cristal|9    |5          |4   |9         |18            |false |\n",
      "|12 |Landon |134|134   |43 |27       |4   |4       |83        |682       |935                   |8    |88   |16           |[]   |null  |11   |11 |Armure de cristal|9    |5          |4   |9         |18            |false |\n",
      "|13 |Malys  |52 |52    |2  |0        |99  |99      |50        |327       |985                   |3    |92   |75           |[]   |null  |11   |11 |Armure de cristal|9    |5          |4   |9         |18            |false |\n",
      "|14 |Nolan  |54 |54    |13 |26       |42  |42      |17        |56        |432                   |6    |63   |86           |[]   |null  |11   |11 |Armure de cristal|9    |5          |4   |9         |18            |false |\n",
      "|15 |Olivia |72 |72    |33 |50       |38  |38      |28        |222       |590                   |3    |56   |87           |[]   |null  |11   |11 |Armure de cristal|9    |5          |4   |9         |18            |false |\n",
      "|18 |Raphael|171|171   |35 |4        |96  |96      |38        |903       |860                   |4    |60   |27           |[]   |null  |18   |18 |Armure de l'eau  |3    |4          |3   |7         |13            |false |\n",
      "+---+-------+---+------+---+---------+----+--------+----------+----------+----------------------+-----+-----+-------------+-----+------+-----+---+-----------------+-----+-----------+----+----------+--------------+------+\n",
      "\n"
     ]
    }
   ],
   "source": [
    "request.select(\"hero\", \"*\", \"hero.armor is not null\", \"armor\")"
   ]
  },
  {
   "cell_type": "code",
   "execution_count": 13,
   "id": "021ff347-9342-45d8-9007-850a7006e3ef",
   "metadata": {
    "tags": []
   },
   "outputs": [
    {
     "name": "stdout",
     "output_type": "stream",
     "text": [
      "JOIN armor on hero.armor = armor.id\n",
      "WHERE hero.armor is not null\n",
      "\n",
      "                SELECT *\n",
      "                FROM hero \n",
      "                JOIN armor on hero.armor = armor.id\n",
      "                WHERE hero.armor is not null\n",
      "                \n",
      "+---+---------+---+------+---+---------+----+--------+----------+----------+----------------------+-----+-----+-------------+-----+------+-----+---+-----------------+-----+-----------+----+----------+--------------+------+\n",
      "|id |name     |pv |max_pv|atk|atk_magik|mana|max_mana|initiative|experience|experience_to_level_up|level|speed|origine_speed|items|weapon|armor|id |name             |armor|armor_magik|mana|durability|max_durability|broken|\n",
      "+---+---------+---+------+---+---------+----+--------+----------+----------+----------------------+-----+-----+-------------+-----+------+-----+---+-----------------+-----+-----------+----+----------+--------------+------+\n",
      "|1  |Aria     |189|189   |1  |23       |35  |35      |61        |81        |901                   |5    |99   |11           |[]   |null  |7    |7  |Armure d'cailles |10   |5          |4   |8         |13            |false |\n",
      "|2  |Balthazar|162|162   |29 |49       |67  |67      |32        |613       |422                   |5    |88   |23           |[]   |null  |7    |7  |Armure d'cailles |10   |5          |4   |8         |13            |false |\n",
      "|3  |Cassandra|103|103   |43 |39       |50  |50      |88        |817       |788                   |8    |90   |87           |[]   |null  |7    |7  |Armure d'cailles |10   |5          |4   |8         |13            |false |\n",
      "|4  |Darian   |75 |75    |30 |14       |66  |66      |86        |101       |112                   |6    |81   |60           |[]   |null  |7    |7  |Armure d'cailles |10   |5          |4   |8         |13            |false |\n",
      "|10 |Jasper   |183|183   |22 |1        |29  |29      |58        |962       |154                   |2    |55   |78           |[]   |null  |11   |11 |Armure de cristal|9    |5          |4   |9         |18            |false |\n",
      "|11 |Kara     |125|125   |40 |14       |100 |100     |93        |795       |280                   |1    |54   |40           |[]   |null  |11   |11 |Armure de cristal|9    |5          |4   |9         |18            |false |\n",
      "|12 |Landon   |134|134   |43 |27       |4   |4       |83        |682       |935                   |8    |88   |16           |[]   |null  |11   |11 |Armure de cristal|9    |5          |4   |9         |18            |false |\n",
      "|13 |Malys    |52 |52    |2  |0        |99  |99      |50        |327       |985                   |3    |92   |75           |[]   |null  |11   |11 |Armure de cristal|9    |5          |4   |9         |18            |false |\n",
      "|14 |Nolan    |54 |54    |13 |26       |42  |42      |17        |56        |432                   |6    |63   |86           |[]   |null  |11   |11 |Armure de cristal|9    |5          |4   |9         |18            |false |\n",
      "|15 |Olivia   |72 |72    |33 |50       |38  |38      |28        |222       |590                   |3    |56   |87           |[]   |null  |11   |11 |Armure de cristal|9    |5          |4   |9         |18            |false |\n",
      "|18 |Raphael  |171|171   |35 |4        |96  |96      |38        |903       |860                   |4    |60   |27           |[]   |null  |18   |18 |Armure de l'eau  |3    |4          |3   |7         |13            |false |\n",
      "+---+---------+---+------+---+---------+----+--------+----------+----------+----------------------+-----+-----+-------------+-----+------+-----+---+-----------------+-----+-----------+----+----------+--------------+------+\n",
      "\n"
     ]
    }
   ],
   "source": [
    "\n",
    "condition = when((col('armor').isNull()) & (col('id') < 5), 7)\n",
    "request.update(\"hero\", \"armor\", condition)\n",
    "request.select(\"hero\", \"*\", \"hero.armor is not null\", \"armor\")"
   ]
  },
  {
   "cell_type": "code",
   "execution_count": null,
   "id": "fd8a651b-6cdc-4909-97a1-72d14efba9e2",
   "metadata": {},
   "outputs": [],
   "source": []
  },
  {
   "cell_type": "code",
   "execution_count": null,
   "id": "c42d523e-10ec-4f79-bbee-19fd94b5fea3",
   "metadata": {},
   "outputs": [],
   "source": []
  },
  {
   "cell_type": "code",
   "execution_count": null,
   "id": "a9407803-c424-4942-ab1d-c3270764a3c3",
   "metadata": {},
   "outputs": [],
   "source": []
  },
  {
   "cell_type": "code",
   "execution_count": null,
   "id": "cee77c7f-7f4c-46ca-b84d-cd642e3b1ea6",
   "metadata": {},
   "outputs": [],
   "source": []
  },
  {
   "cell_type": "code",
   "execution_count": null,
   "id": "1ba5225c-4c03-45d0-9631-27f82384c67e",
   "metadata": {},
   "outputs": [],
   "source": []
  },
  {
   "cell_type": "code",
   "execution_count": null,
   "id": "738e7e3c-0a51-4285-a459-8b16d075e20e",
   "metadata": {},
   "outputs": [],
   "source": []
  },
  {
   "cell_type": "code",
   "execution_count": null,
   "id": "e090728e-41cd-439e-bdc0-84117cf95412",
   "metadata": {},
   "outputs": [],
   "source": []
  },
  {
   "cell_type": "code",
   "execution_count": null,
   "id": "91d04df8-bc38-485d-9086-6e7ee44667d2",
   "metadata": {},
   "outputs": [],
   "source": []
  },
  {
   "cell_type": "code",
   "execution_count": null,
   "id": "476848ed-7bf9-4e1d-bffa-6d0f3c140321",
   "metadata": {},
   "outputs": [],
   "source": []
  },
  {
   "cell_type": "code",
   "execution_count": null,
   "id": "7b42bc67-6708-4d15-8f4e-4253ed1be16a",
   "metadata": {},
   "outputs": [],
   "source": []
  },
  {
   "cell_type": "code",
   "execution_count": null,
   "id": "c731a864-0e84-4a1c-941b-311d0cdeda73",
   "metadata": {},
   "outputs": [],
   "source": []
  },
  {
   "cell_type": "code",
   "execution_count": null,
   "id": "10d80e92-b534-4543-acc2-e8e92a57289e",
   "metadata": {},
   "outputs": [],
   "source": []
  },
  {
   "cell_type": "code",
   "execution_count": null,
   "id": "4eeb2095-2d4a-4034-a1cf-41b7b83468cf",
   "metadata": {},
   "outputs": [],
   "source": []
  }
 ],
 "metadata": {
  "kernelspec": {
   "display_name": "Python 3 (ipykernel)",
   "language": "python",
   "name": "python3"
  },
  "language_info": {
   "codemirror_mode": {
    "name": "ipython",
    "version": 3
   },
   "file_extension": ".py",
   "mimetype": "text/x-python",
   "name": "python",
   "nbconvert_exporter": "python",
   "pygments_lexer": "ipython3",
   "version": "3.11.2"
  }
 },
 "nbformat": 4,
 "nbformat_minor": 5
}
